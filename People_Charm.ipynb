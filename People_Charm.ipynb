{
 "cells": [
  {
   "cell_type": "markdown",
   "metadata": {},
   "source": [
    "# Loading The Dataset\n",
    "\n",
    "## VISIT : https://github.com/Debjeet-Das/People_Charm"
   ]
  },
  {
   "cell_type": "code",
   "execution_count": 1,
   "metadata": {
    "scrolled": true
   },
   "outputs": [
    {
     "data": {
      "text/html": [
       "<div>\n",
       "<style scoped>\n",
       "    .dataframe tbody tr th:only-of-type {\n",
       "        vertical-align: middle;\n",
       "    }\n",
       "\n",
       "    .dataframe tbody tr th {\n",
       "        vertical-align: top;\n",
       "    }\n",
       "\n",
       "    .dataframe thead th {\n",
       "        text-align: right;\n",
       "    }\n",
       "</style>\n",
       "<table border=\"1\" class=\"dataframe\">\n",
       "  <thead>\n",
       "    <tr style=\"text-align: right;\">\n",
       "      <th></th>\n",
       "      <th>satisfactoryLevel</th>\n",
       "      <th>lastEvaluation</th>\n",
       "      <th>numberOfProjects</th>\n",
       "      <th>avgMonthlyHours</th>\n",
       "      <th>timeSpent.company</th>\n",
       "      <th>workAccident</th>\n",
       "      <th>left</th>\n",
       "      <th>promotionInLast5years</th>\n",
       "      <th>dept</th>\n",
       "      <th>salary</th>\n",
       "    </tr>\n",
       "  </thead>\n",
       "  <tbody>\n",
       "    <tr>\n",
       "      <th>0</th>\n",
       "      <td>0.38</td>\n",
       "      <td>0.53</td>\n",
       "      <td>2</td>\n",
       "      <td>157</td>\n",
       "      <td>3</td>\n",
       "      <td>0</td>\n",
       "      <td>1</td>\n",
       "      <td>0</td>\n",
       "      <td>sales</td>\n",
       "      <td>low</td>\n",
       "    </tr>\n",
       "    <tr>\n",
       "      <th>1</th>\n",
       "      <td>0.80</td>\n",
       "      <td>0.86</td>\n",
       "      <td>5</td>\n",
       "      <td>262</td>\n",
       "      <td>6</td>\n",
       "      <td>0</td>\n",
       "      <td>1</td>\n",
       "      <td>0</td>\n",
       "      <td>sales</td>\n",
       "      <td>medium</td>\n",
       "    </tr>\n",
       "    <tr>\n",
       "      <th>2</th>\n",
       "      <td>0.11</td>\n",
       "      <td>0.88</td>\n",
       "      <td>7</td>\n",
       "      <td>272</td>\n",
       "      <td>4</td>\n",
       "      <td>0</td>\n",
       "      <td>1</td>\n",
       "      <td>0</td>\n",
       "      <td>sales</td>\n",
       "      <td>medium</td>\n",
       "    </tr>\n",
       "    <tr>\n",
       "      <th>3</th>\n",
       "      <td>0.37</td>\n",
       "      <td>0.52</td>\n",
       "      <td>2</td>\n",
       "      <td>159</td>\n",
       "      <td>3</td>\n",
       "      <td>0</td>\n",
       "      <td>1</td>\n",
       "      <td>0</td>\n",
       "      <td>sales</td>\n",
       "      <td>low</td>\n",
       "    </tr>\n",
       "    <tr>\n",
       "      <th>4</th>\n",
       "      <td>0.41</td>\n",
       "      <td>0.50</td>\n",
       "      <td>2</td>\n",
       "      <td>153</td>\n",
       "      <td>3</td>\n",
       "      <td>0</td>\n",
       "      <td>1</td>\n",
       "      <td>0</td>\n",
       "      <td>sales</td>\n",
       "      <td>low</td>\n",
       "    </tr>\n",
       "  </tbody>\n",
       "</table>\n",
       "</div>"
      ],
      "text/plain": [
       "   satisfactoryLevel  lastEvaluation  numberOfProjects  avgMonthlyHours  \\\n",
       "0               0.38            0.53                 2              157   \n",
       "1               0.80            0.86                 5              262   \n",
       "2               0.11            0.88                 7              272   \n",
       "3               0.37            0.52                 2              159   \n",
       "4               0.41            0.50                 2              153   \n",
       "\n",
       "   timeSpent.company  workAccident  left  promotionInLast5years   dept  salary  \n",
       "0                  3             0     1                      0  sales     low  \n",
       "1                  6             0     1                      0  sales  medium  \n",
       "2                  4             0     1                      0  sales  medium  \n",
       "3                  3             0     1                      0  sales     low  \n",
       "4                  3             0     1                      0  sales     low  "
      ]
     },
     "execution_count": 1,
     "metadata": {},
     "output_type": "execute_result"
    }
   ],
   "source": [
    "import pandas as pd\n",
    "import numpy as np\n",
    "data= pd.read_csv(\"People Charm case.csv\")\n",
    "data.head()"
   ]
  },
  {
   "cell_type": "markdown",
   "metadata": {},
   "source": [
    "# EDA :\n",
    "  - Checking the shape of the data\n",
    "  - Checking the dtype of each column in the dataset.\n",
    "  - Treating the Null or missing values in the dataset.\n",
    "  - Checking the Skewness of the data.\n",
    "  - Checking wether the data is imbalanced or not.\n",
    "  - Checking for outliers in the dataset."
   ]
  },
  {
   "cell_type": "code",
   "execution_count": 2,
   "metadata": {},
   "outputs": [
    {
     "name": "stdout",
     "output_type": "stream",
     "text": [
      "<class 'pandas.core.frame.DataFrame'>\n",
      "RangeIndex: 14999 entries, 0 to 14998\n",
      "Data columns (total 10 columns):\n",
      "satisfactoryLevel        14999 non-null float64\n",
      "lastEvaluation           14999 non-null float64\n",
      "numberOfProjects         14999 non-null int64\n",
      "avgMonthlyHours          14999 non-null int64\n",
      "timeSpent.company        14999 non-null int64\n",
      "workAccident             14999 non-null int64\n",
      "left                     14999 non-null int64\n",
      "promotionInLast5years    14999 non-null int64\n",
      "dept                     14999 non-null object\n",
      "salary                   14999 non-null object\n",
      "dtypes: float64(2), int64(6), object(2)\n",
      "memory usage: 1.1+ MB\n"
     ]
    }
   ],
   "source": [
    "# Information about the dataset\n",
    "data.info()"
   ]
  },
  {
   "cell_type": "code",
   "execution_count": 3,
   "metadata": {
    "scrolled": true
   },
   "outputs": [
    {
     "data": {
      "text/plain": [
       "satisfactoryLevel        0.0\n",
       "lastEvaluation           0.0\n",
       "numberOfProjects         0.0\n",
       "avgMonthlyHours          0.0\n",
       "timeSpent.company        0.0\n",
       "workAccident             0.0\n",
       "left                     0.0\n",
       "promotionInLast5years    0.0\n",
       "dept                     0.0\n",
       "salary                   0.0\n",
       "dtype: float64"
      ]
     },
     "execution_count": 3,
     "metadata": {},
     "output_type": "execute_result"
    }
   ],
   "source": [
    "# checking the null values in the dataset\n",
    "data.isnull().sum()/len(data)"
   ]
  },
  {
   "cell_type": "markdown",
   "metadata": {},
   "source": [
    "# Box plot for checking the outliers in the dataset:\n",
    "   - Here we can see that there are outliers in the timespent.company column in the dataset.\n",
    "   - thus we treat the outliers by capping method."
   ]
  },
  {
   "cell_type": "code",
   "execution_count": 4,
   "metadata": {
    "scrolled": true
   },
   "outputs": [
    {
     "data": {
      "image/png": "[encoded data removed]",
      "text/plain": [
       "<Figure size 432x288 with 1 Axes>"
      ]
     },
     "metadata": {
      "needs_background": "light"
     },
     "output_type": "display_data"
    }
   ],
   "source": [
    "import matplotlib.pyplot as plt\n",
    "%matplotlib inline\n",
    "plt.boxplot([data[\"satisfactoryLevel\"],data[\"timeSpent.company\"],data[\"lastEvaluation\"]])\n",
    "plt.xticks([1,2,3],[\"satisfactoryLevel\",\"timeSpent.company\",\"lastEvaluation\"])\n",
    "plt.show()"
   ]
  },
  {
   "cell_type": "code",
   "execution_count": 5,
   "metadata": {},
   "outputs": [],
   "source": [
    "# Capping the outliers\n",
    "Q1 = data[\"timeSpent.company\"].quantile(0.25)\n",
    "Q3 = data[\"timeSpent.company\"].quantile(0.75)\n",
    "IQR = Q3 - Q1\n",
    "out_ls=[]\n",
    "for i in data[\"timeSpent.company\"]:\n",
    "    if(i<Q1-(1.5*IQR)):\n",
    "        i=Q1-(1.5*IQR)\n",
    "        out_ls.append(i)\n",
    "    elif (i>Q3+(1.5*IQR)):\n",
    "        i=Q3+(1.5*IQR)\n",
    "        out_ls.append(i)\n",
    "    else:\n",
    "        out_ls.append(i)"
   ]
  },
  {
   "cell_type": "code",
   "execution_count": 6,
   "metadata": {},
   "outputs": [],
   "source": [
    "# Dropping the original column which had outliers and adding a new column with the capped values for the outliers.\n",
    "\n",
    "data=data.drop(columns=[\"timeSpent.company\"])\n",
    "data[\"timeSpent.company\"]=out_ls"
   ]
  },
  {
   "cell_type": "code",
   "execution_count": 7,
   "metadata": {},
   "outputs": [
    {
     "data": {
      "text/html": [
       "<div>\n",
       "<style scoped>\n",
       "    .dataframe tbody tr th:only-of-type {\n",
       "        vertical-align: middle;\n",
       "    }\n",
       "\n",
       "    .dataframe tbody tr th {\n",
       "        vertical-align: top;\n",
       "    }\n",
       "\n",
       "    .dataframe thead th {\n",
       "        text-align: right;\n",
       "    }\n",
       "</style>\n",
       "<table border=\"1\" class=\"dataframe\">\n",
       "  <thead>\n",
       "    <tr style=\"text-align: right;\">\n",
       "      <th></th>\n",
       "      <th>left</th>\n",
       "    </tr>\n",
       "    <tr>\n",
       "      <th>dept</th>\n",
       "      <th></th>\n",
       "    </tr>\n",
       "  </thead>\n",
       "  <tbody>\n",
       "    <tr>\n",
       "      <th>sales</th>\n",
       "      <td>4140</td>\n",
       "    </tr>\n",
       "    <tr>\n",
       "      <th>technical</th>\n",
       "      <td>2720</td>\n",
       "    </tr>\n",
       "    <tr>\n",
       "      <th>support</th>\n",
       "      <td>2229</td>\n",
       "    </tr>\n",
       "    <tr>\n",
       "      <th>IT</th>\n",
       "      <td>1227</td>\n",
       "    </tr>\n",
       "    <tr>\n",
       "      <th>product_mng</th>\n",
       "      <td>902</td>\n",
       "    </tr>\n",
       "    <tr>\n",
       "      <th>marketing</th>\n",
       "      <td>858</td>\n",
       "    </tr>\n",
       "    <tr>\n",
       "      <th>RandD</th>\n",
       "      <td>787</td>\n",
       "    </tr>\n",
       "    <tr>\n",
       "      <th>accounting</th>\n",
       "      <td>767</td>\n",
       "    </tr>\n",
       "    <tr>\n",
       "      <th>hr</th>\n",
       "      <td>739</td>\n",
       "    </tr>\n",
       "    <tr>\n",
       "      <th>management</th>\n",
       "      <td>630</td>\n",
       "    </tr>\n",
       "  </tbody>\n",
       "</table>\n",
       "</div>"
      ],
      "text/plain": [
       "             left\n",
       "dept             \n",
       "sales        4140\n",
       "technical    2720\n",
       "support      2229\n",
       "IT           1227\n",
       "product_mng   902\n",
       "marketing     858\n",
       "RandD         787\n",
       "accounting    767\n",
       "hr            739\n",
       "management    630"
      ]
     },
     "execution_count": 7,
     "metadata": {},
     "output_type": "execute_result"
    }
   ],
   "source": [
    "# Salary count on compared with the target variable\n",
    "salarycount=data.pivot_table(index= [\"dept\"],values =\"left\",aggfunc=np.size).sort_values(by=\"left\",ascending = False)\n",
    "salarycount"
   ]
  },
  {
   "cell_type": "code",
   "execution_count": 8,
   "metadata": {
    "scrolled": true
   },
   "outputs": [
    {
     "data": {
      "text/plain": [
       "0        4140\n",
       "1        4140\n",
       "2        4140\n",
       "3        4140\n",
       "4        4140\n",
       "         ... \n",
       "14994    2229\n",
       "14995    4140\n",
       "14996    2720\n",
       "14997    4140\n",
       "14998    2229\n",
       "Name: dept, Length: 14999, dtype: int64"
      ]
     },
     "execution_count": 8,
     "metadata": {},
     "output_type": "execute_result"
    }
   ],
   "source": [
    "# dept. substituted by the count corresponding to its output\n",
    "\n",
    "salarycount=data.pivot_table(index= [\"dept\"],values =\"left\",aggfunc=np.size).sort_values(by=\"left\",ascending = False)\n",
    "salaryseries= pd.Series(salarycount[\"left\"],index=salarycount.index)\n",
    "data[\"dept\"]=data[\"dept\"].map(salaryseries)\n",
    "data[\"dept\"]"
   ]
  },
  {
   "cell_type": "code",
   "execution_count": 9,
   "metadata": {
    "scrolled": true
   },
   "outputs": [],
   "source": [
    "# label encoding on the numerically converted data\n",
    "from sklearn.preprocessing import LabelEncoder\n",
    "le=LabelEncoder()\n",
    "data[\"dept\"]=le.fit_transform(data[\"dept\"])\n"
   ]
  },
  {
   "cell_type": "code",
   "execution_count": 10,
   "metadata": {},
   "outputs": [
    {
     "data": {
      "text/plain": [
       "array([9, 2, 1, 8, 7, 6, 5, 4, 0, 3], dtype=int64)"
      ]
     },
     "execution_count": 10,
     "metadata": {},
     "output_type": "execute_result"
    }
   ],
   "source": [
    "# unique values in dept column after encoding\n",
    "data[\"dept\"].unique()"
   ]
  },
  {
   "cell_type": "code",
   "execution_count": 11,
   "metadata": {},
   "outputs": [
    {
     "data": {
      "text/html": [
       "<div>\n",
       "<style scoped>\n",
       "    .dataframe tbody tr th:only-of-type {\n",
       "        vertical-align: middle;\n",
       "    }\n",
       "\n",
       "    .dataframe tbody tr th {\n",
       "        vertical-align: top;\n",
       "    }\n",
       "\n",
       "    .dataframe thead th {\n",
       "        text-align: right;\n",
       "    }\n",
       "</style>\n",
       "<table border=\"1\" class=\"dataframe\">\n",
       "  <thead>\n",
       "    <tr style=\"text-align: right;\">\n",
       "      <th></th>\n",
       "      <th>left</th>\n",
       "    </tr>\n",
       "    <tr>\n",
       "      <th>salary</th>\n",
       "      <th></th>\n",
       "    </tr>\n",
       "  </thead>\n",
       "  <tbody>\n",
       "    <tr>\n",
       "      <th>low</th>\n",
       "      <td>7316</td>\n",
       "    </tr>\n",
       "    <tr>\n",
       "      <th>medium</th>\n",
       "      <td>6446</td>\n",
       "    </tr>\n",
       "    <tr>\n",
       "      <th>high</th>\n",
       "      <td>1237</td>\n",
       "    </tr>\n",
       "  </tbody>\n",
       "</table>\n",
       "</div>"
      ],
      "text/plain": [
       "        left\n",
       "salary      \n",
       "low     7316\n",
       "medium  6446\n",
       "high    1237"
      ]
     },
     "execution_count": 11,
     "metadata": {},
     "output_type": "execute_result"
    }
   ],
   "source": [
    "# salary count when compared to the target variable\n",
    "salarycount2=data.pivot_table(index= [\"salary\"],values =\"left\",aggfunc=np.size).sort_values(by=\"left\",ascending = False)\n",
    "salarycount2"
   ]
  },
  {
   "cell_type": "code",
   "execution_count": 12,
   "metadata": {},
   "outputs": [
    {
     "data": {
      "text/plain": [
       "0        7316\n",
       "1        6446\n",
       "2        6446\n",
       "3        7316\n",
       "4        7316\n",
       "         ... \n",
       "14994    6446\n",
       "14995    7316\n",
       "14996    7316\n",
       "14997    7316\n",
       "14998    7316\n",
       "Name: salary, Length: 14999, dtype: int64"
      ]
     },
     "execution_count": 12,
     "metadata": {},
     "output_type": "execute_result"
    }
   ],
   "source": [
    "# substituting salary with count of target variable on compared with salary\n",
    "salarycount2=data.pivot_table(index= [\"salary\"],values =\"left\",aggfunc=np.size).sort_values(by=\"left\",ascending = False)\n",
    "salaryseries2= pd.Series(salarycount2[\"left\"],index=salarycount2.index)\n",
    "data[\"salary\"]=data[\"salary\"].map(salaryseries2)\n",
    "data[\"salary\"]"
   ]
  },
  {
   "cell_type": "code",
   "execution_count": 13,
   "metadata": {},
   "outputs": [
    {
     "data": {
      "text/plain": [
       "array([7316, 6446, 1237], dtype=int64)"
      ]
     },
     "execution_count": 13,
     "metadata": {},
     "output_type": "execute_result"
    }
   ],
   "source": [
    "# Unique values in salary column after converting its categories into nemrical count of when compared with output variable\n",
    "data[\"salary\"].unique()"
   ]
  },
  {
   "cell_type": "code",
   "execution_count": 14,
   "metadata": {},
   "outputs": [],
   "source": [
    "# Label encoding the numerical transformed variable salary\n",
    "le=LabelEncoder()\n",
    "data[\"salary\"]=le.fit_transform(data[\"salary\"])"
   ]
  },
  {
   "cell_type": "code",
   "execution_count": 15,
   "metadata": {},
   "outputs": [
    {
     "data": {
      "text/plain": [
       "array([2, 1, 0], dtype=int64)"
      ]
     },
     "execution_count": 15,
     "metadata": {},
     "output_type": "execute_result"
    }
   ],
   "source": [
    "# unique values after label encoding\n",
    "data[\"salary\"].unique()"
   ]
  },
  {
   "cell_type": "markdown",
   "metadata": {},
   "source": [
    "# Importing the Libraries:"
   ]
  },
  {
   "cell_type": "code",
   "execution_count": 16,
   "metadata": {},
   "outputs": [],
   "source": [
    "from sklearn.model_selection import train_test_split\n",
    "from sklearn.neighbors import KNeighborsClassifier\n",
    "from sklearn.linear_model import LogisticRegression\n",
    "from sklearn.naive_bayes import GaussianNB, MultinomialNB , BernoulliNB\n",
    "from sklearn.tree import DecisionTreeClassifier\n",
    "from sklearn.ensemble import RandomForestClassifier,AdaBoostClassifier,GradientBoostingClassifier\n",
    "from xgboost import XGBClassifier\n",
    "from sklearn.metrics import accuracy_score,confusion_matrix,classification_report,roc_auc_score,roc_curve\n",
    "import seaborn as sns\n",
    "import matplotlib.pyplot as plt"
   ]
  },
  {
   "cell_type": "code",
   "execution_count": 17,
   "metadata": {},
   "outputs": [],
   "source": [
    "# creating the target variable column at the end and dropping the duplicate\n",
    "data[\"Target_left\"]=data[\"left\"]\n",
    "data=data.drop(\"left\",axis=1)"
   ]
  },
  {
   "cell_type": "markdown",
   "metadata": {},
   "source": [
    "# Checking the correlation:\n",
    "   - correlation is checked using the heatmap.\n",
    "   - Using only highly correlated variables for further modelling."
   ]
  },
  {
   "cell_type": "code",
   "execution_count": 86,
   "metadata": {
    "scrolled": true
   },
   "outputs": [
    {
     "data": {
      "text/plain": [
       "<matplotlib.axes._subplots.AxesSubplot at 0x26be5db81d0>"
      ]
     },
     "execution_count": 86,
     "metadata": {},
     "output_type": "execute_result"
    },
    {
     "data": {
      "image/png": "[encoded data removed]",
      "text/plain": [
       "<Figure size 1080x720 with 2 Axes>"
      ]
     },
     "metadata": {
      "needs_background": "light"
     },
     "output_type": "display_data"
    }
   ],
   "source": [
    "# checking the corelation\n",
    "plt.figure(figsize=(15,10))\n",
    "sns.heatmap(data.corr(),annot=True,cmap=\"Blues\")"
   ]
  },
  {
   "cell_type": "markdown",
   "metadata": {},
   "source": [
    "# Skewness in the data:\n",
    "   - Here we are using distplot from seaborn in order to see the skewness in the data visually. "
   ]
  },
  {
   "cell_type": "code",
   "execution_count": 87,
   "metadata": {
    "scrolled": true
   },
   "outputs": [
    {
     "data": {
      "text/plain": [
       "<function matplotlib.pyplot.show(*args, **kw)>"
      ]
     },
     "execution_count": 87,
     "metadata": {},
     "output_type": "execute_result"
    },
    {
     "data": {
      "image/png": "[encoded data removed]",
      "text/plain": [
       "<Figure size 432x288 with 1 Axes>"
      ]
     },
     "metadata": {
      "needs_background": "light"
     },
     "output_type": "display_data"
    }
   ],
   "source": [
    "sns.distplot(data.skew(),hist=False)\n",
    "plt.show"
   ]
  },
  {
   "cell_type": "markdown",
   "metadata": {},
   "source": [
    "# Checking the imbalanced Data:\n",
    "   - In the below graph we can easily see that the data has imbalanced classification.\n",
    "   - The data is imbalanced by the ratio of 3:1\n",
    "   - 76% of belongs to the class-0 and 24% belongs to class-1.\n"
   ]
  },
  {
   "cell_type": "code",
   "execution_count": 88,
   "metadata": {},
   "outputs": [
    {
     "data": {
      "text/plain": [
       "Text(0.5, 1.0, ' Class Frequncy')"
      ]
     },
     "execution_count": 88,
     "metadata": {},
     "output_type": "execute_result"
    },
    {
     "data": {
      "image/png": "[encoded data removed]",
      "text/plain": [
       "<Figure size 432x288 with 1 Axes>"
      ]
     },
     "metadata": {
      "needs_background": "light"
     },
     "output_type": "display_data"
    }
   ],
   "source": [
    "import seaborn as sns\n",
    "sns.countplot(data[\"Target_left\"])\n",
    "plt.xlabel(\"Classes\")\n",
    "plt.ylabel(\"frequency\")\n",
    "plt.title(\" Class Frequncy\")"
   ]
  },
  {
   "cell_type": "markdown",
   "metadata": {},
   "source": [
    "# Data Splitting:\n",
    "   - Data is splitted by keeping 20% of data for testing and remaining for training.\n",
    "   - random_state is used for evaluation of the model on the same samples of train and test set.\n",
    "   - Also we have splitted the log transformed data into train/test for GaussianNb model as it works best with such data."
   ]
  },
  {
   "cell_type": "code",
   "execution_count": 89,
   "metadata": {},
   "outputs": [],
   "source": [
    "# splitting the model into training & testing datasets\n",
    "real_x = data[[\"satisfactoryLevel\",\"salary\",\"workAccident\",\"timeSpent.company\",\"avgMonthlyHours\",\"promotionInLast5years\",\"numberOfProjects\"]]\n",
    "real_y = data.iloc[:,-1]\n",
    "log_x= data[[\"satisfactoryLevel\",\"salary\",\"workAccident\",\"timeSpent.company\",\"avgMonthlyHours\",\"promotionInLast5years\",\"numberOfProjects\"]].apply(lambda x : np.log(x+1))\n",
    "trainxl,testxl,trainyl,testyl = train_test_split(log_x,real_y,test_size=0.2,random_state = 42)\n",
    "trainx,testx,trainy,testy = train_test_split(real_x,real_y,test_size=0.2,random_state = 42)"
   ]
  },
  {
   "cell_type": "markdown",
   "metadata": {},
   "source": [
    "# List of classification models used for fitting   :\n",
    "   - KNNClassifier\n",
    "   - GaussianNB\n",
    "   - AdaBoost\n",
    "   - GradientBoost\n",
    "   - XGBoost\n",
    "   - DecisionTree\n",
    "   - RandomForest\n",
    "   - LogisticRegression"
   ]
  },
  {
   "cell_type": "markdown",
   "metadata": {},
   "source": [
    "## KNN Algorithm :"
   ]
  },
  {
   "cell_type": "code",
   "execution_count": 90,
   "metadata": {},
   "outputs": [
    {
     "name": "stdout",
     "output_type": "stream",
     "text": [
      "confusion matrix :\n",
      "[[2190   82]\n",
      " [  35  693]]\n",
      "Accuracy : \n",
      "0.961\n",
      "Classification Report : \n",
      "              precision    recall  f1-score   support\n",
      "\n",
      "           0       0.98      0.96      0.97      2272\n",
      "           1       0.89      0.95      0.92       728\n",
      "\n",
      "    accuracy                           0.96      3000\n",
      "   macro avg       0.94      0.96      0.95      3000\n",
      "weighted avg       0.96      0.96      0.96      3000\n",
      "\n"
     ]
    },
    {
     "data": {
      "text/plain": [
       "<matplotlib.legend.Legend at 0x26bf7e9fd30>"
      ]
     },
     "execution_count": 90,
     "metadata": {},
     "output_type": "execute_result"
    },
    {
     "data": {
      "image/png": "[encoded data removed]",
      "text/plain": [
       "<Figure size 432x288 with 1 Axes>"
      ]
     },
     "metadata": {
      "needs_background": "light"
     },
     "output_type": "display_data"
    }
   ],
   "source": [
    "# KNN\n",
    "# performing model fitting on the skewed  and unscaled data\n",
    "knn= KNeighborsClassifier(n_neighbors =9,weights='distance')\n",
    "knn.fit(trainx,trainy)\n",
    "knn_pred = knn.predict(testx)\n",
    "knn_conf = confusion_matrix(testy,knn_pred)\n",
    "knn_accuracy = accuracy_score(testy,knn_pred)\n",
    "print(\"confusion matrix :\" ,knn_conf,sep=\"\\n\")\n",
    "print(\"Accuracy : \",knn_accuracy,sep=\"\\n\")\n",
    "print(\"Classification Report : \",classification_report(testy,knn_pred),sep=\"\\n\")\n",
    "\n",
    "pred_probknn = knn.predict_proba(testx)\n",
    "auc_knn= roc_auc_score(testy,pred_probknn[:,1])\n",
    "fprkn,tprkn,thresholdskn = roc_curve(testy,pred_probknn[:,1])\n",
    "plt.plot(fprkn,tprkn,label=\"AUC = %.2f\" %  auc_knn )\n",
    "plt.xlabel(\"False Positive Rate\")\n",
    "plt.ylabel(\"True Positive Rate\")\n",
    "plt.title(\"ROC Curve for KNN model\")\n",
    "plt.plot([0,1],[0,1],\"--\")\n",
    "plt.legend()"
   ]
  },
  {
   "cell_type": "code",
   "execution_count": 91,
   "metadata": {
    "scrolled": true
   },
   "outputs": [
    {
     "name": "stdout",
     "output_type": "stream",
     "text": [
      "confusion matrix :\n",
      "[[2233   39]\n",
      " [  33  695]]\n",
      "Accuracy : \n",
      "0.976\n",
      "Classification Report : \n",
      "              precision    recall  f1-score   support\n",
      "\n",
      "           0       0.99      0.98      0.98      2272\n",
      "           1       0.95      0.95      0.95       728\n",
      "\n",
      "    accuracy                           0.98      3000\n",
      "   macro avg       0.97      0.97      0.97      3000\n",
      "weighted avg       0.98      0.98      0.98      3000\n",
      "\n"
     ]
    }
   ],
   "source": [
    "# KNN\n",
    "# performing model fitting on the log transformed\n",
    "knn= KNeighborsClassifier(n_neighbors =9,weights='distance')\n",
    "knn.fit(trainxl,trainyl)\n",
    "knn_predl = knn.predict(testxl)\n",
    "knn_confl = confusion_matrix(testyl,knn_predl)\n",
    "knn_accuracyl = accuracy_score(testyl,knn_predl)\n",
    "print(\"confusion matrix :\" ,knn_confl,sep=\"\\n\")\n",
    "print(\"Accuracy : \",knn_accuracyl,sep=\"\\n\")\n",
    "print(\"Classification Report : \",classification_report(testyl,knn_predl),sep=\"\\n\")"
   ]
  },
  {
   "cell_type": "markdown",
   "metadata": {},
   "source": [
    "## Gaussian NB :"
   ]
  },
  {
   "cell_type": "code",
   "execution_count": 92,
   "metadata": {},
   "outputs": [
    {
     "name": "stdout",
     "output_type": "stream",
     "text": [
      "confusion matrix :\n",
      "[[1865  407]\n",
      " [ 179  549]]\n",
      "Accuracy : \n",
      "0.8046666666666666\n",
      "Classification Report : \n",
      "              precision    recall  f1-score   support\n",
      "\n",
      "           0       0.91      0.82      0.86      2272\n",
      "           1       0.57      0.75      0.65       728\n",
      "\n",
      "    accuracy                           0.80      3000\n",
      "   macro avg       0.74      0.79      0.76      3000\n",
      "weighted avg       0.83      0.80      0.81      3000\n",
      "\n"
     ]
    },
    {
     "data": {
      "text/plain": [
       "<matplotlib.legend.Legend at 0x26bf7f0a198>"
      ]
     },
     "execution_count": 92,
     "metadata": {},
     "output_type": "execute_result"
    },
    {
     "data": {
      "image/png": "[encoded data removed]",
      "text/plain": [
       "<Figure size 432x288 with 1 Axes>"
      ]
     },
     "metadata": {
      "needs_background": "light"
     },
     "output_type": "display_data"
    }
   ],
   "source": [
    "# Gaussian NB\n",
    "# performing model fitting log transformed\n",
    "gnb= GaussianNB()\n",
    "gnb.fit(trainxl,trainyl)\n",
    "gnb_predl = gnb.predict(testxl)\n",
    "gnb_confl = confusion_matrix(testyl,gnb_predl)\n",
    "gnb_accuracyl= accuracy_score(testyl,gnb_predl)\n",
    "print(\"confusion matrix :\" ,gnb_confl,sep=\"\\n\")\n",
    "print(\"Accuracy : \",gnb_accuracyl,sep=\"\\n\")\n",
    "print(\"Classification Report : \",classification_report(testyl,gnb_predl),sep=\"\\n\")\n",
    "\n",
    "pred_probgnb = gnb.predict_proba(testx)\n",
    "auc_gnb = roc_auc_score(testy,pred_probgnb[:,1])\n",
    "fprgnb,tprgnb,thresholdsgnb = roc_curve(testy,gnb_predl)\n",
    "plt.plot(fprgnb,tprgnb,label=\"AUC = %.2f\" %  auc_gnb)\n",
    "plt.xlabel(\"False Positive Rate\")\n",
    "plt.ylabel(\"True Positive Rate\")\n",
    "plt.title(\"ROC Curve for GaussianNB model\")\n",
    "plt.plot([0,1],[0,1],\"--\")\n",
    "plt.legend()"
   ]
  },
  {
   "cell_type": "markdown",
   "metadata": {},
   "source": [
    "## ADABOOST :"
   ]
  },
  {
   "cell_type": "code",
   "execution_count": 93,
   "metadata": {
    "scrolled": false
   },
   "outputs": [
    {
     "name": "stdout",
     "output_type": "stream",
     "text": [
      "confusion matrix : \n",
      "[[2238   34]\n",
      " [  31  697]]\n",
      "Accuracy : \n",
      "0.9783333333333334\n",
      "Classification Report : \n",
      "              precision    recall  f1-score   support\n",
      "\n",
      "           0       0.99      0.99      0.99      2272\n",
      "           1       0.95      0.96      0.96       728\n",
      "\n",
      "    accuracy                           0.98      3000\n",
      "   macro avg       0.97      0.97      0.97      3000\n",
      "weighted avg       0.98      0.98      0.98      3000\n",
      "\n"
     ]
    },
    {
     "data": {
      "text/plain": [
       "<matplotlib.legend.Legend at 0x26bf7f87cc0>"
      ]
     },
     "execution_count": 93,
     "metadata": {},
     "output_type": "execute_result"
    },
    {
     "data": {
      "image/png": "[encoded data removed]",
      "text/plain": [
       "<Figure size 432x288 with 1 Axes>"
      ]
     },
     "metadata": {
      "needs_background": "light"
     },
     "output_type": "display_data"
    }
   ],
   "source": [
    "# ADABOOST\n",
    "# performing model fitting on the skewed  and unscaled data\n",
    "from sklearn.tree import DecisionTreeClassifier\n",
    "ab= AdaBoostClassifier(DecisionTreeClassifier(),n_estimators=10,learning_rate=1.0,random_state=3)\n",
    "ab.fit(trainx,trainy)\n",
    "ab_pred = ab.predict(testx)\n",
    "ab_conf = confusion_matrix(testy,ab_pred)\n",
    "ab_accuracy= accuracy_score(testy,ab_pred)\n",
    "print(\"confusion matrix : \" ,ab_conf,sep=\"\\n\")\n",
    "print(\"Accuracy : \",ab_accuracy,sep=\"\\n\")\n",
    "print(\"Classification Report : \",classification_report(testy,ab_pred),sep=\"\\n\")\n",
    "\n",
    "pred_probab = ab.predict_proba(testx)\n",
    "auc_ab = roc_auc_score(testy,pred_probab[:,1])\n",
    "fprab,tprab,thresholdsab = roc_curve(testy,pred_probab[:,1])\n",
    "plt.plot(fprab,tprab,label = \"AUC = %.2f\" % auc_ab)\n",
    "plt.xlabel(\"False Positive Rate\")\n",
    "plt.ylabel(\"True Positive Rate\")\n",
    "plt.title(\"ROC Curve for Adaboost \")\n",
    "plt.plot([0,1],[0,1],\"--\")\n",
    "plt.legend()"
   ]
  },
  {
   "cell_type": "markdown",
   "metadata": {},
   "source": [
    "## GradientBOOST :"
   ]
  },
  {
   "cell_type": "code",
   "execution_count": 94,
   "metadata": {
    "scrolled": false
   },
   "outputs": [
    {
     "name": "stdout",
     "output_type": "stream",
     "text": [
      "confusion matrix :\n",
      "[[2232   40]\n",
      " [  64  664]]\n",
      "Accuracy : \n",
      "0.9653333333333334\n",
      "Classification Report : \n",
      "              precision    recall  f1-score   support\n",
      "\n",
      "           0       0.97      0.98      0.98      2272\n",
      "           1       0.94      0.91      0.93       728\n",
      "\n",
      "    accuracy                           0.97      3000\n",
      "   macro avg       0.96      0.95      0.95      3000\n",
      "weighted avg       0.97      0.97      0.97      3000\n",
      "\n"
     ]
    },
    {
     "data": {
      "text/plain": [
       "<matplotlib.legend.Legend at 0x26bf7fe0668>"
      ]
     },
     "execution_count": 94,
     "metadata": {},
     "output_type": "execute_result"
    },
    {
     "data": {
      "image/png": "[encoded data removed]",
      "text/plain": [
       "<Figure size 432x288 with 1 Axes>"
      ]
     },
     "metadata": {
      "needs_background": "light"
     },
     "output_type": "display_data"
    }
   ],
   "source": [
    "# GradientBOOST\n",
    "# performing model fitting on the skewed  and unscaled data\n",
    "from sklearn.tree import DecisionTreeClassifier\n",
    "gb= GradientBoostingClassifier(n_estimators=10,learning_rate=0.9)\n",
    "gb.fit(trainx,trainy)\n",
    "gb_pred = gb.predict(testx)\n",
    "gb_conf = confusion_matrix(testy,gb_pred)\n",
    "gb_accuracy = accuracy_score(testy,gb_pred)\n",
    "print(\"confusion matrix :\" ,gb_conf,sep=\"\\n\")\n",
    "print(\"Accuracy : \",gb_accuracy,sep=\"\\n\")\n",
    "print(\"Classification Report : \",classification_report(testy,gb_pred),sep=\"\\n\")\n",
    "\n",
    "pred_probgb = gb.predict_proba(testx)\n",
    "auc_gb = roc_auc_score(testy,pred_probgb[:,1])\n",
    "fprgb,tprgb,thresholdsgb = roc_curve(testy,pred_probgb[:,1])\n",
    "plt.plot(fprgb,tprgb,label = \"AUC = %.2f\" % auc_gb)\n",
    "plt.xlabel(\"False Positive Rate\")\n",
    "plt.ylabel(\"True Positive Rate\")\n",
    "plt.title(\"ROC Curve for Gradientboost \")\n",
    "plt.plot([0,1],[0,1],\"--\")\n",
    "plt.legend()"
   ]
  },
  {
   "cell_type": "markdown",
   "metadata": {},
   "source": [
    "## XGBOOST :"
   ]
  },
  {
   "cell_type": "code",
   "execution_count": 95,
   "metadata": {
    "scrolled": false
   },
   "outputs": [
    {
     "name": "stdout",
     "output_type": "stream",
     "text": [
      "confusion matrix :\n",
      "[[2245   27]\n",
      " [  32  696]]\n",
      "Accuracy : \n",
      "0.9803333333333333\n",
      "Classification Report : \n",
      "              precision    recall  f1-score   support\n",
      "\n",
      "           0       0.99      0.99      0.99      2272\n",
      "           1       0.96      0.96      0.96       728\n",
      "\n",
      "    accuracy                           0.98      3000\n",
      "   macro avg       0.97      0.97      0.97      3000\n",
      "weighted avg       0.98      0.98      0.98      3000\n",
      "\n"
     ]
    },
    {
     "data": {
      "text/plain": [
       "<matplotlib.legend.Legend at 0x26bf8042550>"
      ]
     },
     "execution_count": 95,
     "metadata": {},
     "output_type": "execute_result"
    },
    {
     "data": {
      "image/png": "[encoded data removed]",
      "text/plain": [
       "<Figure size 432x288 with 1 Axes>"
      ]
     },
     "metadata": {
      "needs_background": "light"
     },
     "output_type": "display_data"
    }
   ],
   "source": [
    "# XGBOOST\n",
    "# performing model fitting on the skewed  and unscaled data\n",
    "xgb= XGBClassifier(n_estimators=800,learning_rate=0.8)\n",
    "xgb.fit(trainx,trainy)\n",
    "xgb_pred = xgb.predict(testx)\n",
    "xgb_conf = confusion_matrix(testy,xgb_pred)\n",
    "xgb_accuracy = accuracy_score(testy,xgb_pred)\n",
    "print(\"confusion matrix :\" ,xgb_conf,sep=\"\\n\")\n",
    "print(\"Accuracy : \",xgb_accuracy,sep=\"\\n\")\n",
    "print(\"Classification Report : \",classification_report(testy,xgb_pred),sep=\"\\n\")\n",
    "\n",
    "\n",
    "pred_prob_xgb = xgb.predict_proba(testx)\n",
    "auc_xgb = roc_auc_score(testy,pred_prob_xgb[:,1])\n",
    "fprxgb,tprxgb,thresholdsxgb = roc_curve(testy,pred_prob_xgb[:,1])\n",
    "plt.plot(fprxgb,tprxgb,label = \"AUC = %.2f\" % auc_xgb)\n",
    "plt.xlabel(\"False Positive Rate\")\n",
    "plt.ylabel(\"True Positive Rate\")\n",
    "plt.title(\"ROC Curve for XGboost \")\n",
    "plt.plot([0,1],[0,1],\"--\")\n",
    "plt.legend()"
   ]
  },
  {
   "cell_type": "markdown",
   "metadata": {},
   "source": [
    "## Decision Tree :"
   ]
  },
  {
   "cell_type": "code",
   "execution_count": 96,
   "metadata": {
    "scrolled": false
   },
   "outputs": [
    {
     "name": "stdout",
     "output_type": "stream",
     "text": [
      "confusion matrix :\n",
      "[[2240   32]\n",
      " [  29  699]]\n",
      "Accuracy : \n",
      "0.9796666666666667\n",
      "Classification Report : \n",
      "              precision    recall  f1-score   support\n",
      "\n",
      "           0       0.99      0.99      0.99      2272\n",
      "           1       0.96      0.96      0.96       728\n",
      "\n",
      "    accuracy                           0.98      3000\n",
      "   macro avg       0.97      0.97      0.97      3000\n",
      "weighted avg       0.98      0.98      0.98      3000\n",
      "\n"
     ]
    },
    {
     "data": {
      "text/plain": [
       "<matplotlib.legend.Legend at 0x26bf80b7518>"
      ]
     },
     "execution_count": 96,
     "metadata": {},
     "output_type": "execute_result"
    },
    {
     "data": {
      "image/png": "[encoded data removed]",
      "text/plain": [
       "<Figure size 432x288 with 1 Axes>"
      ]
     },
     "metadata": {
      "needs_background": "light"
     },
     "output_type": "display_data"
    }
   ],
   "source": [
    "# Decision Tree\n",
    "# performing model fitting on the skewed  and unscaled data\n",
    "DT= DecisionTreeClassifier(criterion=\"entropy\",max_depth=32)\n",
    "DT.fit(trainx,trainy)\n",
    "DT_pred = DT.predict(testx)\n",
    "DT_conf = confusion_matrix(testy,DT_pred)\n",
    "DT_accuracy = accuracy_score(testy,DT_pred)\n",
    "print(\"confusion matrix :\" ,DT_conf,sep=\"\\n\")\n",
    "print(\"Accuracy : \",DT_accuracy,sep=\"\\n\")\n",
    "print(\"Classification Report : \",classification_report(testy,DT_pred),sep=\"\\n\")\n",
    "\n",
    "\n",
    "pred_prob_DT = DT.predict_proba(testx)\n",
    "auc_DT = roc_auc_score(testy,pred_prob_DT[:,1])\n",
    "fprDT,tprDT,thresholdsDT = roc_curve(testy,pred_prob_DT[:,1])\n",
    "plt.plot(fprDT,tprDT,label = \"AUC = %.2f\" % auc_DT)\n",
    "plt.xlabel(\"False Positive Rate\")\n",
    "plt.ylabel(\"True Positive Rate\")\n",
    "plt.title(\"ROC Curve for XGboost \")\n",
    "plt.plot([0,1],[0,1],\"--\")\n",
    "plt.legend()"
   ]
  },
  {
   "cell_type": "markdown",
   "metadata": {},
   "source": [
    "## RandomForest :"
   ]
  },
  {
   "cell_type": "code",
   "execution_count": 97,
   "metadata": {
    "scrolled": false
   },
   "outputs": [
    {
     "name": "stdout",
     "output_type": "stream",
     "text": [
      "confusion matrix :\n",
      "[[2258   14]\n",
      " [  41  687]]\n",
      "Accuracy : \n",
      "0.9816666666666667\n",
      "Classification Report : \n",
      "              precision    recall  f1-score   support\n",
      "\n",
      "           0       0.98      0.99      0.99      2272\n",
      "           1       0.98      0.94      0.96       728\n",
      "\n",
      "    accuracy                           0.98      3000\n",
      "   macro avg       0.98      0.97      0.97      3000\n",
      "weighted avg       0.98      0.98      0.98      3000\n",
      "\n"
     ]
    },
    {
     "name": "stderr",
     "output_type": "stream",
     "text": [
      "C:\\Users\\Debjeet Das\\Anaconda3\\lib\\site-packages\\sklearn\\ensemble\\forest.py:245: FutureWarning: The default value of n_estimators will change from 10 in version 0.20 to 100 in 0.22.\n",
      "  \"10 in version 0.20 to 100 in 0.22.\", FutureWarning)\n"
     ]
    },
    {
     "data": {
      "text/plain": [
       "<matplotlib.legend.Legend at 0x26bf8117470>"
      ]
     },
     "execution_count": 97,
     "metadata": {},
     "output_type": "execute_result"
    },
    {
     "data": {
      "image/png": "[encoded data removed]",
      "text/plain": [
       "<Figure size 432x288 with 1 Axes>"
      ]
     },
     "metadata": {
      "needs_background": "light"
     },
     "output_type": "display_data"
    }
   ],
   "source": [
    "# RandomForest\n",
    "rf= RandomForestClassifier(criterion=\"entropy\",max_depth=32)\n",
    "rf.fit(trainx,trainy)\n",
    "rf_pred = rf.predict(testx)\n",
    "rf_conf = confusion_matrix(testy,rf_pred)\n",
    "rf_accuracy = accuracy_score(testy,rf_pred)\n",
    "\n",
    "from sklearn.metrics import roc_curve ,roc_auc_score\n",
    "\n",
    "pred_prob_rf = rf.predict_proba(testx)\n",
    "auc_rf = roc_auc_score(testy,pred_prob_rf[:,1])\n",
    "fprrf,tprrf,thresholdsrf = roc_curve(testy,pred_prob_rf[:,1])\n",
    "\n",
    "\n",
    "print(\"confusion matrix :\" ,rf_conf,sep=\"\\n\")\n",
    "print(\"Accuracy : \",rf_accuracy,sep=\"\\n\")\n",
    "print(\"Classification Report : \",classification_report(testy,rf_pred),sep=\"\\n\")\n",
    "\n",
    "import matplotlib.pyplot as plt\n",
    "plt.plot(fprrf,tprrf,label = \"AUC = %.2f\" % auc_rf)\n",
    "plt.xlabel(\"False Positive Rate\")\n",
    "plt.ylabel(\"True Positive Rate\")\n",
    "plt.title(\"ROC Curve for Random Forest\")\n",
    "plt.plot([0,1],[0,1],\"--\")\n",
    "plt.legend()"
   ]
  },
  {
   "cell_type": "markdown",
   "metadata": {},
   "source": [
    "## Logistic :"
   ]
  },
  {
   "cell_type": "code",
   "execution_count": 48,
   "metadata": {
    "scrolled": false
   },
   "outputs": [
    {
     "name": "stdout",
     "output_type": "stream",
     "text": [
      "confusion matrix :\n",
      "[[1753  519]\n",
      " [ 122  606]]\n",
      "Accuracy : \n",
      "0.7863333333333333\n",
      "Classification Report : \n",
      "              precision    recall  f1-score   support\n",
      "\n",
      "           0       0.93      0.77      0.85      2272\n",
      "           1       0.54      0.83      0.65       728\n",
      "\n",
      "    accuracy                           0.79      3000\n",
      "   macro avg       0.74      0.80      0.75      3000\n",
      "weighted avg       0.84      0.79      0.80      3000\n",
      "\n",
      "Area under the curve is 0.8413002050766136\n"
     ]
    },
    {
     "name": "stderr",
     "output_type": "stream",
     "text": [
      "C:\\Users\\Debjeet Das\\Anaconda3\\lib\\site-packages\\sklearn\\linear_model\\logistic.py:432: FutureWarning: Default solver will be changed to 'lbfgs' in 0.22. Specify a solver to silence this warning.\n",
      "  FutureWarning)\n"
     ]
    },
    {
     "data": {
      "image/png": "[encoded data removed]",
      "text/plain": [
       "<Figure size 432x288 with 1 Axes>"
      ]
     },
     "metadata": {
      "needs_background": "light"
     },
     "output_type": "display_data"
    }
   ],
   "source": [
    "# Performing logistic regression on the training data\n",
    "log=LogisticRegression(class_weight=\"balanced\")\n",
    "log.fit(trainx,trainy)\n",
    "log_pred = log.predict(testx)\n",
    "log_conf = confusion_matrix(testy,log_pred)\n",
    "log_accuracy = accuracy_score(testy,log_pred)\n",
    "print(\"confusion matrix :\" ,log_conf,sep=\"\\n\")\n",
    "print(\"Accuracy : \",log_accuracy,sep=\"\\n\")\n",
    "print(\"Classification Report : \",classification_report(testy,log_pred),sep=\"\\n\")\n",
    "\n",
    "from sklearn.metrics import roc_curve ,roc_auc_score\n",
    "\n",
    "pred_prob_log = log.predict_proba(testx)\n",
    "\n",
    "fpr,tpr,thresholds = roc_curve(testy,pred_prob_log[:,1])\n",
    "logit_roc_auc = roc_auc_score(testy,pred_prob_log[:,1])\n",
    "\n",
    "import matplotlib.pyplot as plt\n",
    "plt.plot(fpr,tpr,label = \"AUC = %.2f\" % logit_roc_auc)\n",
    "plt.xlabel(\"False Positive Rate\")\n",
    "plt.ylabel(\"True Positive Rate\")\n",
    "plt.title(\"ROC Curve for Logistic Regression \")\n",
    "plt.plot([0,1],[0,1],\"--\")\n",
    "plt.legend()\n",
    "\n",
    "print(\"Area under the curve is {}\".format(logit_roc_auc))"
   ]
  },
  {
   "cell_type": "markdown",
   "metadata": {},
   "source": [
    "## Changing the Threshold Value of logistic reg :\n",
    "   -  By looking at the graph we can see the threshold value at (0.25 , 0.85) fpr,tpr shows better results for this data.\n",
    "   -  Because for this threshold tpr is 0.85 and fpr is very less,that is 0.25 which is an ideal condition.\n",
    "   -  After changing the threshold value,by comparing the before and after confusion matrices respectively.\n",
    "   -  We can see that the False positive values have gone down. Which makes our model more reliable. \n",
    "   -  We use binarize to set the threshold to a desired value to reduce the False positive values.\n",
    "   -  binarize takes  2 arguments - binarize([predicted_proba],threshold = 0.47)"
   ]
  },
  {
   "cell_type": "code",
   "execution_count": 75,
   "metadata": {},
   "outputs": [
    {
     "data": {
      "text/html": [
       "<div>\n",
       "<style scoped>\n",
       "    .dataframe tbody tr th:only-of-type {\n",
       "        vertical-align: middle;\n",
       "    }\n",
       "\n",
       "    .dataframe tbody tr th {\n",
       "        vertical-align: top;\n",
       "    }\n",
       "\n",
       "    .dataframe thead th {\n",
       "        text-align: right;\n",
       "    }\n",
       "</style>\n",
       "<table border=\"1\" class=\"dataframe\">\n",
       "  <thead>\n",
       "    <tr style=\"text-align: right;\">\n",
       "      <th></th>\n",
       "      <th>fpr</th>\n",
       "      <th>tpr</th>\n",
       "      <th>Threshold</th>\n",
       "    </tr>\n",
       "  </thead>\n",
       "  <tbody>\n",
       "    <tr>\n",
       "      <th>578</th>\n",
       "      <td>0.25</td>\n",
       "      <td>0.85</td>\n",
       "      <td>0.48</td>\n",
       "    </tr>\n",
       "    <tr>\n",
       "      <th>579</th>\n",
       "      <td>0.25</td>\n",
       "      <td>0.85</td>\n",
       "      <td>0.47</td>\n",
       "    </tr>\n",
       "    <tr>\n",
       "      <th>580</th>\n",
       "      <td>0.25</td>\n",
       "      <td>0.85</td>\n",
       "      <td>0.47</td>\n",
       "    </tr>\n",
       "  </tbody>\n",
       "</table>\n",
       "</div>"
      ],
      "text/plain": [
       "      fpr   tpr  Threshold\n",
       "578  0.25  0.85       0.48\n",
       "579  0.25  0.85       0.47\n",
       "580  0.25  0.85       0.47"
      ]
     },
     "execution_count": 75,
     "metadata": {},
     "output_type": "execute_result"
    }
   ],
   "source": [
    "# thus we will use this threshold value for the logistic regression\n",
    "\n",
    "threshold_df = pd.DataFrame({\"fpr\":fpr.round(2),\"tpr\":tpr.round(2),\"Threshold\":thresholds.round(2)})\n",
    "threshold_df[(threshold_df[\"fpr\"]==0.25) & (threshold_df[\"tpr\"]==0.85)]"
   ]
  },
  {
   "cell_type": "code",
   "execution_count": 76,
   "metadata": {
    "scrolled": true
   },
   "outputs": [
    {
     "data": {
      "text/plain": [
       "array([[0.31030504, 0.68969496],\n",
       "       [0.75441768, 0.24558232],\n",
       "       [0.42217862, 0.57782138],\n",
       "       ...,\n",
       "       [0.9564227 , 0.0435773 ],\n",
       "       [0.09004288, 0.90995712],\n",
       "       [0.18127756, 0.81872244]])"
      ]
     },
     "execution_count": 76,
     "metadata": {},
     "output_type": "execute_result"
    }
   ],
   "source": [
    "# These are the predicted probabilities\n",
    "probabilities= log.predict_proba(testx)\n",
    "probabilities"
   ]
  },
  {
   "cell_type": "code",
   "execution_count": 85,
   "metadata": {
    "scrolled": false
   },
   "outputs": [
    {
     "name": "stdout",
     "output_type": "stream",
     "text": [
      "confusion matrix :\n",
      "[[1707  565]\n",
      " [ 109  619]]\n",
      "Accuracy : \n",
      "0.7753333333333333\n",
      "Classification Report : \n",
      "              precision    recall  f1-score   support\n",
      "\n",
      "           0       0.94      0.75      0.84      2272\n",
      "           1       0.52      0.85      0.65       728\n",
      "\n",
      "    accuracy                           0.78      3000\n",
      "   macro avg       0.73      0.80      0.74      3000\n",
      "weighted avg       0.84      0.78      0.79      3000\n",
      "\n"
     ]
    }
   ],
   "source": [
    "# We use binarize to set the threshold to a desired values to reduce the FPR.\n",
    "# binarize takes  2 arguments- binarize([predicted_proba],threshold = 0.47)\n",
    "\n",
    "from sklearn.preprocessing import binarize\n",
    "pred_prob = probabilities[:,1]\n",
    "pred_new_y = binarize([pred_prob],threshold =0.47)\n",
    "pred_new_y=pred_new_y.flatten()\n",
    "\n",
    "# Now we use this new predicted values which were determined by using 0.47 as threshold values for prediction of model\n",
    "# Here we can see the False positives has reduced, also there is a reduction in the in the accuracy\n",
    "\n",
    "log_accuracy_new = accuracy_score(testy,pred_new_y)\n",
    "log_conf_new = confusion_matrix(testy,pred_new_y)\n",
    "print(\"confusion matrix :\" ,log_conf_new,sep=\"\\n\")\n",
    "print(\"Accuracy : \",log_accuracy_new,sep=\"\\n\")\n",
    "print(\"Classification Report : \",classification_report(testy,pred_new_y),sep=\"\\n\")"
   ]
  },
  {
   "cell_type": "markdown",
   "metadata": {},
   "source": [
    "## AUC & Accuracy DataFrame for each model :\n",
    "   - From the below model we can see the area under the curve for Xgboost model is highest amongst all.\n",
    "   - Thus is this is also a valid pefromance metric as this model has the highest AUC for this dataset.\n",
    "   - But these are the model parameters where samples used for train/test are imbalanced.\n",
    "   - Here the model is showing better prediction for a certain random_state.\n",
    "   - But when we change the random_state the accuracy as well as the auc decreases.\n",
    "   - Hence using each model score individually for a particular samples of train/test set cant be validated."
   ]
  },
  {
   "cell_type": "code",
   "execution_count": 78,
   "metadata": {},
   "outputs": [
    {
     "data": {
      "text/html": [
       "<div>\n",
       "<style scoped>\n",
       "    .dataframe tbody tr th:only-of-type {\n",
       "        vertical-align: middle;\n",
       "    }\n",
       "\n",
       "    .dataframe tbody tr th {\n",
       "        vertical-align: top;\n",
       "    }\n",
       "\n",
       "    .dataframe thead th {\n",
       "        text-align: right;\n",
       "    }\n",
       "</style>\n",
       "<table border=\"1\" class=\"dataframe\">\n",
       "  <thead>\n",
       "    <tr style=\"text-align: right;\">\n",
       "      <th></th>\n",
       "      <th>model</th>\n",
       "      <th>AUC</th>\n",
       "      <th>Accuracy</th>\n",
       "    </tr>\n",
       "  </thead>\n",
       "  <tbody>\n",
       "    <tr>\n",
       "      <th>0</th>\n",
       "      <td>XGBoost</td>\n",
       "      <td>0.972080</td>\n",
       "      <td>0.980333</td>\n",
       "    </tr>\n",
       "    <tr>\n",
       "      <th>6</th>\n",
       "      <td>RandomForest</td>\n",
       "      <td>0.971947</td>\n",
       "      <td>0.983667</td>\n",
       "    </tr>\n",
       "    <tr>\n",
       "      <th>5</th>\n",
       "      <td>DecisionTree</td>\n",
       "      <td>0.971913</td>\n",
       "      <td>0.978667</td>\n",
       "    </tr>\n",
       "    <tr>\n",
       "      <th>2</th>\n",
       "      <td>AdaBoost</td>\n",
       "      <td>0.971226</td>\n",
       "      <td>0.978333</td>\n",
       "    </tr>\n",
       "    <tr>\n",
       "      <th>4</th>\n",
       "      <td>KNNClassifier</td>\n",
       "      <td>0.957916</td>\n",
       "      <td>0.961000</td>\n",
       "    </tr>\n",
       "    <tr>\n",
       "      <th>1</th>\n",
       "      <td>GradientBoost</td>\n",
       "      <td>0.947241</td>\n",
       "      <td>0.965333</td>\n",
       "    </tr>\n",
       "    <tr>\n",
       "      <th>7</th>\n",
       "      <td>LogisticRegression</td>\n",
       "      <td>0.800798</td>\n",
       "      <td>0.775333</td>\n",
       "    </tr>\n",
       "    <tr>\n",
       "      <th>3</th>\n",
       "      <td>GaussianNB</td>\n",
       "      <td>0.787492</td>\n",
       "      <td>0.804667</td>\n",
       "    </tr>\n",
       "  </tbody>\n",
       "</table>\n",
       "</div>"
      ],
      "text/plain": [
       "                model       AUC  Accuracy\n",
       "0             XGBoost  0.972080  0.980333\n",
       "6        RandomForest  0.971947  0.983667\n",
       "5        DecisionTree  0.971913  0.978667\n",
       "2            AdaBoost  0.971226  0.978333\n",
       "4       KNNClassifier  0.957916  0.961000\n",
       "1       GradientBoost  0.947241  0.965333\n",
       "7  LogisticRegression  0.800798  0.775333\n",
       "3          GaussianNB  0.787492  0.804667"
      ]
     },
     "execution_count": 78,
     "metadata": {},
     "output_type": "execute_result"
    }
   ],
   "source": [
    "list_ac=[xgb_pred,gb_pred,ab_pred,gnb_predl,knn_pred,DT_pred,rf_pred,pred_new_y]\n",
    "list_area=[]\n",
    "list_acc= []\n",
    "for i in list_ac:\n",
    "    list_acc.append(accuracy_score(testy,i))\n",
    "    list_area.append(roc_auc_score(testy,i))\n",
    "    \n",
    "area_auc_DF = pd.DataFrame({\"model\":[\"XGBoost\",\"GradientBoost\",\"AdaBoost\",\"GaussianNB\",\"KNNClassifier\",\"DecisionTree\",\"RandomForest\",\"LogisticRegression\"],\"AUC\":list_area,\"Accuracy\":list_acc}) \n",
    "area_auc_DF.sort_values(by=[\"AUC\",\"Accuracy\"],ascending=[False,False]) "
   ]
  },
  {
   "cell_type": "markdown",
   "metadata": {},
   "source": [
    "## K-Fold Cross Validation :\n",
    "   - Here we are deviding the dataset into k-folds.\n",
    "   - Then using these k-folds we are taking each fold as a test sample and all the other folds as training set.\n",
    "   - Thus every fold is iterable until all the folds have once been used for testing set\n",
    "   - Hence even if there is imbalanced data distribution, all the combinations of samples will be considered for modelling.\n",
    "   - After this we will take the average of all the accuracies which we got for a model.\n",
    "   - Thus the average accuracy of the model,considering all the sample combinations for training/testing is done.\n",
    "   - Hence we can validate the performance of the model using this parameter."
   ]
  },
  {
   "cell_type": "code",
   "execution_count": 79,
   "metadata": {},
   "outputs": [],
   "source": [
    "from sklearn.model_selection import cross_val_score"
   ]
  },
  {
   "cell_type": "code",
   "execution_count": 80,
   "metadata": {},
   "outputs": [
    {
     "name": "stderr",
     "output_type": "stream",
     "text": [
      "C:\\Users\\Debjeet Das\\Anaconda3\\lib\\site-packages\\sklearn\\linear_model\\logistic.py:432: FutureWarning: Default solver will be changed to 'lbfgs' in 0.22. Specify a solver to silence this warning.\n",
      "  FutureWarning)\n",
      "C:\\Users\\Debjeet Das\\Anaconda3\\lib\\site-packages\\sklearn\\linear_model\\logistic.py:432: FutureWarning: Default solver will be changed to 'lbfgs' in 0.22. Specify a solver to silence this warning.\n",
      "  FutureWarning)\n",
      "C:\\Users\\Debjeet Das\\Anaconda3\\lib\\site-packages\\sklearn\\linear_model\\logistic.py:432: FutureWarning: Default solver will be changed to 'lbfgs' in 0.22. Specify a solver to silence this warning.\n",
      "  FutureWarning)\n",
      "C:\\Users\\Debjeet Das\\Anaconda3\\lib\\site-packages\\sklearn\\linear_model\\logistic.py:432: FutureWarning: Default solver will be changed to 'lbfgs' in 0.22. Specify a solver to silence this warning.\n",
      "  FutureWarning)\n",
      "C:\\Users\\Debjeet Das\\Anaconda3\\lib\\site-packages\\sklearn\\linear_model\\logistic.py:432: FutureWarning: Default solver will be changed to 'lbfgs' in 0.22. Specify a solver to silence this warning.\n",
      "  FutureWarning)\n",
      "C:\\Users\\Debjeet Das\\Anaconda3\\lib\\site-packages\\sklearn\\linear_model\\logistic.py:432: FutureWarning: Default solver will be changed to 'lbfgs' in 0.22. Specify a solver to silence this warning.\n",
      "  FutureWarning)\n",
      "C:\\Users\\Debjeet Das\\Anaconda3\\lib\\site-packages\\sklearn\\linear_model\\logistic.py:432: FutureWarning: Default solver will be changed to 'lbfgs' in 0.22. Specify a solver to silence this warning.\n",
      "  FutureWarning)\n",
      "C:\\Users\\Debjeet Das\\Anaconda3\\lib\\site-packages\\sklearn\\ensemble\\forest.py:245: FutureWarning: The default value of n_estimators will change from 10 in version 0.20 to 100 in 0.22.\n",
      "  \"10 in version 0.20 to 100 in 0.22.\", FutureWarning)\n",
      "C:\\Users\\Debjeet Das\\Anaconda3\\lib\\site-packages\\sklearn\\ensemble\\forest.py:245: FutureWarning: The default value of n_estimators will change from 10 in version 0.20 to 100 in 0.22.\n",
      "  \"10 in version 0.20 to 100 in 0.22.\", FutureWarning)\n",
      "C:\\Users\\Debjeet Das\\Anaconda3\\lib\\site-packages\\sklearn\\ensemble\\forest.py:245: FutureWarning: The default value of n_estimators will change from 10 in version 0.20 to 100 in 0.22.\n",
      "  \"10 in version 0.20 to 100 in 0.22.\", FutureWarning)\n",
      "C:\\Users\\Debjeet Das\\Anaconda3\\lib\\site-packages\\sklearn\\ensemble\\forest.py:245: FutureWarning: The default value of n_estimators will change from 10 in version 0.20 to 100 in 0.22.\n",
      "  \"10 in version 0.20 to 100 in 0.22.\", FutureWarning)\n",
      "C:\\Users\\Debjeet Das\\Anaconda3\\lib\\site-packages\\sklearn\\ensemble\\forest.py:245: FutureWarning: The default value of n_estimators will change from 10 in version 0.20 to 100 in 0.22.\n",
      "  \"10 in version 0.20 to 100 in 0.22.\", FutureWarning)\n",
      "C:\\Users\\Debjeet Das\\Anaconda3\\lib\\site-packages\\sklearn\\ensemble\\forest.py:245: FutureWarning: The default value of n_estimators will change from 10 in version 0.20 to 100 in 0.22.\n",
      "  \"10 in version 0.20 to 100 in 0.22.\", FutureWarning)\n",
      "C:\\Users\\Debjeet Das\\Anaconda3\\lib\\site-packages\\sklearn\\ensemble\\forest.py:245: FutureWarning: The default value of n_estimators will change from 10 in version 0.20 to 100 in 0.22.\n",
      "  \"10 in version 0.20 to 100 in 0.22.\", FutureWarning)\n"
     ]
    }
   ],
   "source": [
    "# CROSS VALIDATION SCORE FOR LOGISTIC :\n",
    "\n",
    "list1=[LogisticRegression(),RandomForestClassifier(),KNeighborsClassifier(),XGBClassifier(),AdaBoostClassifier(),GradientBoostingClassifier(),DecisionTreeClassifier(),GaussianNB()]\n",
    "ls=[]\n",
    "for i in list1:\n",
    "    c= cross_val_score(i,real_x,real_y,cv=7)\n",
    "    ls.append(c)"
   ]
  },
  {
   "cell_type": "code",
   "execution_count": 81,
   "metadata": {},
   "outputs": [],
   "source": [
    "# Calculating the mean accuracy for each classification model:\n",
    "mean_acc=[]\n",
    "for i in ls:\n",
    "    mean_acc.append(i.mean())"
   ]
  },
  {
   "cell_type": "code",
   "execution_count": 82,
   "metadata": {
    "scrolled": true
   },
   "outputs": [
    {
     "data": {
      "text/plain": [
       "[0.7877156031968647,\n",
       " 0.9863316610100765,\n",
       " 0.9427959359175425,\n",
       " 0.970397583475575,\n",
       " 0.9514634258924317,\n",
       " 0.970197534565048,\n",
       " 0.9773321355551365,\n",
       " 0.8116529122624271]"
      ]
     },
     "execution_count": 82,
     "metadata": {},
     "output_type": "execute_result"
    }
   ],
   "source": [
    "# mean accuracy of models:\n",
    "mean_acc"
   ]
  },
  {
   "cell_type": "markdown",
   "metadata": {},
   "source": [
    "## MODEL  & AVG_ACCURACY  DATAFRAME AFTER K-FOLD CROSSVALIDATION :\n",
    "   - The below Dataframe shows the models and its corressponding average accuracy using K-Fold Cross validation.\n",
    "   - The highest accuracy is obtained by using Random Forest Algorithm which was tested using 7 folds."
   ]
  },
  {
   "cell_type": "code",
   "execution_count": 83,
   "metadata": {
    "scrolled": false
   },
   "outputs": [
    {
     "data": {
      "text/html": [
       "<div>\n",
       "<style scoped>\n",
       "    .dataframe tbody tr th:only-of-type {\n",
       "        vertical-align: middle;\n",
       "    }\n",
       "\n",
       "    .dataframe tbody tr th {\n",
       "        vertical-align: top;\n",
       "    }\n",
       "\n",
       "    .dataframe thead th {\n",
       "        text-align: right;\n",
       "    }\n",
       "</style>\n",
       "<table border=\"1\" class=\"dataframe\">\n",
       "  <thead>\n",
       "    <tr style=\"text-align: right;\">\n",
       "      <th></th>\n",
       "      <th>Model</th>\n",
       "      <th>Avg_Accuracy</th>\n",
       "    </tr>\n",
       "  </thead>\n",
       "  <tbody>\n",
       "    <tr>\n",
       "      <th>1</th>\n",
       "      <td>RandomForestClassifier</td>\n",
       "      <td>0.986332</td>\n",
       "    </tr>\n",
       "    <tr>\n",
       "      <th>6</th>\n",
       "      <td>DecisionTreeClassifier</td>\n",
       "      <td>0.977332</td>\n",
       "    </tr>\n",
       "    <tr>\n",
       "      <th>3</th>\n",
       "      <td>XGBClassifier</td>\n",
       "      <td>0.970398</td>\n",
       "    </tr>\n",
       "    <tr>\n",
       "      <th>5</th>\n",
       "      <td>GradientBoostingClassifier</td>\n",
       "      <td>0.970198</td>\n",
       "    </tr>\n",
       "    <tr>\n",
       "      <th>4</th>\n",
       "      <td>AdaBoostClassifier</td>\n",
       "      <td>0.951463</td>\n",
       "    </tr>\n",
       "    <tr>\n",
       "      <th>2</th>\n",
       "      <td>KNeighborsClassifier</td>\n",
       "      <td>0.942796</td>\n",
       "    </tr>\n",
       "    <tr>\n",
       "      <th>7</th>\n",
       "      <td>GaussianNB</td>\n",
       "      <td>0.811653</td>\n",
       "    </tr>\n",
       "    <tr>\n",
       "      <th>0</th>\n",
       "      <td>LogisticRegression</td>\n",
       "      <td>0.787716</td>\n",
       "    </tr>\n",
       "  </tbody>\n",
       "</table>\n",
       "</div>"
      ],
      "text/plain": [
       "                        Model  Avg_Accuracy\n",
       "1      RandomForestClassifier      0.986332\n",
       "6      DecisionTreeClassifier      0.977332\n",
       "3               XGBClassifier      0.970398\n",
       "5  GradientBoostingClassifier      0.970198\n",
       "4          AdaBoostClassifier      0.951463\n",
       "2        KNeighborsClassifier      0.942796\n",
       "7                  GaussianNB      0.811653\n",
       "0          LogisticRegression      0.787716"
      ]
     },
     "execution_count": 83,
     "metadata": {},
     "output_type": "execute_result"
    }
   ],
   "source": [
    "# Creating dataframe with models and average mean using K-fold Cross validation\n",
    "list4=[\"LogisticRegression\",\"RandomForestClassifier\",\"KNeighborsClassifier\",\"XGBClassifier\",\"AdaBoostClassifier\",\"GradientBoostingClassifier\",\"DecisionTreeClassifier\",\"GaussianNB\"]\n",
    "\n",
    "model_df=pd.DataFrame({\"Model\":list4,\"Avg_Accuracy\":mean_acc})\n",
    "model_df.sort_values(by= \"Avg_Accuracy\",ascending=False)"
   ]
  },
  {
   "cell_type": "markdown",
   "metadata": {},
   "source": [
    "# PROJECT OVERVIEW :\n",
    "\n",
    "### Exploratory Data Analysis  :\n",
    "  - Checking the shape of the data\n",
    "  - Checking the dtype of each column in the dataset.\n",
    "  - Treating the Null or missing values in the dataset.\n",
    "  - Checking the Skewness of the data.\n",
    "  - Checking wether the data is imbalanced or not.\n",
    "  - Treating the outliers in the dataset.\n",
    "  \n",
    "### Checking the Correlation & Skewness :\n",
    "   - correlation is checked using the heatmap.\n",
    "   - Using only highly correlated variables for further modelling.\n",
    "   - from the graph plotted above we can infer that the data is heavily right skewed.\n",
    "   \n",
    "### Data Splitting :\n",
    "   - Data is splitted by keeping 20% of data for testing and remaining for training.\n",
    "   - random_state is used for evaluation of the model on the same samples of train and test set.\n",
    "   - Also we have splitted the log transformed data into train/test for GaussianNb model as it works best with such data.\n",
    "   \n",
    "### Checking the Data balance  :\n",
    "   - In the above dataset the percentage of class-1 is very much lower than that of class-0.\n",
    "   - Here the total weightage of class-0 is 76% whereas for class-1 it is 24% .\n",
    "   - This shows that the data is distributed in the ratio of 3:1.\n",
    "   - This means that the data is imbalanced in the given dataset.\n",
    "\n",
    "### Treating the Imbalanced Data  :\n",
    "   - In order to work with the Imbalanced data, we can either go for Under-Sampling or Over-Sampling.\n",
    "   - If we go for Under-Sampling then we try to bring the majority class near to the ratio of minority class.\n",
    "   - If we go for Over-Samling then the ratio of minority class is brought near to the ratio of majority class.\n",
    "   - However We mostly use Over-Sampling because due to under sampling there is a loss of data which is unaffordable.\n",
    "   - We can also try to balance the class weight of the minority class by taking the inverse of the class weight.\n",
    "   - For this we can set the class_weight parameter in logistic regression to \"balanced\" .\n",
    "   \n",
    "### Curse of Accuracy as a Performance evaluation metric   :\n",
    "   - Suppose the data in a dataset is distributed in a manner that the possibility of having cancer increases with the no. of        pizzas you eat .\n",
    "   - In such cases due to data imbalance or data diistribution the accuracy might come high.\n",
    "   - But at the same time if we think logically than it does not make any sense.\n",
    "   - Thus accuracy is not always the Performance evaluation metric to be used.\n",
    "   \n",
    "### Changing the Threshold Value for reducing the Type 1 error :\n",
    "   -  By looking at the graph we can see the threshold value at (0.25 , 0.85) fpr,tpr shows better results for this data.\n",
    "   -  Because for this threshold tpr is 0.85 and fpr is very less,that is 0.25 which is an ideal condition.\n",
    "   -  After changing the threshold value,by comparing the before and after confusion matrices respectively.\n",
    "   -  We can see that the False positive values have gone down. Which makes our model more reliable. \n",
    "   -  We use binarize to set the threshold to a desired value to reduce the False positive values.\n",
    "   -  binarize takes  2 arguments - binarize([predicted_proba],threshold = 0.47)\n",
    "   \n",
    "### AUC & Accuracy DataFrame for each model :\n",
    "   - From the above area_auc_DF Dataframe we can see,the area under the curve for RandomForest Algorithm is highest.\n",
    "   - Thus this is also a valid pefromance metric as this model has the highest AUC and accuracy for this dataset.\n",
    "   - But these are the model parameters where samples used for train/test are imbalanced.\n",
    "   - Here the model is showing better prediction for a certain random_state.\n",
    "   - But when we change the random_state the accuracy as well as the auc decreases.\n",
    "   - Hence using each model score individually for a particular samples of train/test set cant be validated.\n",
    "   - Thus RandomForest is performing the best for classification for the given dataset.\n",
    "   \n",
    "### K-Fold Cross Validation (Stratified K-Fold)  :\n",
    "   - The dataframe model_df shows the average accuracy of different algorithm when done using k-fold crossvalidation.\n",
    "   - Here we are dividing the dataset into k-folds.\n",
    "   - Then using these k-folds,we are taking each fold as a test sample and all the other folds as training set.\n",
    "   - Thus every fold is iterable until all the folds have once been used for testing set.\n",
    "   - Hence even if there is imbalanced data distribution, all the combinations of samples will be considered for modelling.\n",
    "   - After this we will take the average of all the accuracies which we got for a model.\n",
    "   - Thus the average accuracy of the model,considering all the sample combinations for training/testing is done.\n",
    "   - Hence we can validate the performance of the model using this parameter.\n",
    "   \n",
    "### Model which performs better on the basis of Accuracy:\n",
    "   - The area_auc_DF Dataframe we can see,the area under the curve & Accuracy for RandomForest Algorithm is highest.\n",
    "   - The Final Dataframe model_df with Models used and Average accuracy score as columns which show the best Classifier for this dataset after K-Fold Cross validation.\n",
    "   - On the basis of that Random forest classifier performs the best on the basis of accuracy.\n",
    "   \n",
    "### No,Accuracy is not the best performance Evaluation metric for this dataset  :\n",
    "   - As we can see from the above statement, the data is imbalanced.\n",
    "   - Thus the data might perform better in the training set but might show high bias in the test set.\n",
    "   - Somehow for some random samples the data can perform well for train as well as the test sets.\n",
    "   - But will perform worst in other cases with very poor accuracy score.\n",
    "   - Thus just the accuracy cant be used as the performance evaluation metric.\n",
    "   - So now we have to check the FPR,TPR,precision,recall and f1-score values for performance evaluation.\n",
    "   - Also we need to check,Area under the curve for each model to see which of the model will best suit the performance.\n",
    "   - we can use the Roc curve to determine the same.\n",
    "   - We Can refer to all the ROC curves and Confusion Matrices of all the classification models each for more clarity.\n",
    "   - However sometimes even the above suggested metrics are not suitable for evalutaion of a particular dataset.\n",
    "   - Thus we need to go for PR curve, which uses the precision and recall for evaluation of the dataset."
   ]
  }
 ],
 "metadata": {
  "kernelspec": {
   "display_name": "Python 3",
   "language": "python",
   "name": "python3"
  },
  "language_info": {
   "codemirror_mode": {
    "name": "ipython",
    "version": 3
   },
   "file_extension": ".py",
   "mimetype": "text/x-python",
   "name": "python",
   "nbconvert_exporter": "python",
   "pygments_lexer": "ipython3",
   "version": "3.7.3"
  }
 },
 "nbformat": 4,
 "nbformat_minor": 2
}
