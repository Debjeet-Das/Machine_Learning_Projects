{
 "cells": [
  {
   "cell_type": "markdown",
   "metadata": {},
   "source": [
    "## Loading the Train dataset :\n",
    "  - Checking the Info of the columns in the dataset.\n",
    "  \n",
    "## VISIT : https://github.com/Debjeet-Das/Bigmart-Outlet_Sales"
   ]
  },
  {
   "cell_type": "code",
   "execution_count": 1,
   "metadata": {
    "scrolled": true
   },
   "outputs": [
    {
     "name": "stdout",
     "output_type": "stream",
     "text": [
      "(8523, 12)\n",
      "<class 'pandas.core.frame.DataFrame'>\n",
      "RangeIndex: 8523 entries, 0 to 8522\n",
      "Data columns (total 12 columns):\n",
      "Item_Identifier              8523 non-null object\n",
      "Item_Weight                  7060 non-null float64\n",
      "Item_Fat_Content             8523 non-null object\n",
      "Item_Visibility              8523 non-null float64\n",
      "Item_Type                    8523 non-null object\n",
      "Item_MRP                     8523 non-null float64\n",
      "Outlet_Identifier            8523 non-null object\n",
      "Outlet_Establishment_Year    8523 non-null int64\n",
      "Outlet_Size                  6113 non-null object\n",
      "Outlet_Location_Type         8523 non-null object\n",
      "Outlet_Type                  8523 non-null object\n",
      "Item_Outlet_Sales            8523 non-null float64\n",
      "dtypes: float64(4), int64(1), object(7)\n",
      "memory usage: 799.1+ KB\n",
      "None\n"
     ]
    }
   ],
   "source": [
    "import pandas as pd\n",
    "import numpy as np\n",
    "\n",
    "data= pd.read_csv(\"Train.csv\")\n",
    "print(data.shape)\n",
    "print(data.info())"
   ]
  },
  {
   "cell_type": "markdown",
   "metadata": {},
   "source": [
    "## Missing values treatment and data cleaning :"
   ]
  },
  {
   "cell_type": "code",
   "execution_count": 2,
   "metadata": {},
   "outputs": [
    {
     "data": {
      "text/plain": [
       "array(['Low Fat', 'Regular'], dtype=object)"
      ]
     },
     "execution_count": 2,
     "metadata": {},
     "output_type": "execute_result"
    }
   ],
   "source": [
    "# Replacing the duplicates with its original categories\n",
    "\n",
    "data[\"Item_Fat_Content\"] = data[\"Item_Fat_Content\"].str.replace(\"reg\",\"Regular\")\n",
    "data[\"Item_Fat_Content\"] = data[\"Item_Fat_Content\"].str.replace(\"LF\",\"Low Fat\")\n",
    "data[\"Item_Fat_Content\"] = data[\"Item_Fat_Content\"].str.replace(\"low fat\",\"Low Fat\")\n",
    "data[\"Item_Fat_Content\"].unique()"
   ]
  },
  {
   "cell_type": "code",
   "execution_count": 3,
   "metadata": {},
   "outputs": [
    {
     "data": {
      "text/plain": [
       "Item_Identifier               0.000000\n",
       "Item_Weight                  17.165317\n",
       "Item_Fat_Content              0.000000\n",
       "Item_Visibility               0.000000\n",
       "Item_Type                     0.000000\n",
       "Item_MRP                      0.000000\n",
       "Outlet_Identifier             0.000000\n",
       "Outlet_Establishment_Year     0.000000\n",
       "Outlet_Size                  28.276428\n",
       "Outlet_Location_Type          0.000000\n",
       "Outlet_Type                   0.000000\n",
       "Item_Outlet_Sales             0.000000\n",
       "dtype: float64"
      ]
     },
     "execution_count": 3,
     "metadata": {},
     "output_type": "execute_result"
    }
   ],
   "source": [
    "# Percentage of null values in each column:\n",
    "data.isnull().sum()/len(data)*100"
   ]
  },
  {
   "cell_type": "code",
   "execution_count": 4,
   "metadata": {},
   "outputs": [
    {
     "name": "stdout",
     "output_type": "stream",
     "text": [
      "Requirement already satisfied: missingpy in c:\\users\\debjeet das\\anaconda3\\lib\\site-packages (0.2.0)\n"
     ]
    }
   ],
   "source": [
    "!pip install missingpy"
   ]
  },
  {
   "cell_type": "code",
   "execution_count": 5,
   "metadata": {
    "scrolled": true
   },
   "outputs": [
    {
     "name": "stderr",
     "output_type": "stream",
     "text": [
      "C:\\Users\\Debjeet Das\\Anaconda3\\lib\\site-packages\\missingpy\\knnimpute.py:224: UserWarning: There are rows with more than 50.0% missing values. These rows are not included as donor neighbors.\n",
      "  .format(self.row_max_missing * 100))\n",
      "C:\\Users\\Debjeet Das\\Anaconda3\\lib\\site-packages\\missingpy\\knnimpute.py:282: UserWarning: There are rows with more than 50.0% missing values. The missing features in these rows are imputed with column means.\n",
      "  .format(self.row_max_missing * 100))\n"
     ]
    }
   ],
   "source": [
    "# Imputing the nan values using Knn Imputer for Item_Weight Column\n",
    "from missingpy import KNNImputer\n",
    "kn= KNNImputer(weights='distance')\n",
    "new_weight= kn.fit_transform(data[\"Item_Weight\"].values.reshape(-1,1))\n",
    "data[\"Item_Weight\"]=new_weight"
   ]
  },
  {
   "cell_type": "code",
   "execution_count": 6,
   "metadata": {},
   "outputs": [],
   "source": [
    "# Substituting the missing values with mean for Item_Weight Column\n",
    "data[\"Item_Weight\"]=data[\"Item_Weight\"].fillna(np.mean(data[\"Item_Weight\"]))"
   ]
  },
  {
   "cell_type": "code",
   "execution_count": 7,
   "metadata": {},
   "outputs": [
    {
     "data": {
      "text/html": [
       "<div>\n",
       "<style scoped>\n",
       "    .dataframe tbody tr th:only-of-type {\n",
       "        vertical-align: middle;\n",
       "    }\n",
       "\n",
       "    .dataframe tbody tr th {\n",
       "        vertical-align: top;\n",
       "    }\n",
       "\n",
       "    .dataframe thead th {\n",
       "        text-align: right;\n",
       "    }\n",
       "</style>\n",
       "<table border=\"1\" class=\"dataframe\">\n",
       "  <thead>\n",
       "    <tr style=\"text-align: right;\">\n",
       "      <th></th>\n",
       "      <th>Item_Outlet_Sales</th>\n",
       "    </tr>\n",
       "    <tr>\n",
       "      <th>Outlet_Size</th>\n",
       "      <th></th>\n",
       "    </tr>\n",
       "  </thead>\n",
       "  <tbody>\n",
       "    <tr>\n",
       "      <th>High</th>\n",
       "      <td>2147.162776</td>\n",
       "    </tr>\n",
       "    <tr>\n",
       "      <th>Medium</th>\n",
       "      <td>2441.709463</td>\n",
       "    </tr>\n",
       "    <tr>\n",
       "      <th>Small</th>\n",
       "      <td>1882.829379</td>\n",
       "    </tr>\n",
       "  </tbody>\n",
       "</table>\n",
       "</div>"
      ],
      "text/plain": [
       "             Item_Outlet_Sales\n",
       "Outlet_Size                   \n",
       "High               2147.162776\n",
       "Medium             2441.709463\n",
       "Small              1882.829379"
      ]
     },
     "execution_count": 7,
     "metadata": {},
     "output_type": "execute_result"
    }
   ],
   "source": [
    "#Imputing nan values using fillna \"backwordFill\" method and analysing the nature of Item_Outlet_Sales after Imputation.\n",
    "\n",
    "data[\"Outlet_Size\"]=data[\"Outlet_Size\"].fillna(method=\"bfill\")\n",
    "data.pivot_table(index=\"Outlet_Size\",values=\"Item_Outlet_Sales\")"
   ]
  },
  {
   "cell_type": "code",
   "execution_count": 8,
   "metadata": {
    "scrolled": true
   },
   "outputs": [
    {
     "data": {
      "text/plain": [
       "Item_Identifier              0.0\n",
       "Item_Weight                  0.0\n",
       "Item_Fat_Content             0.0\n",
       "Item_Visibility              0.0\n",
       "Item_Type                    0.0\n",
       "Item_MRP                     0.0\n",
       "Outlet_Identifier            0.0\n",
       "Outlet_Establishment_Year    0.0\n",
       "Outlet_Size                  0.0\n",
       "Outlet_Location_Type         0.0\n",
       "Outlet_Type                  0.0\n",
       "Item_Outlet_Sales            0.0\n",
       "dtype: float64"
      ]
     },
     "execution_count": 8,
     "metadata": {},
     "output_type": "execute_result"
    }
   ],
   "source": [
    "data.isnull().sum()/len(data)*100"
   ]
  },
  {
   "cell_type": "markdown",
   "metadata": {},
   "source": [
    "## Checking the Correlation :"
   ]
  },
  {
   "cell_type": "code",
   "execution_count": 45,
   "metadata": {},
   "outputs": [
    {
     "data": {
      "image/png": "[encoded data removed]",
      "text/plain": [
       "<Figure size 720x360 with 2 Axes>"
      ]
     },
     "metadata": {
      "needs_background": "light"
     },
     "output_type": "display_data"
    }
   ],
   "source": [
    "# This shoe the correlation through HeatMap\n",
    "import matplotlib.pyplot as plt\n",
    "import seaborn as sns\n",
    "plt.figure(figsize=(10,5))\n",
    "sns.heatmap(data.corr(),annot=True,cmap=\"Blues\")\n",
    "plt.show()"
   ]
  },
  {
   "cell_type": "markdown",
   "metadata": {},
   "source": [
    "## Encoding the Categorical columns :\n",
    "  - firstly calculated the frequency of each category.\n",
    "  - Now substitude each category with its frequency.\n",
    "  - Did the same for all the categorical variables and then label encoded it.\n",
    "  - Now as the categories are already converted to a numerical value.\n",
    "  - Now if we do label encoding, the labels will be given on the basis of the freq. i.e high freq. will get higher value.\n",
    "  - This will depict that the categories with high frequency has more importance and reducing there after for other categories.\n",
    "  - Now use these features for further modelling ."
   ]
  },
  {
   "cell_type": "code",
   "execution_count": 10,
   "metadata": {},
   "outputs": [
    {
     "data": {
      "text/plain": [
       "0       5577\n",
       "1        928\n",
       "2       5577\n",
       "3       1083\n",
       "4       5577\n",
       "5        928\n",
       "6       5577\n",
       "7        935\n",
       "8       5577\n",
       "9       5577\n",
       "10      5577\n",
       "11      5577\n",
       "12      5577\n",
       "13      5577\n",
       "14      5577\n",
       "15      5577\n",
       "16       928\n",
       "17      5577\n",
       "18       935\n",
       "19      5577\n",
       "20      5577\n",
       "21       935\n",
       "22      5577\n",
       "23      1083\n",
       "24      5577\n",
       "25      5577\n",
       "26      5577\n",
       "27      5577\n",
       "28      1083\n",
       "29      1083\n",
       "        ... \n",
       "8493    5577\n",
       "8494    5577\n",
       "8495    5577\n",
       "8496    5577\n",
       "8497    5577\n",
       "8498     928\n",
       "8499    5577\n",
       "8500    5577\n",
       "8501    5577\n",
       "8502    5577\n",
       "8503    5577\n",
       "8504     935\n",
       "8505     928\n",
       "8506     928\n",
       "8507    5577\n",
       "8508    5577\n",
       "8509    1083\n",
       "8510    5577\n",
       "8511     928\n",
       "8512    5577\n",
       "8513    5577\n",
       "8514    5577\n",
       "8515     928\n",
       "8516     928\n",
       "8517    5577\n",
       "8518    5577\n",
       "8519    5577\n",
       "8520    5577\n",
       "8521     928\n",
       "8522    5577\n",
       "Name: Outlet_Type, Length: 8523, dtype: int64"
      ]
     },
     "execution_count": 10,
     "metadata": {},
     "output_type": "execute_result"
    }
   ],
   "source": [
    "# substituting the outletType with the its frequency of each category\n",
    "OutletType=data[\"Outlet_Type\"].value_counts()\n",
    "data[\"Outlet_Type\"]=data[\"Outlet_Type\"].map(OutletType)\n",
    "data[\"Outlet_Type\"]"
   ]
  },
  {
   "cell_type": "code",
   "execution_count": 11,
   "metadata": {},
   "outputs": [],
   "source": [
    "# substituting the Outlet_Size with the its frequency of each category\n",
    "OutletSize=data[\"Outlet_Size\"].value_counts()\n",
    "data[\"Outlet_Size\"]=data[\"Outlet_Size\"].map(OutletSize)"
   ]
  },
  {
   "cell_type": "code",
   "execution_count": 12,
   "metadata": {},
   "outputs": [],
   "source": [
    "# substituting the Item_Fat_Content with the its frequency of each category\n",
    "Item_Fat_Content=data[\"Item_Fat_Content\"].value_counts()\n",
    "data[\"Item_Fat_Content\"]=data[\"Item_Fat_Content\"].map(Item_Fat_Content)"
   ]
  },
  {
   "cell_type": "code",
   "execution_count": 13,
   "metadata": {},
   "outputs": [],
   "source": [
    "#converting date to age of Outlet\n",
    "data[\"Outlet_Establishment_Year\"]= data[\"Outlet_Establishment_Year\"].apply(lambda x : 2009 - x)"
   ]
  },
  {
   "cell_type": "code",
   "execution_count": 14,
   "metadata": {},
   "outputs": [],
   "source": [
    "# substituting the Outlet_Establishment_Year with the its frequency of each category\n",
    "Outlet_Establishment_Year=data[\"Outlet_Establishment_Year\"].value_counts()\n",
    "data[\"Outlet_Establishment_Year\"]=data[\"Outlet_Establishment_Year\"].map(Outlet_Establishment_Year)"
   ]
  },
  {
   "cell_type": "code",
   "execution_count": 15,
   "metadata": {},
   "outputs": [],
   "source": [
    "# substituting the Outlet_Identifier with the its frequency of each category\n",
    "Outlet_Identifier=data[\"Outlet_Identifier\"].value_counts()\n",
    "data[\"Outlet_Identifier\"]=data[\"Outlet_Identifier\"].map(Outlet_Identifier)"
   ]
  },
  {
   "cell_type": "code",
   "execution_count": 16,
   "metadata": {},
   "outputs": [],
   "source": [
    "# substituting the Item_Identifier with the its frequency of each category\n",
    "Item_Identifier=data[\"Item_Identifier\"].value_counts()\n",
    "data[\"Item_Identifier\"]=data[\"Item_Identifier\"].map(Item_Identifier)"
   ]
  },
  {
   "cell_type": "code",
   "execution_count": 17,
   "metadata": {},
   "outputs": [],
   "source": [
    "# substituting the Item_Identifier with the its frequency of each category\n",
    "Item_Type=data[\"Item_Type\"].value_counts()\n",
    "data[\"Item_Type\"]=data[\"Item_Type\"].map(Item_Type)"
   ]
  },
  {
   "cell_type": "markdown",
   "metadata": {},
   "source": [
    "## Segregating the Target and Independent features.\n",
    "   - Here IV,DV are the features without log Transform.\n",
    "   - And the Log_IV ,Log_Dv are the log transformed features."
   ]
  },
  {
   "cell_type": "code",
   "execution_count": 18,
   "metadata": {},
   "outputs": [],
   "source": [
    "DV = data[\"Item_Outlet_Sales\"]"
   ]
  },
  {
   "cell_type": "code",
   "execution_count": 19,
   "metadata": {},
   "outputs": [],
   "source": [
    "IV=data[[\"Item_Type\",\"Item_MRP\",\"Outlet_Identifier\",\"Outlet_Establishment_Year\",\"Outlet_Type\",\"Outlet_Size\",\"Item_Fat_Content\"]]"
   ]
  },
  {
   "cell_type": "code",
   "execution_count": 20,
   "metadata": {},
   "outputs": [],
   "source": [
    "# Log transformed Dependent Variable\n",
    "Log_DV = data[\"Item_Outlet_Sales\"].apply(lambda x : np.log(x+1))"
   ]
  },
  {
   "cell_type": "code",
   "execution_count": 21,
   "metadata": {},
   "outputs": [],
   "source": [
    "# Log transformed Independent Variable\n",
    "Log_IV=data[[\"Item_Type\",\"Item_MRP\",\"Outlet_Identifier\",\"Outlet_Establishment_Year\",\"Outlet_Type\",\"Outlet_Size\",\"Item_Fat_Content\"]].apply(lambda x : np.log(x+1)) "
   ]
  },
  {
   "cell_type": "markdown",
   "metadata": {},
   "source": [
    "## Plotting the graphs to see the skewness and outliers in  the Dataset :\n",
    "  - Using distplot from seaborn library for determing the skewness in th data.\n",
    "  - And boxplot to identify the outliers in the features."
   ]
  },
  {
   "cell_type": "code",
   "execution_count": 22,
   "metadata": {
    "scrolled": true
   },
   "outputs": [
    {
     "data": {
      "text/plain": [
       "<matplotlib.axes._subplots.AxesSubplot at 0x20e8caaea20>"
      ]
     },
     "execution_count": 22,
     "metadata": {},
     "output_type": "execute_result"
    },
    {
     "data": {
      "image/png": "[encoded data removed]",
      "text/plain": [
       "<Figure size 432x288 with 1 Axes>"
      ]
     },
     "metadata": {
      "needs_background": "light"
     },
     "output_type": "display_data"
    }
   ],
   "source": [
    "# This graph shows the skewness of the features after Log transform\n",
    "import seaborn as sns\n",
    "sns.distplot(Log_IV.skew(),hist=False)"
   ]
  },
  {
   "cell_type": "code",
   "execution_count": 23,
   "metadata": {
    "scrolled": false
   },
   "outputs": [
    {
     "data": {
      "text/plain": [
       "<matplotlib.axes._subplots.AxesSubplot at 0x20e8cb2a438>"
      ]
     },
     "execution_count": 23,
     "metadata": {},
     "output_type": "execute_result"
    },
    {
     "data": {
      "image/png": "[encoded data removed]",
      "text/plain": [
       "<Figure size 432x288 with 1 Axes>"
      ]
     },
     "metadata": {
      "needs_background": "light"
     },
     "output_type": "display_data"
    }
   ],
   "source": [
    "# skewness means there might be outliers in the dataset too.\n",
    "# Thus checking the numerical variables wether it has outliers\n",
    "\n",
    "box_data=data[[\"Item_Weight\",\"Item_Visibility\",\"Item_MRP\"]]\n",
    "sns.boxplot(data=box_data,orient=\"v\")"
   ]
  },
  {
   "cell_type": "markdown",
   "metadata": {},
   "source": [
    "## Fitting the Linear Model :\n",
    "   - Linear model fitting with log transformed feartures.\n",
    "   - Plotted the coef_ values.\n",
    "   - Plotted the Residue plot."
   ]
  },
  {
   "cell_type": "code",
   "execution_count": 24,
   "metadata": {},
   "outputs": [
    {
     "name": "stdout",
     "output_type": "stream",
     "text": [
      "r2scores :  0.7563076189292287\n",
      "rmses :  0.5194912998237238\n"
     ]
    }
   ],
   "source": [
    "#Linear regression\n",
    "#After log transformation on Independent and Dependent Variables\n",
    "\n",
    "from sklearn.model_selection import train_test_split\n",
    "from sklearn.metrics import r2_score, mean_squared_error\n",
    "from math import sqrt\n",
    "from sklearn.linear_model import LinearRegression\n",
    "\n",
    "train_x,test_x,train_y,test_y=train_test_split(Log_IV,Log_DV,test_size=0.2,random_state=3)\n",
    "lr= LinearRegression()\n",
    "lr.fit(train_x,train_y)\n",
    "y_pred=lr.predict(test_x)\n",
    "r2scores= r2_score(test_y,y_pred)\n",
    "rmses= sqrt(mean_squared_error(test_y,y_pred))\n",
    "print(\"r2scores : \",r2scores)\n",
    "print(\"rmses : \",rmses)"
   ]
  },
  {
   "cell_type": "code",
   "execution_count": 25,
   "metadata": {},
   "outputs": [
    {
     "name": "stdout",
     "output_type": "stream",
     "text": [
      "Item_Fat_Content            -0.029298\n",
      "Outlet_Type                 -0.019332\n",
      "Item_Type                   -0.016272\n",
      "Outlet_Size                  0.024901\n",
      "Outlet_Establishment_Year    0.544679\n",
      "Item_MRP                     1.023305\n",
      "Outlet_Identifier            3.610911\n",
      "dtype: float64\n"
     ]
    },
    {
     "data": {
      "text/plain": [
       "<matplotlib.axes._subplots.AxesSubplot at 0x20e8cba4208>"
      ]
     },
     "execution_count": 25,
     "metadata": {},
     "output_type": "execute_result"
    },
    {
     "data": {
      "image/png": "[encoded data removed]",
      "text/plain": [
       "<Figure size 432x288 with 1 Axes>"
      ]
     },
     "metadata": {
      "needs_background": "light"
     },
     "output_type": "display_data"
    }
   ],
   "source": [
    "# plotting the coef_ bar graph\n",
    "\n",
    "%matplotlib inline\n",
    "iv=train_x.columns\n",
    "coef1= lr.coef_\n",
    "coef_col1=pd.Series(coef1,iv).sort_values()\n",
    "print(coef_col1)\n",
    "coef_col1.plot(kind=\"bar\",title=\"Modal coeff\")"
   ]
  },
  {
   "cell_type": "code",
   "execution_count": 26,
   "metadata": {
    "scrolled": false
   },
   "outputs": [
    {
     "data": {
      "text/plain": [
       "<matplotlib.lines.Line2D at 0x20e8cbbf2e8>"
      ]
     },
     "execution_count": 26,
     "metadata": {},
     "output_type": "execute_result"
    },
    {
     "data": {
      "image/png": "[encoded data removed]",
      "text/plain": [
       "<Figure size 432x288 with 1 Axes>"
      ]
     },
     "metadata": {
      "needs_background": "light"
     },
     "output_type": "display_data"
    }
   ],
   "source": [
    "# Residue plot after Log transformed Variables\n",
    "\n",
    "residue = test_y - y_pred\n",
    "import matplotlib.pyplot as plt\n",
    "plt.scatter(test_y,residue)\n",
    "plt.axhline(y=0)"
   ]
  },
  {
   "cell_type": "markdown",
   "metadata": {},
   "source": [
    "## Fitting the Linear Model:\n",
    "   - This model is fitted without Log transformed Features."
   ]
  },
  {
   "cell_type": "code",
   "execution_count": 27,
   "metadata": {},
   "outputs": [
    {
     "name": "stdout",
     "output_type": "stream",
     "text": [
      "r2scores :  0.5653459704855344\n",
      "rmses :  1137.6747875341282\n"
     ]
    }
   ],
   "source": [
    "#Linear regression\n",
    "#Without Log Transformation\n",
    "\n",
    "from sklearn.model_selection import train_test_split\n",
    "from sklearn.metrics import r2_score, mean_squared_error\n",
    "from math import sqrt\n",
    "from sklearn.linear_model import LinearRegression\n",
    "trainx,testx,trainy,testy=train_test_split(IV,DV,test_size=0.2,random_state=3)\n",
    "LR= LinearRegression()\n",
    "LR.fit(trainx,trainy)\n",
    "y_predict=LR.predict(testx)\n",
    "r2score= r2_score(testy,y_predict)\n",
    "rmse= sqrt(mean_squared_error(testy,y_predict))\n",
    "print(\"r2scores : \",r2score)\n",
    "print(\"rmses : \",rmse)"
   ]
  },
  {
   "cell_type": "code",
   "execution_count": 28,
   "metadata": {
    "scrolled": true
   },
   "outputs": [
    {
     "data": {
      "text/plain": [
       "<matplotlib.lines.Line2D at 0x20e8c8318d0>"
      ]
     },
     "execution_count": 28,
     "metadata": {},
     "output_type": "execute_result"
    },
    {
     "data": {
      "image/png": "[encoded data removed]",
      "text/plain": [
       "<Figure size 432x288 with 1 Axes>"
      ]
     },
     "metadata": {
      "needs_background": "light"
     },
     "output_type": "display_data"
    }
   ],
   "source": [
    "# Residue plot after Log transformed Variables\n",
    "res = testy - y_predict\n",
    "import matplotlib.pyplot as plt\n",
    "plt.scatter(testy,res)\n",
    "plt.axhline(y=0)"
   ]
  },
  {
   "cell_type": "markdown",
   "metadata": {},
   "source": [
    "## Using Regularisation Techniques:\n",
    "   - Used Ridge & Lasso with different alpha values.\n",
    "   - Also created a dataframe with Alpha values and r2_score for comparision.\n",
    "   - Plotted the Modal coef_ graph to see the affect on the features after regularisation."
   ]
  },
  {
   "cell_type": "markdown",
   "metadata": {},
   "source": [
    "#### Ridge :"
   ]
  },
  {
   "cell_type": "code",
   "execution_count": 29,
   "metadata": {
    "scrolled": false
   },
   "outputs": [
    {
     "data": {
      "text/html": [
       "<div>\n",
       "<style scoped>\n",
       "    .dataframe tbody tr th:only-of-type {\n",
       "        vertical-align: middle;\n",
       "    }\n",
       "\n",
       "    .dataframe tbody tr th {\n",
       "        vertical-align: top;\n",
       "    }\n",
       "\n",
       "    .dataframe thead th {\n",
       "        text-align: right;\n",
       "    }\n",
       "</style>\n",
       "<table border=\"1\" class=\"dataframe\">\n",
       "  <thead>\n",
       "    <tr style=\"text-align: right;\">\n",
       "      <th></th>\n",
       "      <th>ALPHA</th>\n",
       "      <th>R2SCORE</th>\n",
       "    </tr>\n",
       "  </thead>\n",
       "  <tbody>\n",
       "    <tr>\n",
       "      <th>0</th>\n",
       "      <td>0.0018</td>\n",
       "      <td>0.756171</td>\n",
       "    </tr>\n",
       "    <tr>\n",
       "      <th>1</th>\n",
       "      <td>0.0020</td>\n",
       "      <td>0.756155</td>\n",
       "    </tr>\n",
       "    <tr>\n",
       "      <th>2</th>\n",
       "      <td>0.0050</td>\n",
       "      <td>0.755916</td>\n",
       "    </tr>\n",
       "    <tr>\n",
       "      <th>3</th>\n",
       "      <td>0.0800</td>\n",
       "      <td>0.746820</td>\n",
       "    </tr>\n",
       "    <tr>\n",
       "      <th>4</th>\n",
       "      <td>0.0900</td>\n",
       "      <td>0.745258</td>\n",
       "    </tr>\n",
       "    <tr>\n",
       "      <th>5</th>\n",
       "      <td>0.1000</td>\n",
       "      <td>0.743634</td>\n",
       "    </tr>\n",
       "    <tr>\n",
       "      <th>6</th>\n",
       "      <td>0.5000</td>\n",
       "      <td>0.659535</td>\n",
       "    </tr>\n",
       "  </tbody>\n",
       "</table>\n",
       "</div>"
      ],
      "text/plain": [
       "    ALPHA   R2SCORE\n",
       "0  0.0018  0.756171\n",
       "1  0.0020  0.756155\n",
       "2  0.0050  0.755916\n",
       "3  0.0800  0.746820\n",
       "4  0.0900  0.745258\n",
       "5  0.1000  0.743634\n",
       "6  0.5000  0.659535"
      ]
     },
     "execution_count": 29,
     "metadata": {},
     "output_type": "execute_result"
    }
   ],
   "source": [
    "# Ridge\n",
    "# after log transformation applied on IV & DV\n",
    "\n",
    "from sklearn.linear_model import Ridge , Lasso\n",
    "list1=[0.0018,0.002,0.005,0.08,0.09,0.1,0.5]\n",
    "list2=[]\n",
    "for i in list1:\n",
    "    ridge_reg = Ridge(alpha=i,normalize=True)\n",
    "    trainxr,testxr,trainyr,testyr=train_test_split(Log_IV,Log_DV,test_size=0.2,random_state=3)\n",
    "    ridge_reg.fit(trainxr,trainyr)\n",
    "    y_pred_r=ridge_reg.predict(testxr)\n",
    "    r2score_r= r2_score(testyr,y_pred_r)\n",
    "    list2.append(r2score_r)\n",
    "\n",
    "ridge_rscore_df=pd.DataFrame({\"ALPHA\":list1,\"R2SCORE\":list2})\n",
    "ridge_rscore_df "
   ]
  },
  {
   "cell_type": "code",
   "execution_count": 30,
   "metadata": {},
   "outputs": [
    {
     "name": "stdout",
     "output_type": "stream",
     "text": [
      "Item_Fat_Content            -0.023984\n",
      "Item_Type                   -0.002113\n",
      "Outlet_Size                  0.055834\n",
      "Outlet_Type                  0.081401\n",
      "Outlet_Establishment_Year    0.500215\n",
      "Item_MRP                     0.681086\n",
      "Outlet_Identifier            2.266675\n",
      "dtype: float64\n"
     ]
    },
    {
     "data": {
      "text/plain": [
       "<matplotlib.axes._subplots.AxesSubplot at 0x20e8c88a828>"
      ]
     },
     "execution_count": 30,
     "metadata": {},
     "output_type": "execute_result"
    },
    {
     "data": {
      "image/png": "[encoded data removed]",
      "text/plain": [
       "<Figure size 432x288 with 1 Axes>"
      ]
     },
     "metadata": {
      "needs_background": "light"
     },
     "output_type": "display_data"
    }
   ],
   "source": [
    "# plotting the coef_ bar graph for ridge\n",
    "\n",
    "%matplotlib inline\n",
    "riv=trainxr.columns\n",
    "coef2= ridge_reg.coef_\n",
    "coef_col2=pd.Series(coef2,riv).sort_values()\n",
    "print(coef_col2)\n",
    "coef_col2.plot(kind=\"bar\",title=\"Modal coeff\")"
   ]
  },
  {
   "cell_type": "code",
   "execution_count": 31,
   "metadata": {
    "scrolled": true
   },
   "outputs": [
    {
     "data": {
      "text/plain": [
       "<matplotlib.lines.Line2D at 0x20e8c915fd0>"
      ]
     },
     "execution_count": 31,
     "metadata": {},
     "output_type": "execute_result"
    },
    {
     "data": {
      "image/png": "[encoded data removed]",
      "text/plain": [
       "<Figure size 432x288 with 1 Axes>"
      ]
     },
     "metadata": {
      "needs_background": "light"
     },
     "output_type": "display_data"
    }
   ],
   "source": [
    "# Residue plot for Ridge\n",
    "resr = testyr - y_pred_r\n",
    "import matplotlib.pyplot as plt\n",
    "plt.scatter(testyr,resr)\n",
    "plt.axhline(y=0)"
   ]
  },
  {
   "cell_type": "markdown",
   "metadata": {},
   "source": [
    "#### Lasso :"
   ]
  },
  {
   "cell_type": "code",
   "execution_count": 32,
   "metadata": {
    "scrolled": false
   },
   "outputs": [
    {
     "data": {
      "text/html": [
       "<div>\n",
       "<style scoped>\n",
       "    .dataframe tbody tr th:only-of-type {\n",
       "        vertical-align: middle;\n",
       "    }\n",
       "\n",
       "    .dataframe tbody tr th {\n",
       "        vertical-align: top;\n",
       "    }\n",
       "\n",
       "    .dataframe thead th {\n",
       "        text-align: right;\n",
       "    }\n",
       "</style>\n",
       "<table border=\"1\" class=\"dataframe\">\n",
       "  <thead>\n",
       "    <tr style=\"text-align: right;\">\n",
       "      <th></th>\n",
       "      <th>ALPHA</th>\n",
       "      <th>R2SCORE</th>\n",
       "    </tr>\n",
       "  </thead>\n",
       "  <tbody>\n",
       "    <tr>\n",
       "      <th>0</th>\n",
       "      <td>0.00185</td>\n",
       "      <td>0.719669</td>\n",
       "    </tr>\n",
       "    <tr>\n",
       "      <th>1</th>\n",
       "      <td>0.00200</td>\n",
       "      <td>0.715368</td>\n",
       "    </tr>\n",
       "    <tr>\n",
       "      <th>2</th>\n",
       "      <td>0.00500</td>\n",
       "      <td>0.733577</td>\n",
       "    </tr>\n",
       "    <tr>\n",
       "      <th>3</th>\n",
       "      <td>0.08000</td>\n",
       "      <td>0.467184</td>\n",
       "    </tr>\n",
       "    <tr>\n",
       "      <th>4</th>\n",
       "      <td>0.09000</td>\n",
       "      <td>0.430685</td>\n",
       "    </tr>\n",
       "    <tr>\n",
       "      <th>5</th>\n",
       "      <td>0.10000</td>\n",
       "      <td>0.338423</td>\n",
       "    </tr>\n",
       "    <tr>\n",
       "      <th>6</th>\n",
       "      <td>0.50000</td>\n",
       "      <td>-0.000290</td>\n",
       "    </tr>\n",
       "  </tbody>\n",
       "</table>\n",
       "</div>"
      ],
      "text/plain": [
       "     ALPHA   R2SCORE\n",
       "0  0.00185  0.719669\n",
       "1  0.00200  0.715368\n",
       "2  0.00500  0.733577\n",
       "3  0.08000  0.467184\n",
       "4  0.09000  0.430685\n",
       "5  0.10000  0.338423\n",
       "6  0.50000 -0.000290"
      ]
     },
     "execution_count": 32,
     "metadata": {},
     "output_type": "execute_result"
    }
   ],
   "source": [
    "# Lasso \n",
    "# after log transformation applied on IV & DV\n",
    "\n",
    "\n",
    "list1L=[0.00185,0.002,0.005,0.08,0.09,0.1,0.5]\n",
    "list2L=[]\n",
    "for i in list1L:\n",
    "    lasso_reg = Lasso(alpha=i)\n",
    "    trainxl,testxl,trainyl,testyl=train_test_split(Log_IV,Log_DV,test_size=0.2)\n",
    "    lasso_reg.fit(trainxl,trainyl)\n",
    "    y_pred_l=lasso_reg.predict(testxl)\n",
    "    r2score_l= r2_score(testyl,y_pred_l)\n",
    "    list2L.append(r2score_l)\n",
    "\n",
    "lasso_rscore_df=pd.DataFrame({\"ALPHA\":list1L,\"R2SCORE\":list2L})\n",
    "lasso_rscore_df"
   ]
  },
  {
   "cell_type": "code",
   "execution_count": 33,
   "metadata": {
    "scrolled": false
   },
   "outputs": [
    {
     "name": "stdout",
     "output_type": "stream",
     "text": [
      "Outlet_Type                 -0.016181\n",
      "Item_Fat_Content            -0.008661\n",
      "Item_Type                   -0.000000\n",
      "Outlet_Size                  0.022261\n",
      "Outlet_Establishment_Year    0.527486\n",
      "Item_MRP                     1.019017\n",
      "Outlet_Identifier            3.591142\n",
      "dtype: float64\n"
     ]
    },
    {
     "data": {
      "text/plain": [
       "<matplotlib.axes._subplots.AxesSubplot at 0x20e8c96ada0>"
      ]
     },
     "execution_count": 33,
     "metadata": {},
     "output_type": "execute_result"
    },
    {
     "data": {
      "image/png": "[encoded data removed]",
      "text/plain": [
       "<Figure size 432x288 with 1 Axes>"
      ]
     },
     "metadata": {
      "needs_background": "light"
     },
     "output_type": "display_data"
    }
   ],
   "source": [
    "# plotting the coef_ bar graph for Lasso\n",
    "\n",
    "%matplotlib inline\n",
    "lasso_reg1 = Lasso(alpha=0.002)\n",
    "trainxl1,testxl1,trainyl1,testyl1=train_test_split(Log_IV,Log_DV,test_size=0.2)\n",
    "lasso_reg1.fit(trainxl1,trainyl1)\n",
    "y_pred_l1=lasso_reg1.predict(testxl1)\n",
    "r2score_l1= r2_score(testyl1,y_pred_l1)\n",
    "list2L.append(r2score_l1)\n",
    "liv=trainxl1.columns\n",
    "coef3= lasso_reg1.coef_\n",
    "coef_col3=pd.Series(coef3,liv).sort_values()\n",
    "print(coef_col3)\n",
    "coef_col3.plot(kind=\"bar\",title=\"Modal coeff\")\n"
   ]
  },
  {
   "cell_type": "markdown",
   "metadata": {},
   "source": [
    "## Overview:\n",
    "  - On the basis of above observations of fitting the models we come to a conclusion with following points :\n",
    "     - After Log transformation the model was predicting more accurately.\n",
    "     - Using these transformed values Linear Reggression gave highest r2_score of 0.7563\n",
    "     - Whereas using Ridge & Lasso gave the highest r2_score as 0.7561 and 0.7378 respectively.\n",
    "  - Thus it is concluded that Linear regression is performing better for this dataset.\n",
    "  - Hence we will use Linear regression for fitting the model using Test.csv Dataset as its test Input."
   ]
  },
  {
   "cell_type": "markdown",
   "metadata": {},
   "source": [
    "## Loading Test Data:\n",
    "\n"
   ]
  },
  {
   "cell_type": "code",
   "execution_count": 34,
   "metadata": {},
   "outputs": [],
   "source": [
    "import pandas as pd\n",
    "testdata = pd.read_csv(\"Test.csv\")"
   ]
  },
  {
   "cell_type": "markdown",
   "metadata": {},
   "source": [
    "## Data cleaning for the test dataset :"
   ]
  },
  {
   "cell_type": "code",
   "execution_count": 35,
   "metadata": {},
   "outputs": [
    {
     "data": {
      "text/plain": [
       "array(['Low Fat', 'Regular'], dtype=object)"
      ]
     },
     "execution_count": 35,
     "metadata": {},
     "output_type": "execute_result"
    }
   ],
   "source": [
    "# Replacing the duplicates with its original categories\n",
    "\n",
    "testdata[\"Item_Fat_Content\"] =testdata[\"Item_Fat_Content\"].str.replace(\"reg\",\"Regular\")\n",
    "testdata[\"Item_Fat_Content\"] =testdata[\"Item_Fat_Content\"].str.replace(\"LF\",\"Low Fat\")\n",
    "testdata[\"Item_Fat_Content\"] =testdata[\"Item_Fat_Content\"].str.replace(\"low fat\",\"Low Fat\")\n",
    "testdata[\"Item_Fat_Content\"].unique()"
   ]
  },
  {
   "cell_type": "code",
   "execution_count": 36,
   "metadata": {},
   "outputs": [
    {
     "name": "stderr",
     "output_type": "stream",
     "text": [
      "C:\\Users\\Debjeet Das\\Anaconda3\\lib\\site-packages\\missingpy\\knnimpute.py:224: UserWarning: There are rows with more than 50.0% missing values. These rows are not included as donor neighbors.\n",
      "  .format(self.row_max_missing * 100))\n",
      "C:\\Users\\Debjeet Das\\Anaconda3\\lib\\site-packages\\missingpy\\knnimpute.py:282: UserWarning: There are rows with more than 50.0% missing values. The missing features in these rows are imputed with column means.\n",
      "  .format(self.row_max_missing * 100))\n"
     ]
    }
   ],
   "source": [
    "# Imputing the nan values using Knn Imputer for the Item_weight col.\n",
    "from missingpy import KNNImputer\n",
    "kn1=KNNImputer(weights='distance')\n",
    "new_weight1=kn1.fit_transform(testdata[\"Item_Weight\"].values.reshape(-1,1))\n",
    "testdata[\"Item_Weight\"]=new_weight1"
   ]
  },
  {
   "cell_type": "code",
   "execution_count": 37,
   "metadata": {},
   "outputs": [],
   "source": [
    "#Imputing nan values using fillna \"backwordFill\" method and analysing the nature of Item_Outlet_Sales after Imputation.\n",
    "\n",
    "testdata[\"Outlet_Size\"]=testdata[\"Outlet_Size\"].fillna(method=\"ffill\")"
   ]
  },
  {
   "cell_type": "code",
   "execution_count": 38,
   "metadata": {
    "scrolled": true
   },
   "outputs": [
    {
     "data": {
      "text/plain": [
       "Item_Identifier              0.0\n",
       "Item_Weight                  0.0\n",
       "Item_Fat_Content             0.0\n",
       "Item_Visibility              0.0\n",
       "Item_Type                    0.0\n",
       "Item_MRP                     0.0\n",
       "Outlet_Identifier            0.0\n",
       "Outlet_Establishment_Year    0.0\n",
       "Outlet_Size                  0.0\n",
       "Outlet_Location_Type         0.0\n",
       "Outlet_Type                  0.0\n",
       "dtype: float64"
      ]
     },
     "execution_count": 38,
     "metadata": {},
     "output_type": "execute_result"
    }
   ],
   "source": [
    "# Null values in the test dataset\n",
    "testdata.isnull().sum()/len(testdata)*100"
   ]
  },
  {
   "cell_type": "markdown",
   "metadata": {},
   "source": [
    "## Model fitting Using Linear Regression :\n",
    "   - First converted the categorical to numerical values using the observed computations above.\n",
    "   - Then Fitting the Model with the best fitted model with high r2_score.\n",
    "   - Predicting the Outlet_Sales for the given dataset of variables."
   ]
  },
  {
   "cell_type": "code",
   "execution_count": 39,
   "metadata": {
    "scrolled": true
   },
   "outputs": [],
   "source": [
    "# substituting the outletType with the its frequency of each category\n",
    "OutletType1=testdata[\"Outlet_Type\"].value_counts()\n",
    "testdata[\"Outlet_Type\"]=testdata[\"Outlet_Type\"].map(OutletType1)\n",
    "testdata[\"Outlet_Type\"]\n",
    "\n",
    "# substituting the Outlet_Size with the its frequency of each category\n",
    "OutletSize1=testdata[\"Outlet_Size\"].value_counts()\n",
    "testdata[\"Outlet_Size\"]=testdata[\"Outlet_Size\"].map(OutletSize1)\n",
    "\n",
    "# substituting the Item_Fat_Content with the its frequency of each category\n",
    "Item_Fat_Content1=testdata[\"Item_Fat_Content\"].value_counts()\n",
    "testdata[\"Item_Fat_Content\"]=testdata[\"Item_Fat_Content\"].map(Item_Fat_Content1)\n",
    "\n",
    "#converting date to age of Outlet\n",
    "testdata[\"Outlet_Establishment_Year\"]= testdata[\"Outlet_Establishment_Year\"].apply(lambda x : 2009 - x)\n",
    "\n",
    "\n",
    "# substituting the Outlet_Establishment_Year with the its frequency of each category\n",
    "Outlet_Establishment_Year1=testdata[\"Outlet_Establishment_Year\"].value_counts()\n",
    "testdata[\"Outlet_Establishment_Year\"]=testdata[\"Outlet_Establishment_Year\"].map(Outlet_Establishment_Year1)\n",
    "\n",
    "# substituting the Outlet_Identifier with the its frequency of each category\n",
    "Outlet_Identifier1=testdata[\"Outlet_Identifier\"].value_counts()\n",
    "testdata[\"Outlet_Identifier\"]=testdata[\"Outlet_Identifier\"].map(Outlet_Identifier1)\n",
    "\n",
    "# substituting the Item_Identifier with the its frequency of each category\n",
    "Item_Identifier1=testdata[\"Item_Identifier\"].value_counts()\n",
    "testdata[\"Item_Identifier\"]=testdata[\"Item_Identifier\"].map(Item_Identifier1)\n",
    "\n",
    "# substituting the Item_Identifier with the its frequency of each category\n",
    "Item_Type1=testdata[\"Item_Type\"].value_counts()\n",
    "testdata[\"Item_Type\"]=testdata[\"Item_Type\"].map(Item_Type1)\n",
    "\n",
    "\n",
    "# Log transformed Dependent Variable\n",
    "Log_DV1 = data[\"Item_Outlet_Sales\"].apply(lambda x : np.log(x+1))\n",
    "\n",
    "# Log transformed Independent Variable\n",
    "Log_IV1 =testdata[[\"Item_Type\",\"Item_MRP\",\"Outlet_Identifier\",\"Outlet_Establishment_Year\",\"Outlet_Type\",\"Outlet_Size\",\"Item_Fat_Content\"]].apply(lambda x : np.log(x+1)) \n",
    "\n",
    "#Linear regression\n",
    "#After log transformation on Independent and Dependent Variables\n",
    "\n",
    "from sklearn.metrics import r2_score, mean_squared_error\n",
    "from math import sqrt\n",
    "from sklearn.linear_model import LinearRegression\n",
    "\n",
    "lr1= LinearRegression()\n",
    "lr1.fit(Log_IV,Log_DV)\n",
    "y_pred1=lr1.predict(Log_IV1)"
   ]
  },
  {
   "cell_type": "markdown",
   "metadata": {},
   "source": [
    "## Adding the predicted values to the test.csv dataframe:\n",
    "  - Reconverted the log transformed predicted values to its original outlet_sales value range.\n",
    "  - Then added that as a column in the test dataset."
   ]
  },
  {
   "cell_type": "code",
   "execution_count": 40,
   "metadata": {},
   "outputs": [],
   "source": [
    "# creating a new column in the test dataset with predicted values\n",
    "testdata[\"pred_sales\"]=np.exp(y_pred1+1)"
   ]
  },
  {
   "cell_type": "code",
   "execution_count": 46,
   "metadata": {},
   "outputs": [
    {
     "data": {
      "text/plain": [
       "0        780.151812\n",
       "1        627.009906\n",
       "2        212.430733\n",
       "3       1107.631362\n",
       "4       2403.873575\n",
       "5        856.850571\n",
       "6        373.164701\n",
       "7        801.082416\n",
       "8        695.804585\n",
       "9       1346.188057\n",
       "10       840.383621\n",
       "11       610.651707\n",
       "12       298.893994\n",
       "13       895.594550\n",
       "14       368.062634\n",
       "15      1124.764991\n",
       "16      1479.187235\n",
       "17      1452.622390\n",
       "18      1087.947794\n",
       "19       167.232029\n",
       "20      1254.091482\n",
       "21      1781.820655\n",
       "22       339.976540\n",
       "23       175.879949\n",
       "24      1316.693097\n",
       "25       182.916757\n",
       "26       338.758817\n",
       "27      1174.069067\n",
       "28      1802.498325\n",
       "29       840.530806\n",
       "           ...     \n",
       "5651    1370.655479\n",
       "5652     889.387397\n",
       "5653     582.924238\n",
       "5654    1031.229644\n",
       "5655    1451.994503\n",
       "5656    2096.850608\n",
       "5657    1922.060106\n",
       "5658     877.537381\n",
       "5659    1392.540901\n",
       "5660    1551.390203\n",
       "5661    1565.351491\n",
       "5662    1543.986601\n",
       "5663     539.368943\n",
       "5664    1325.516701\n",
       "5665     451.735393\n",
       "5666    1457.860106\n",
       "5667     588.122354\n",
       "5668      97.758293\n",
       "5669    1886.252125\n",
       "5670    1688.197103\n",
       "5671     434.148227\n",
       "5672    1704.246215\n",
       "5673     861.467162\n",
       "5674     310.500532\n",
       "5675     460.969863\n",
       "5676    1037.895835\n",
       "5677    1298.842035\n",
       "5678     859.249865\n",
       "5679    1573.245455\n",
       "5680     580.051870\n",
       "Name: pred_sales, Length: 5681, dtype: float64"
      ]
     },
     "execution_count": 46,
     "metadata": {},
     "output_type": "execute_result"
    }
   ],
   "source": [
    "# Final dataset with predicted outlet Sales values in the pred_sales column\n",
    "testdata[\"pred_sales\"]"
   ]
  },
  {
   "cell_type": "markdown",
   "metadata": {},
   "source": [
    "# Overall Summary :\n",
    "## Null value identification :\n",
    "   - Here we can see that there are Nan values in Item_Weight & Outlet_Size.\n",
    "   - There is 17.16% of nan value out of the total values in the Item_weight column.\n",
    "   - There is 28.27% of nan value out of the total values in the Outlet_Size column.\n",
    "     \n",
    "## Data Cleaning :\n",
    "   - Replacing the duplicates with its original categories in the Item_Fat_Content column.\n",
    "   - Imputing the Null Values in the Item_Weight column by using KNN Imputation.\n",
    "   - Also Imputing Item_Weight  nan values with its mean to see the comparision which imputarion got better results.\n",
    "   - Imputing the Null Values in the Outlet_Size column by using fillna \"Backward Fill\" method.\n",
    "   - After Imputation we analyse that the nature of Item_Outlet_Sales on compared with the target variable is the same.\n",
    "   - After the above imputations were done,the null value percentage  in the dataset was 0% in all the variables.\n",
    "     \n",
    "## Encoding on categorical variables :\n",
    "   - We see there are 8 categorical variables in this dataset.\n",
    "   - These Item_MRP,Outlet_Identifier,Outlet_Establishment_Year,Outlet_Type,Outlet_Size,Item_Fat_Content showed high corr.\n",
    "   - Thus the categorical values were substituted by its frequency count cotegorically.\n",
    "   - After this the features were label encoded so that high freq. categories get higher label encoded values.\n",
    "   - Thus the machine will understand that the labels with higher values have higher weightage in the dataset.\n",
    "\n",
    "## Checking the Correlation :\n",
    "   - Using heatmap we were able to recognise which features are more correlated with the Target Variable.\n",
    "   - These Item_MRP,Outlet_Identifier,Outlet_Establishment_Year,Outlet_Type,Outlet_Size,Item_Fat_Content showed high corr.\n",
    "   - Hence used these variables for model prediction.\n",
    "     \n",
    "## Skewness analysis and Treatment :\n",
    "   - By using distplot from the seaborn Lib. ,plotted a distPlot so as to see the skewness of the data visually.\n",
    "   - We chechked the skewness of the data and then analysed that the varibales were heavily left skewed.\n",
    "   - Thus applied Log transform on the varaibles to make them follow a distribution close to normal distribution.\n",
    "\n",
    "## Outlier Identification :\n",
    "   - If there is skewness in the data, that means there can be outliers too in the dataset.\n",
    "   - Thus we created a boxplot to ensure if there are any outliers in the variables.\n",
    "   - according to the box plot there were no such outliers which will agffect the prediction of our model.\n",
    "\n",
    "## Fitting the Model :    \n",
    "   - First we tried fitting the model with the skewed data.\n",
    "   - The prediction outcome of the highly skewed data was very poor.Also the residue plot was not showing linearity. \n",
    "   - Then we used the log transformed data for prediction and as the data was trying to follow normal distribution.\n",
    "   - The r2_score for this model raised exponentially.\n",
    "   - Thus We can say that the predictions were better after transformation.\n",
    "   - Before log transfrom the r2_score was coming about 0.5471 and After Log transform it raised upto 0.75637\n",
    "   - Also the rmse Value was 1109.4580 and 0.52802 respectively.\n",
    "\n",
    "## Regulariztion Techniques :\n",
    "   - After the log transformation of data we tried the L1, L2 regularization techniques to see if the accuracy increases.\n",
    "   - Applied Ridge regularisation with various alpha values and formed a dataframe using those alpha and r2_score.\n",
    "   - Also tried Lasso with various alpha values and compared the r2_score for each alpha values and stored it in a DF.\n",
    "   - On the basis of that comparision, it is clear that After regulariztion techniques the accuracy reduced.\n",
    "   - Thus the Linear regression model showed better accuracy for the above dataset.\n",
    "   - Also plotted the modal coef_ graph for Lasso and Ridge to see how the coef_ or weights got reduced.\n",
    "   \n",
    "## Prediction on the Test.csv Dataset :\n",
    "   - Loaded the dataset and performed all the imputation and missing values treatment using the same method as on train.csv\n",
    "   - Fitted the model using the selected features from above observation.\n",
    "   - As the values were previously log transformed hence converted it back to its original values by applying exponential.\n",
    "   - After getting the predicted values for the test.csv dataset, added a new column with name pred_sales.\n",
    "   - pred_sales in this test.csv dataset shows the predicted values on the basis of the given inputs.\n",
    "   \n",
    "## Final r2_scores:\n",
    "   ### Linear Regression = 0.7563\n",
    "   ### Lasso (alpha: 0.005 ) = 0.7378\n",
    "   ### Ridge (alpha: 0.0018 ) = 0.7561"
   ]
  }
 ],
 "metadata": {
  "kernelspec": {
   "display_name": "Python 3",
   "language": "python",
   "name": "python3"
  },
  "language_info": {
   "codemirror_mode": {
    "name": "ipython",
    "version": 3
   },
   "file_extension": ".py",
   "mimetype": "text/x-python",
   "name": "python",
   "nbconvert_exporter": "python",
   "pygments_lexer": "ipython3",
   "version": "3.7.3"
  }
 },
 "nbformat": 4,
 "nbformat_minor": 2
}
