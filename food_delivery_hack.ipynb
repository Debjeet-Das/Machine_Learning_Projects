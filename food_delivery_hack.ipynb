{
  "nbformat": 4,
  "nbformat_minor": 0,
  "metadata": {
    "kernelspec": {
      "name": "python3",
      "display_name": "Python 3"
    },
    "language_info": {
      "codemirror_mode": {
        "name": "ipython",
        "version": 3
      },
      "file_extension": ".py",
      "mimetype": "text/x-python",
      "name": "python",
      "nbconvert_exporter": "python",
      "pygments_lexer": "ipython3",
      "version": "3.7.3"
    },
    "colab": {
      "name": "food_delivery_hack.ipynb",
      "provenance": [],
      "collapsed_sections": []
    },
    "accelerator": "TPU"
  },
  "cells": [
    {
      "cell_type": "code",
      "metadata": {
        "id": "MEWLcR_WGEiQ",
        "colab_type": "code",
        "outputId": "c340e78f-fbbb-465b-f9b2-c37a1ed10520",
        "colab": {
          "base_uri": "https://localhost:8080/",
          "height": 34
        }
      },
      "source": [
        "from google.colab import drive\n",
        "drive.mount(\"/content/drive\")"
      ],
      "execution_count": 39,
      "outputs": [
        {
          "output_type": "stream",
          "text": [
            "Drive already mounted at /content/drive; to attempt to forcibly remount, call drive.mount(\"/content/drive\", force_remount=True).\n"
          ],
          "name": "stdout"
        }
      ]
    },
    {
      "cell_type": "code",
      "metadata": {
        "id": "6gcjq3m6Gk5k",
        "colab_type": "code",
        "outputId": "3490a950-8541-478a-b5f4-f5341e098e60",
        "colab": {
          "base_uri": "https://localhost:8080/",
          "height": 34
        }
      },
      "source": [
        "from google.colab import drive\n",
        "drive.mount('/content/drive')"
      ],
      "execution_count": 40,
      "outputs": [
        {
          "output_type": "stream",
          "text": [
            "Drive already mounted at /content/drive; to attempt to forcibly remount, call drive.mount(\"/content/drive\", force_remount=True).\n"
          ],
          "name": "stdout"
        }
      ]
    },
    {
      "cell_type": "code",
      "metadata": {
        "id": "FxzjlpT7GVVD",
        "colab_type": "code",
        "colab": {}
      },
      "source": [
        "import pandas as pd\n",
        "import numpy as np\n",
        "\n",
        "data = pd.read_excel(\"/content/drive/My Drive/Data_Train.xlsx\")"
      ],
      "execution_count": 0,
      "outputs": []
    },
    {
      "cell_type": "code",
      "metadata": {
        "id": "JmCT5I2KFtn7",
        "colab_type": "code",
        "outputId": "c4c343a4-4418-434b-d062-74eece35bba7",
        "colab": {
          "base_uri": "https://localhost:8080/",
          "height": 193
        }
      },
      "source": [
        "data.isnull().sum()"
      ],
      "execution_count": 42,
      "outputs": [
        {
          "output_type": "execute_result",
          "data": {
            "text/plain": [
              "Restaurant       0\n",
              "Location         0\n",
              "Cuisines         0\n",
              "Average_Cost     0\n",
              "Minimum_Order    0\n",
              "Rating           0\n",
              "Votes            0\n",
              "Reviews          0\n",
              "Delivery_Time    0\n",
              "dtype: int64"
            ]
          },
          "metadata": {
            "tags": []
          },
          "execution_count": 42
        }
      ]
    },
    {
      "cell_type": "code",
      "metadata": {
        "id": "33f-JwRCFtn-",
        "colab_type": "code",
        "outputId": "862de17e-3cef-403d-8f67-f652f687e3cc",
        "colab": {
          "base_uri": "https://localhost:8080/",
          "height": 263
        }
      },
      "source": [
        "data.info()"
      ],
      "execution_count": 43,
      "outputs": [
        {
          "output_type": "stream",
          "text": [
            "<class 'pandas.core.frame.DataFrame'>\n",
            "RangeIndex: 11094 entries, 0 to 11093\n",
            "Data columns (total 9 columns):\n",
            "Restaurant       11094 non-null object\n",
            "Location         11094 non-null object\n",
            "Cuisines         11094 non-null object\n",
            "Average_Cost     11094 non-null object\n",
            "Minimum_Order    11094 non-null object\n",
            "Rating           11094 non-null object\n",
            "Votes            11094 non-null object\n",
            "Reviews          11094 non-null object\n",
            "Delivery_Time    11094 non-null object\n",
            "dtypes: object(9)\n",
            "memory usage: 780.2+ KB\n"
          ],
          "name": "stdout"
        }
      ]
    },
    {
      "cell_type": "code",
      "metadata": {
        "id": "WmvuBd9AFtoA",
        "colab_type": "code",
        "outputId": "903bf509-56d9-439c-d398-caf77fb867dd",
        "colab": {
          "base_uri": "https://localhost:8080/",
          "height": 195
        }
      },
      "source": [
        "data.head()"
      ],
      "execution_count": 44,
      "outputs": [
        {
          "output_type": "execute_result",
          "data": {
            "text/html": [
              "<div>\n",
              "<style scoped>\n",
              "    .dataframe tbody tr th:only-of-type {\n",
              "        vertical-align: middle;\n",
              "    }\n",
              "\n",
              "    .dataframe tbody tr th {\n",
              "        vertical-align: top;\n",
              "    }\n",
              "\n",
              "    .dataframe thead th {\n",
              "        text-align: right;\n",
              "    }\n",
              "</style>\n",
              "<table border=\"1\" class=\"dataframe\">\n",
              "  <thead>\n",
              "    <tr style=\"text-align: right;\">\n",
              "      <th></th>\n",
              "      <th>Restaurant</th>\n",
              "      <th>Location</th>\n",
              "      <th>Cuisines</th>\n",
              "      <th>Average_Cost</th>\n",
              "      <th>Minimum_Order</th>\n",
              "      <th>Rating</th>\n",
              "      <th>Votes</th>\n",
              "      <th>Reviews</th>\n",
              "      <th>Delivery_Time</th>\n",
              "    </tr>\n",
              "  </thead>\n",
              "  <tbody>\n",
              "    <tr>\n",
              "      <th>0</th>\n",
              "      <td>ID_6321</td>\n",
              "      <td>FTI College, Law College Road, Pune</td>\n",
              "      <td>Fast Food, Rolls, Burger, Salad, Wraps</td>\n",
              "      <td>₹200</td>\n",
              "      <td>₹50</td>\n",
              "      <td>3.5</td>\n",
              "      <td>12</td>\n",
              "      <td>4</td>\n",
              "      <td>30 minutes</td>\n",
              "    </tr>\n",
              "    <tr>\n",
              "      <th>1</th>\n",
              "      <td>ID_2882</td>\n",
              "      <td>Sector 3, Marathalli</td>\n",
              "      <td>Ice Cream, Desserts</td>\n",
              "      <td>₹100</td>\n",
              "      <td>₹50</td>\n",
              "      <td>3.5</td>\n",
              "      <td>11</td>\n",
              "      <td>4</td>\n",
              "      <td>30 minutes</td>\n",
              "    </tr>\n",
              "    <tr>\n",
              "      <th>2</th>\n",
              "      <td>ID_1595</td>\n",
              "      <td>Mumbai Central</td>\n",
              "      <td>Italian, Street Food, Fast Food</td>\n",
              "      <td>₹150</td>\n",
              "      <td>₹50</td>\n",
              "      <td>3.6</td>\n",
              "      <td>99</td>\n",
              "      <td>30</td>\n",
              "      <td>65 minutes</td>\n",
              "    </tr>\n",
              "    <tr>\n",
              "      <th>3</th>\n",
              "      <td>ID_5929</td>\n",
              "      <td>Sector 1, Noida</td>\n",
              "      <td>Mughlai, North Indian, Chinese</td>\n",
              "      <td>₹250</td>\n",
              "      <td>₹99</td>\n",
              "      <td>3.7</td>\n",
              "      <td>176</td>\n",
              "      <td>95</td>\n",
              "      <td>30 minutes</td>\n",
              "    </tr>\n",
              "    <tr>\n",
              "      <th>4</th>\n",
              "      <td>ID_6123</td>\n",
              "      <td>Rmz Centennial, I Gate, Whitefield</td>\n",
              "      <td>Cafe, Beverages</td>\n",
              "      <td>₹200</td>\n",
              "      <td>₹99</td>\n",
              "      <td>3.2</td>\n",
              "      <td>521</td>\n",
              "      <td>235</td>\n",
              "      <td>65 minutes</td>\n",
              "    </tr>\n",
              "  </tbody>\n",
              "</table>\n",
              "</div>"
            ],
            "text/plain": [
              "  Restaurant                             Location  ... Reviews Delivery_Time\n",
              "0    ID_6321  FTI College, Law College Road, Pune  ...       4    30 minutes\n",
              "1    ID_2882                 Sector 3, Marathalli  ...       4    30 minutes\n",
              "2    ID_1595                       Mumbai Central  ...      30    65 minutes\n",
              "3    ID_5929                      Sector 1, Noida  ...      95    30 minutes\n",
              "4    ID_6123   Rmz Centennial, I Gate, Whitefield  ...     235    65 minutes\n",
              "\n",
              "[5 rows x 9 columns]"
            ]
          },
          "metadata": {
            "tags": []
          },
          "execution_count": 44
        }
      ]
    },
    {
      "cell_type": "code",
      "metadata": {
        "scrolled": true,
        "id": "FRXpaFuzFtoC",
        "colab_type": "code",
        "colab": {}
      },
      "source": [
        "# checking the uniques before substituting and type casting\n",
        "data[\"Average_Cost\"]=data[\"Average_Cost\"].str.replace(\",\",\"\")"
      ],
      "execution_count": 0,
      "outputs": []
    },
    {
      "cell_type": "code",
      "metadata": {
        "id": "ooLXpMu_FtoE",
        "colab_type": "code",
        "colab": {}
      },
      "source": [
        "# Extracting the numerical content out and filling the null values using ffill method and then type casting it to Integer\n",
        "data[\"Average_Cost\"]=data[\"Average_Cost\"].str.extract(\"(\\d{1,4})\").fillna(\"0\").astype(int)"
      ],
      "execution_count": 0,
      "outputs": []
    },
    {
      "cell_type": "code",
      "metadata": {
        "id": "6rRxEBoxFtoG",
        "colab_type": "code",
        "outputId": "f6939012-9a33-491c-8c91-d86f6102a325",
        "colab": {
          "base_uri": "https://localhost:8080/",
          "height": 70
        }
      },
      "source": [
        "# Checking the uniques in \"Average_Cost\" after type casting\n",
        "data[\"Average_Cost\"].unique()"
      ],
      "execution_count": 47,
      "outputs": [
        {
          "output_type": "execute_result",
          "data": {
            "text/plain": [
              "array([ 200,  100,  150,  250,  650,  350,  800,   50,  400,  600,  300,\n",
              "        750,  450,  550, 1000,  500,  900, 1200,  950,  850,  700, 1150,\n",
              "          0, 1100, 1400, 2050])"
            ]
          },
          "metadata": {
            "tags": []
          },
          "execution_count": 47
        }
      ]
    },
    {
      "cell_type": "code",
      "metadata": {
        "id": "BxIiVqwyFtoI",
        "colab_type": "code",
        "colab": {}
      },
      "source": [
        "# Extracting the numerical content out and filling the null values using ffill method and then type casting it to Integer\n",
        "data[\"Minimum_Order\"]=data[\"Minimum_Order\"].str.extract(\"(\\d{1,4})\").fillna(\"0\").astype(int)"
      ],
      "execution_count": 0,
      "outputs": []
    },
    {
      "cell_type": "code",
      "metadata": {
        "id": "5mYduRUsFtoK",
        "colab_type": "code",
        "outputId": "3ecc4fb7-39ab-4b72-8ea8-1b384e5672fa",
        "colab": {
          "base_uri": "https://localhost:8080/",
          "height": 52
        }
      },
      "source": [
        "# checking the uniques in Minimum_Order\n",
        "data[\"Minimum_Order\"].unique()"
      ],
      "execution_count": 49,
      "outputs": [
        {
          "output_type": "execute_result",
          "data": {
            "text/plain": [
              "array([ 50,  99,   0, 200, 450, 350,  79, 400, 199, 500, 250, 150,  90,\n",
              "       299, 300, 240,  89,  59])"
            ]
          },
          "metadata": {
            "tags": []
          },
          "execution_count": 49
        }
      ]
    },
    {
      "cell_type": "code",
      "metadata": {
        "id": "eurfL12iFtoM",
        "colab_type": "code",
        "outputId": "fea65c2c-4858-4528-98fb-f52b13c235b4",
        "colab": {
          "base_uri": "https://localhost:8080/",
          "height": 105
        }
      },
      "source": [
        "# checking the uniques in \"Ratings\"\n",
        "data[\"Rating\"].unique()"
      ],
      "execution_count": 50,
      "outputs": [
        {
          "output_type": "execute_result",
          "data": {
            "text/plain": [
              "array(['3.5', '3.6', '3.7', '3.2', '3.8', '4.0', '3.9', '4.2', '-', '2.8',\n",
              "       '3.0', '3.3', '3.1', '4.7', '3.4', '4.1', 'NEW', '2.9', '4.6',\n",
              "       '4.3', '2.6', '4.5', '4.4', '4.8', '2.4', '2.7', '2.5',\n",
              "       'Opening Soon', '2.2', '4.9', '2.3', '2.1', 'Temporarily Closed'],\n",
              "      dtype=object)"
            ]
          },
          "metadata": {
            "tags": []
          },
          "execution_count": 50
        }
      ]
    },
    {
      "cell_type": "code",
      "metadata": {
        "id": "UpFpYlzNFtoO",
        "colab_type": "code",
        "outputId": "7beab066-97cf-4c38-a2e3-5b0afd041b76",
        "colab": {
          "base_uri": "https://localhost:8080/",
          "height": 158
        }
      },
      "source": [
        "# checking the values count in Ratings\n",
        "# the highest is 10% of the total data that has the following speacial characters\n",
        "\n",
        "print(data[data[\"Rating\"]==\"-\"][\"Rating\"].value_counts()/len(data)*100)\n",
        "print(data[data[\"Rating\"]==\"NEW\"][\"Rating\"].value_counts()/len(data)*100)\n",
        "print(data[data[\"Rating\"]==\"Temporarily Closed\"][\"Rating\"].value_counts()/len(data)*100)\n",
        "print(data[data[\"Rating\"]==\"Opening Soon\"][\"Rating\"].value_counts()/len(data)*100)"
      ],
      "execution_count": 51,
      "outputs": [
        {
          "output_type": "stream",
          "text": [
            "-    10.735533\n",
            "Name: Rating, dtype: float64\n",
            "NEW    6.832522\n",
            "Name: Rating, dtype: float64\n",
            "Temporarily Closed    0.018028\n",
            "Name: Rating, dtype: float64\n",
            "Opening Soon    0.108167\n",
            "Name: Rating, dtype: float64\n"
          ],
          "name": "stdout"
        }
      ]
    },
    {
      "cell_type": "code",
      "metadata": {
        "id": "rjhYFTZCFtoQ",
        "colab_type": "code",
        "colab": {}
      },
      "source": [
        "# replacing the special values with Nan values\n",
        "ls=['3.5', '3.6', '3.7', '3.2', '3.8', '4.0', '3.9', '4.2','2.8',\n",
        "       '3.0', '3.3', '3.1', '4.7', '3.4', '4.1','2.9', '4.6',\n",
        "       '4.3', '2.6', '4.5', '4.4', '4.8', '2.4', '2.7', '2.5','2.2', '4.9', '2.3', '2.1']\n",
        "data[\"Rating\"].where(data[\"Rating\"].isin(ls),np.nan,inplace=True)\n",
        "data[\"Rating\"]=data[\"Rating\"].fillna(\"0\").astype(float)"
      ],
      "execution_count": 0,
      "outputs": []
    },
    {
      "cell_type": "code",
      "metadata": {
        "id": "Qc92bf6OFtoR",
        "colab_type": "code",
        "outputId": "422b80a9-a26c-4282-b62f-00a8274d7f1e",
        "colab": {
          "base_uri": "https://localhost:8080/",
          "height": 70
        }
      },
      "source": [
        "# checking the unique in \"Rating\" \n",
        "data[\"Rating\"].unique()"
      ],
      "execution_count": 53,
      "outputs": [
        {
          "output_type": "execute_result",
          "data": {
            "text/plain": [
              "array([3.5, 3.6, 3.7, 3.2, 3.8, 4. , 3.9, 4.2, 0. , 2.8, 3. , 3.3, 3.1,\n",
              "       4.7, 3.4, 4.1, 2.9, 4.6, 4.3, 2.6, 4.5, 4.4, 4.8, 2.4, 2.7, 2.5,\n",
              "       2.2, 4.9, 2.3, 2.1])"
            ]
          },
          "metadata": {
            "tags": []
          },
          "execution_count": 53
        }
      ]
    },
    {
      "cell_type": "code",
      "metadata": {
        "id": "52S5-AP9FtoU",
        "colab_type": "code",
        "outputId": "19f7e17a-0e5f-4749-b555-e37b38d76dbe",
        "colab": {
          "base_uri": "https://localhost:8080/",
          "height": 34
        }
      },
      "source": [
        "data[\"Votes\"].unique()"
      ],
      "execution_count": 54,
      "outputs": [
        {
          "output_type": "execute_result",
          "data": {
            "text/plain": [
              "array(['12', '11', '99', ..., '290', '698', '3700'], dtype=object)"
            ]
          },
          "metadata": {
            "tags": []
          },
          "execution_count": 54
        }
      ]
    },
    {
      "cell_type": "code",
      "metadata": {
        "id": "DI49IjWUFtoV",
        "colab_type": "code",
        "outputId": "f3eb4114-a46c-4c56-f805-3461260c79f6",
        "colab": {
          "base_uri": "https://localhost:8080/",
          "height": 34
        }
      },
      "source": [
        "# extracting the numerical values and substituting the special chars by NaN.\n",
        "# Then changing it to float type.\n",
        "data[\"Votes\"]=data[\"Votes\"].str.extract(\"(\\d{1,5})\").fillna(0).astype(float)\n",
        "data[\"Votes\"].unique()"
      ],
      "execution_count": 55,
      "outputs": [
        {
          "output_type": "execute_result",
          "data": {
            "text/plain": [
              "array([  12.,   11.,   99., ...,  290.,  698., 3700.])"
            ]
          },
          "metadata": {
            "tags": []
          },
          "execution_count": 55
        }
      ]
    },
    {
      "cell_type": "code",
      "metadata": {
        "id": "r6TPbRbvXnOK",
        "colab_type": "code",
        "outputId": "6bbcf817-7819-4a57-f8ab-7aff345840db",
        "colab": {
          "base_uri": "https://localhost:8080/",
          "height": 34
        }
      },
      "source": [
        "data[\"Votes\"].dtype"
      ],
      "execution_count": 56,
      "outputs": [
        {
          "output_type": "execute_result",
          "data": {
            "text/plain": [
              "dtype('float64')"
            ]
          },
          "metadata": {
            "tags": []
          },
          "execution_count": 56
        }
      ]
    },
    {
      "cell_type": "code",
      "metadata": {
        "id": "NMU3sjP3FtoZ",
        "colab_type": "code",
        "outputId": "7aef6380-74f4-41b3-d56a-00cf0e18328a",
        "colab": {
          "base_uri": "https://localhost:8080/",
          "height": 34
        }
      },
      "source": [
        "# checking the null values in \"Votes\"\n",
        "data[\"Votes\"].isnull().sum()"
      ],
      "execution_count": 57,
      "outputs": [
        {
          "output_type": "execute_result",
          "data": {
            "text/plain": [
              "0"
            ]
          },
          "metadata": {
            "tags": []
          },
          "execution_count": 57
        }
      ]
    },
    {
      "cell_type": "code",
      "metadata": {
        "scrolled": true,
        "id": "xMT0xRyOFtob",
        "colab_type": "code",
        "outputId": "865f97af-3da1-4ae8-9a32-1bc3225eb8c7",
        "colab": {
          "base_uri": "https://localhost:8080/",
          "height": 1000
        }
      },
      "source": [
        "#checking the uniques in Reviews\n",
        "data[\"Reviews\"].unique()"
      ],
      "execution_count": 58,
      "outputs": [
        {
          "output_type": "execute_result",
          "data": {
            "text/plain": [
              "array(['4', '30', '95', '235', '18', '31', '1235', '26', '294', '61',\n",
              "       '1239', '-', '128', '5', '53', '47', '46', '23', '160', '2', '1',\n",
              "       '38', '9', '19', '7', '132', '74', '13', '111', '499', '29', '34',\n",
              "       '851', '513', '22', '27', '32', '25', '37', '8', '35', '6', '173',\n",
              "       '36', '15', '174', '11', '59', '16', '89', '170', '10', '1660',\n",
              "       '71', '41', '20', '40', '3', '191', '105', '100', '106', '21',\n",
              "       '65', '69', '2547', '159', '110', '42', '181', '109', '179', '490',\n",
              "       '28', '343', '118', '690', '72', '296', '33', '164', '50', '129',\n",
              "       '1581', '234', '45', '2363', '24', '115', '12', '138', '175', '39',\n",
              "       '66', '1603', '1443', '390', '108', '1457', '112', '107', '259',\n",
              "       '269', '52', '196', '794', '589', '48', '145', '536', '247', '17',\n",
              "       '49', '245', '87', '83', '54', '453', '318', '99', '205', '165',\n",
              "       '1845', '766', '114', '44', '51', '104', '478', '70', '232', '435',\n",
              "       '14', '659', '554', '399', '77', '88', '503', '55', '57', '855',\n",
              "       '301', '305', '94', '336', '307', '1369', '76', '124', '1131',\n",
              "       '155', '90', '366', '256', '739', '64', '351', '141', '169', '121',\n",
              "       '240', '556', '220', '502', '80', '176', '691', '102', '621',\n",
              "       '310', '391', '142', '721', '56', '189', '139', '1062', '97',\n",
              "       '741', '565', '972', '98', '187', '314', '60', '136', '214', '167',\n",
              "       '123', '67', '572', '171', '183', '84', '252', '120', '119', '758',\n",
              "       '258', '199', '287', '62', '579', '455', '131', '845', '127',\n",
              "       '906', '1948', '465', '143', '1673', '1174', '484', '152', '248',\n",
              "       '236', '204', '85', '207', '609', '231', '1150', '671', '322',\n",
              "       '1095', '233', '43', '668', '257', '158', '372', '285', '215',\n",
              "       '950', '357', '193', '260', '899', '126', '335', '1415', '249',\n",
              "       '243', '254', '241', '268', '116', '547', '58', '63', '1276',\n",
              "       '941', '81', '188', '849', '79', '696', '317', '400', '148', '86',\n",
              "       '168', '101', '153', '1356', '78', '242', '728', '6504', '860',\n",
              "       '226', '230', '206', '1260', '320', '184', '986', '560', '172',\n",
              "       '68', '96', '751', '545', '202', '3989', '423', '137', '432',\n",
              "       '539', '675', '278', '574', '177', '113', '410', '360', '405',\n",
              "       '2359', '938', '117', '1133', '819', '1211', '224', '91', '426',\n",
              "       '358', '362', '892', '208', '581', '652', '1962', '981', '125',\n",
              "       '325', '210', '147', '925', '437', '593', '251', '292', '238',\n",
              "       '73', '225', '387', '681', '965', '133', '370', '450', '163',\n",
              "       '154', '382', '580', '201', '518', '262', '626', '2311', '1336',\n",
              "       '2576', '569', '244', '273', '530', '1631', '459', '304', '157',\n",
              "       '1306', '383', '272', '246', '103', '228', '178', '151', '186',\n",
              "       '472', '135', '1370', '563', '2224', '444', '1138', '650', '192',\n",
              "       '407', '540', '93', '303', '1112', '264', '485', '195', '584',\n",
              "       '341', '977', '2167', '1067', '566', '212', '222', '277', '291',\n",
              "       '306', '647', '424', '421', '461', '237', '600', '582', '2126',\n",
              "       '495', '82', '1617', '2340', '364', '130', '1031', '290', '2640',\n",
              "       '2171', '772', '1875', '1002', '771', '1914', '219', '830', '346',\n",
              "       '250', '282', '328', '527', '75', '1164', '1804', '512', '409',\n",
              "       '369', '255', '319', '525', '923', '276', '406', '211', '140',\n",
              "       '1061', '229', '2490', '997', '633', '144', '926', '464', '1289',\n",
              "       '1200', '352', '497', '265', '299', '1605', '662', '436', '1479',\n",
              "       '736', '809', '209', '805', '122', '353', '3371', '344', '2303',\n",
              "       '323', '185', '1708', '699', '412', '439', '1191', '1961', '548',\n",
              "       '1005', '707', '279', '150', '506', '1589', '388', '134', '538',\n",
              "       '340', '999', '156', '355', '457', '2217', '338', '2212', '887',\n",
              "       '777', '1444', '635', '971', '149', '297', '393', '1165', '397',\n",
              "       '1319', '146', '218', '194', '482', '431', '385', '394', '1818',\n",
              "       '983', '1967', '1501', '1538', '274', '2931', '227', '308', '266',\n",
              "       '342', '815', '544', '500', '434', '1079', '567', '634', '221',\n",
              "       '1091', '2808', '377', '992', '1199', '603', '467', '348', '2036',\n",
              "       '726', '438', '389', '734', '1510', '498', '1971', '197', '463',\n",
              "       '532', '1318', '885', '1046', '1412', '1509', '381', '347', '270',\n",
              "       '2084', '415', '1116', '1084', '1429', '324', '651', '334', '384',\n",
              "       '1093', '897', '1532', '1798', '533', '471', '1159', '253', '667',\n",
              "       '263', '1819', '2454', '1992', '161', '763', '2143', '5558', '553',\n",
              "       '2203', '876', '380', '223', '198', '508', '281', '2649', '571',\n",
              "       '1172', '767', '529', '774', '606', '417', '2724', '182', '872',\n",
              "       '332', '217', '1508', '587', '329', '1616', '293', '190', '2936',\n",
              "       '92', '1130', '991', '719', '312', '333', '2922', '858', '458',\n",
              "       '840', '1213', '1251', '695', '413', '511', '1263', '1877', '1135',\n",
              "       '1246', '280', '823', '848', '895', '474', '371', '937', '519',\n",
              "       '2940', '213', '743', '1317', '2155', '800', '368', '883', '516',\n",
              "       '714', '392', '200', '313', '162', '888', '375', '1464', '682',\n",
              "       '1641', '354', '705', '655', '446', '468', '896', '331', '3337',\n",
              "       '350', '1357', '947', '604', '414', '967', '379', '952', '1979',\n",
              "       '764', '801', '309', '1956', '664', '1252', '1028', '466', '543',\n",
              "       '448', '602', '1148', '514', '748', '2503', '361', '302', '959',\n",
              "       '781', '2567', '510', '1009', '359', '494', '1734', '339', '326',\n",
              "       '625', '1329', '288', '449', '2098', '2031', '561', '316', '321',\n",
              "       '289', '430', '520', '646', '677', '559', '818', '995', '271',\n",
              "       '630', '528', '605', '1224', '704', '577', '475', '456', '1225',\n",
              "       '1161', '419', '3019', '441', '166', '275', '575', '2146', '1073',\n",
              "       '402', '889', '180', '761', '3753', '788', '418', '1787', '875',\n",
              "       '261', '239', '550', '476', '1353', '628', '4966', '710', '737',\n",
              "       '492', '515', '558', '378', '1414', '1890', '477', '1681', '570',\n",
              "       '422', '2483', '549'], dtype=object)"
            ]
          },
          "metadata": {
            "tags": []
          },
          "execution_count": 58
        }
      ]
    },
    {
      "cell_type": "code",
      "metadata": {
        "id": "cP2b9TRMFtod",
        "colab_type": "code",
        "outputId": "750f98ba-d26f-4c00-f5ad-bb47d1b16808",
        "colab": {
          "base_uri": "https://localhost:8080/",
          "height": 52
        }
      },
      "source": [
        "# checking the percentage of spcl char in Reviews\n",
        "data[data[\"Reviews\"]== \"-\"][\"Reviews\"].value_counts()/len(data)*100"
      ],
      "execution_count": 59,
      "outputs": [
        {
          "output_type": "execute_result",
          "data": {
            "text/plain": [
              "-    20.840094\n",
              "Name: Reviews, dtype: float64"
            ]
          },
          "metadata": {
            "tags": []
          },
          "execution_count": 59
        }
      ]
    },
    {
      "cell_type": "code",
      "metadata": {
        "id": "ZZ7WxwbXFtof",
        "colab_type": "code",
        "colab": {}
      },
      "source": [
        "# substituting the special chars with null and then imputing the null values in \"Reviews\" .\n",
        "data[\"Reviews\"]=data[\"Reviews\"].replace(\"-\",np.nan).fillna(\"0\").astype(int)"
      ],
      "execution_count": 0,
      "outputs": []
    },
    {
      "cell_type": "code",
      "metadata": {
        "id": "7uvv9dYsFtoi",
        "colab_type": "code",
        "colab": {}
      },
      "source": [
        "# replacing the minutes in the \"Delivery_time\" with just the numerical and the type casting the whole column.\n",
        "#data[\"Delivery_Time\"]=data[\"Delivery_Time\"].str.replace(\" minutes\",\"\").str.strip().astype(int)"
      ],
      "execution_count": 0,
      "outputs": []
    },
    {
      "cell_type": "code",
      "metadata": {
        "id": "MPZyeqjmFtol",
        "colab_type": "code",
        "outputId": "9d79d73c-ba6f-46c5-bf8f-72e6e48ab634",
        "colab": {
          "base_uri": "https://localhost:8080/",
          "height": 158
        }
      },
      "source": [
        "# target variable distribution throughout the dataset\n",
        "data[\"Delivery_Time\"].value_counts()"
      ],
      "execution_count": 62,
      "outputs": [
        {
          "output_type": "execute_result",
          "data": {
            "text/plain": [
              "30 minutes     7406\n",
              "45 minutes     2665\n",
              "65 minutes      923\n",
              "120 minutes      62\n",
              "20 minutes       20\n",
              "80 minutes       14\n",
              "10 minutes        4\n",
              "Name: Delivery_Time, dtype: int64"
            ]
          },
          "metadata": {
            "tags": []
          },
          "execution_count": 62
        }
      ]
    },
    {
      "cell_type": "code",
      "metadata": {
        "id": "0gGG_xFUFtoo",
        "colab_type": "code",
        "outputId": "f7f86ee1-f974-4195-cecf-187d44b4e737",
        "colab": {
          "base_uri": "https://localhost:8080/",
          "height": 195
        }
      },
      "source": [
        "data.head()"
      ],
      "execution_count": 63,
      "outputs": [
        {
          "output_type": "execute_result",
          "data": {
            "text/html": [
              "<div>\n",
              "<style scoped>\n",
              "    .dataframe tbody tr th:only-of-type {\n",
              "        vertical-align: middle;\n",
              "    }\n",
              "\n",
              "    .dataframe tbody tr th {\n",
              "        vertical-align: top;\n",
              "    }\n",
              "\n",
              "    .dataframe thead th {\n",
              "        text-align: right;\n",
              "    }\n",
              "</style>\n",
              "<table border=\"1\" class=\"dataframe\">\n",
              "  <thead>\n",
              "    <tr style=\"text-align: right;\">\n",
              "      <th></th>\n",
              "      <th>Restaurant</th>\n",
              "      <th>Location</th>\n",
              "      <th>Cuisines</th>\n",
              "      <th>Average_Cost</th>\n",
              "      <th>Minimum_Order</th>\n",
              "      <th>Rating</th>\n",
              "      <th>Votes</th>\n",
              "      <th>Reviews</th>\n",
              "      <th>Delivery_Time</th>\n",
              "    </tr>\n",
              "  </thead>\n",
              "  <tbody>\n",
              "    <tr>\n",
              "      <th>0</th>\n",
              "      <td>ID_6321</td>\n",
              "      <td>FTI College, Law College Road, Pune</td>\n",
              "      <td>Fast Food, Rolls, Burger, Salad, Wraps</td>\n",
              "      <td>200</td>\n",
              "      <td>50</td>\n",
              "      <td>3.5</td>\n",
              "      <td>12.0</td>\n",
              "      <td>4</td>\n",
              "      <td>30 minutes</td>\n",
              "    </tr>\n",
              "    <tr>\n",
              "      <th>1</th>\n",
              "      <td>ID_2882</td>\n",
              "      <td>Sector 3, Marathalli</td>\n",
              "      <td>Ice Cream, Desserts</td>\n",
              "      <td>100</td>\n",
              "      <td>50</td>\n",
              "      <td>3.5</td>\n",
              "      <td>11.0</td>\n",
              "      <td>4</td>\n",
              "      <td>30 minutes</td>\n",
              "    </tr>\n",
              "    <tr>\n",
              "      <th>2</th>\n",
              "      <td>ID_1595</td>\n",
              "      <td>Mumbai Central</td>\n",
              "      <td>Italian, Street Food, Fast Food</td>\n",
              "      <td>150</td>\n",
              "      <td>50</td>\n",
              "      <td>3.6</td>\n",
              "      <td>99.0</td>\n",
              "      <td>30</td>\n",
              "      <td>65 minutes</td>\n",
              "    </tr>\n",
              "    <tr>\n",
              "      <th>3</th>\n",
              "      <td>ID_5929</td>\n",
              "      <td>Sector 1, Noida</td>\n",
              "      <td>Mughlai, North Indian, Chinese</td>\n",
              "      <td>250</td>\n",
              "      <td>99</td>\n",
              "      <td>3.7</td>\n",
              "      <td>176.0</td>\n",
              "      <td>95</td>\n",
              "      <td>30 minutes</td>\n",
              "    </tr>\n",
              "    <tr>\n",
              "      <th>4</th>\n",
              "      <td>ID_6123</td>\n",
              "      <td>Rmz Centennial, I Gate, Whitefield</td>\n",
              "      <td>Cafe, Beverages</td>\n",
              "      <td>200</td>\n",
              "      <td>99</td>\n",
              "      <td>3.2</td>\n",
              "      <td>521.0</td>\n",
              "      <td>235</td>\n",
              "      <td>65 minutes</td>\n",
              "    </tr>\n",
              "  </tbody>\n",
              "</table>\n",
              "</div>"
            ],
            "text/plain": [
              "  Restaurant                             Location  ... Reviews  Delivery_Time\n",
              "0    ID_6321  FTI College, Law College Road, Pune  ...       4     30 minutes\n",
              "1    ID_2882                 Sector 3, Marathalli  ...       4     30 minutes\n",
              "2    ID_1595                       Mumbai Central  ...      30     65 minutes\n",
              "3    ID_5929                      Sector 1, Noida  ...      95     30 minutes\n",
              "4    ID_6123   Rmz Centennial, I Gate, Whitefield  ...     235     65 minutes\n",
              "\n",
              "[5 rows x 9 columns]"
            ]
          },
          "metadata": {
            "tags": []
          },
          "execution_count": 63
        }
      ]
    },
    {
      "cell_type": "code",
      "metadata": {
        "scrolled": true,
        "id": "qKIi6OXOFtoq",
        "colab_type": "code",
        "outputId": "d4e6e03d-41cd-4777-e8a3-ebeabe34cb32",
        "colab": {
          "base_uri": "https://localhost:8080/",
          "height": 263
        }
      },
      "source": [
        "# checking the info after \n",
        "data.info()"
      ],
      "execution_count": 64,
      "outputs": [
        {
          "output_type": "stream",
          "text": [
            "<class 'pandas.core.frame.DataFrame'>\n",
            "RangeIndex: 11094 entries, 0 to 11093\n",
            "Data columns (total 9 columns):\n",
            "Restaurant       11094 non-null object\n",
            "Location         11094 non-null object\n",
            "Cuisines         11094 non-null object\n",
            "Average_Cost     11094 non-null int64\n",
            "Minimum_Order    11094 non-null int64\n",
            "Rating           11094 non-null float64\n",
            "Votes            11094 non-null float64\n",
            "Reviews          11094 non-null int64\n",
            "Delivery_Time    11094 non-null object\n",
            "dtypes: float64(2), int64(3), object(4)\n",
            "memory usage: 780.2+ KB\n"
          ],
          "name": "stdout"
        }
      ]
    },
    {
      "cell_type": "code",
      "metadata": {
        "id": "EICLOcYnFtov",
        "colab_type": "code",
        "colab": {}
      },
      "source": [
        "data[\"Location\"] = data[\"Location\"].str.split(\",\").str[-1].str.strip()"
      ],
      "execution_count": 0,
      "outputs": []
    },
    {
      "cell_type": "code",
      "metadata": {
        "scrolled": true,
        "id": "VzLLh9O0Ftoy",
        "colab_type": "code",
        "outputId": "2679d91c-6901-41bf-f211-2ac389e06383",
        "colab": {
          "base_uri": "https://localhost:8080/",
          "height": 228
        }
      },
      "source": [
        "# substituting the categorical values with its count i Location column\n",
        "loc_series =data.Location.value_counts()\n",
        "data[\"Location\"]= data[\"Location\"].map(loc_series)\n",
        "data[\"Location\"]"
      ],
      "execution_count": 66,
      "outputs": [
        {
          "output_type": "execute_result",
          "data": {
            "text/plain": [
              "0        1358\n",
              "1         366\n",
              "2         459\n",
              "3        2086\n",
              "4         457\n",
              "         ... \n",
              "11089      22\n",
              "11090    2086\n",
              "11091     334\n",
              "11092     366\n",
              "11093     260\n",
              "Name: Location, Length: 11094, dtype: int64"
            ]
          },
          "metadata": {
            "tags": []
          },
          "execution_count": 66
        }
      ]
    },
    {
      "cell_type": "code",
      "metadata": {
        "id": "gVGznfWrFtoz",
        "colab_type": "code",
        "colab": {}
      },
      "source": [
        "# label encoding the numerically converted Location\n",
        "#from sklearn.preprocessing import LabelEncoder\n",
        "#le= LabelEncoder()\n",
        "#data[\"Location\"]= le.fit_transform(data[\"Location\"])"
      ],
      "execution_count": 0,
      "outputs": []
    },
    {
      "cell_type": "code",
      "metadata": {
        "id": "cgkoHf_tFto1",
        "colab_type": "code",
        "colab": {}
      },
      "source": [
        "rating = data.pivot_table(index = \"Restaurant\",values = \"Rating\")\n",
        "maped =pd.Series(rating[\"Rating\"],index=rating.index)\n",
        "data[\"Restaurant\"]=data[\"Restaurant\"].map(maped)"
      ],
      "execution_count": 0,
      "outputs": []
    },
    {
      "cell_type": "code",
      "metadata": {
        "id": "hX5xDb4BFto2",
        "colab_type": "code",
        "colab": {}
      },
      "source": [
        "# Restaurant LE\n",
        "#data[\"Restaurant\"]=le.fit_transform(data[\"Restaurant\"])"
      ],
      "execution_count": 0,
      "outputs": []
    },
    {
      "cell_type": "code",
      "metadata": {
        "id": "vuksY_KHFto4",
        "colab_type": "code",
        "colab": {}
      },
      "source": [
        "#data= pd.get_dummies(data,columns=[\"Cuisines\"],drop_first=True)"
      ],
      "execution_count": 0,
      "outputs": []
    },
    {
      "cell_type": "code",
      "metadata": {
        "id": "HJh8f6d4Fto7",
        "colab_type": "code",
        "colab": {}
      },
      "source": [
        "#data = data.drop(data[[\"Delivery_Time\"]],axis=1)"
      ],
      "execution_count": 0,
      "outputs": []
    },
    {
      "cell_type": "code",
      "metadata": {
        "id": "zLUTuJXzFto-",
        "colab_type": "code",
        "outputId": "912054c2-c44e-455a-8a80-eeef674e00ff",
        "colab": {
          "base_uri": "https://localhost:8080/",
          "height": 614
        }
      },
      "source": [
        "import seaborn as sns\n",
        "import matplotlib.pyplot as plt\n",
        "%matplotlib inline\n",
        "plt.figure(figsize=(15,10))\n",
        "sns.heatmap(data.corr(),annot=True,cmap=\"Blues\")"
      ],
      "execution_count": 72,
      "outputs": [
        {
          "output_type": "execute_result",
          "data": {
            "text/plain": [
              "<matplotlib.axes._subplots.AxesSubplot at 0x7f35dc49d208>"
            ]
          },
          "metadata": {
            "tags": []
          },
          "execution_count": 72
        },
        {
          "output_type": "display_data",
          "data": {
            "image/png": "[encoded data removed]",
            "text/plain": [
              "<Figure size 1080x720 with 2 Axes>"
            ]
          },
          "metadata": {
            "tags": []
          }
        }
      ]
    },
    {
      "cell_type": "code",
      "metadata": {
        "id": "mayxaQQFFto_",
        "colab_type": "code",
        "outputId": "a7a9802f-85a6-4534-8810-962de4e59aab",
        "colab": {
          "base_uri": "https://localhost:8080/",
          "height": 282
        }
      },
      "source": [
        "# Checking the skewness of the data\n",
        "import seaborn as sns\n",
        "sns.distplot(data.skew(),hist=False)"
      ],
      "execution_count": 73,
      "outputs": [
        {
          "output_type": "execute_result",
          "data": {
            "text/plain": [
              "<matplotlib.axes._subplots.AxesSubplot at 0x7f35dc799518>"
            ]
          },
          "metadata": {
            "tags": []
          },
          "execution_count": 73
        },
        {
          "output_type": "display_data",
          "data": {
            "image/png": "[encoded data removed]",
            "text/plain": [
              "<Figure size 432x288 with 1 Axes>"
            ]
          },
          "metadata": {
            "tags": []
          }
        }
      ]
    },
    {
      "cell_type": "markdown",
      "metadata": {
        "id": "Hj7yZdZamuvm",
        "colab_type": "text"
      },
      "source": [
        "# Imbalance data\n",
        "  - We can see it is highly imbalnce data\n",
        "  - As the numbers of some classes are very high as compared to other classes.\n",
        "  - Thus we will use sampling technique in order to bring the classes count to same level.\n",
        "  - We will use SMOTE technique of over smapling the data.\n",
        "  - We will over sample all the other minority classes and try to bring it to majority class level.\n"
      ]
    },
    {
      "cell_type": "code",
      "metadata": {
        "id": "ttXfuC7lmw_v",
        "colab_type": "code",
        "colab": {
          "base_uri": "https://localhost:8080/",
          "height": 350
        },
        "outputId": "5ad2349f-86c6-4072-dcd2-5e55b0bf63f3"
      },
      "source": [
        "# Visualising the count of classes in the output variable\n",
        "import seaborn as sns\n",
        "sns.countplot(data.Delivery_Time)\n",
        "plt.xticks(rotation=90)"
      ],
      "execution_count": 74,
      "outputs": [
        {
          "output_type": "execute_result",
          "data": {
            "text/plain": [
              "(array([0, 1, 2, 3, 4, 5, 6]), <a list of 7 Text xticklabel objects>)"
            ]
          },
          "metadata": {
            "tags": []
          },
          "execution_count": 74
        },
        {
          "output_type": "display_data",
          "data": {
            "image/png": "[encoded data removed]",
            "text/plain": [
              "<Figure size 432x288 with 1 Axes>"
            ]
          },
          "metadata": {
            "tags": []
          }
        }
      ]
    },
    {
      "cell_type": "code",
      "metadata": {
        "id": "-th6NAD5Ls4c",
        "colab_type": "code",
        "colab": {}
      },
      "source": [
        "iv = data[[\"Location\",'Average_Cost','Minimum_Order',\n",
        "       'Votes', 'Reviews',\"Rating\"]]\n",
        "dv = data.iloc[:,-1]\n",
        "\n",
        "#log transformed values\n",
        "log_iv = data[[\"Location\",'Restaurant','Average_Cost', 'Minimum_Order',\n",
        "       'Votes', 'Reviews',\"Rating\"]].apply(lambda x : np.log(x+1))\n",
        "\n",
        "# over sampling the minority classes in the over all data\n",
        "from imblearn.over_sampling import SMOTE\n",
        "smote = SMOTE(sampling_strategy=\"not majority\" ,k_neighbors=3)\n",
        "x_sm,Y_sm = smote.fit_sample(iv,dv)\n",
        "\n",
        "from sklearn.model_selection import train_test_split\n",
        "# Splitted log transformed data\n",
        "trainxl,testxl,trainyl,testyl = train_test_split(log_iv,dv,test_size =0.1,random_state = 42)\n",
        "\n",
        "# Over sampling the minority classes only of the training data\n",
        "from imblearn.over_sampling import SMOTE\n",
        "smote1 = SMOTE(sampling_strategy=\"not majority\" ,k_neighbors=3)\n",
        "x_sm1,Y_sm1 = smote1.fit_sample(trainxl,trainyl)"
      ],
      "execution_count": 0,
      "outputs": []
    },
    {
      "cell_type": "code",
      "metadata": {
        "id": "9-dW6LR1FtpB",
        "colab_type": "code",
        "colab": {}
      },
      "source": [
        "# Importing classifiers , evaluation metrics and splitting the data\n",
        "\n",
        "from sklearn.ensemble import AdaBoostClassifier ,GradientBoostingClassifier, RandomForestClassifier\n",
        "from sklearn.tree import DecisionTreeClassifier\n",
        "from sklearn.metrics import confusion_matrix ,accuracy_score\n",
        "from xgboost import XGBClassifier\n",
        "\n",
        "\n",
        "\n",
        "#Splitted original data\n",
        "trainx,testx,trainy,testy = train_test_split(iv,dv,test_size = 0.2 )\n",
        "\n",
        "# Splitted over sampled data\n",
        "trainxs,testxs,trainys,testys = train_test_split(x_sm,Y_sm,test_size = 0.2)"
      ],
      "execution_count": 0,
      "outputs": []
    },
    {
      "cell_type": "code",
      "metadata": {
        "id": "oqIyRcvUmB0e",
        "colab_type": "code",
        "outputId": "37db19cc-f57c-4f34-b93b-86f74ea8a60c",
        "colab": {
          "base_uri": "https://localhost:8080/",
          "height": 158
        }
      },
      "source": [
        "#Randomforest on fully over sampled data\n",
        "rf=RandomForestClassifier(n_estimators =500, max_depth = 32)\n",
        "rf.fit(trainxs,trainys)\n",
        "predrf= rf.predict(testxs)\n",
        "print(confusion_matrix(testys,predrf))\n",
        "print(accuracy_score(testys,predrf))"
      ],
      "execution_count": 80,
      "outputs": [
        {
          "output_type": "stream",
          "text": [
            "[[1479    0    0    0    0    0    0]\n",
            " [   0 1485    0    4    1    1    0]\n",
            " [   0    0 1450    3    0    0    0]\n",
            " [   0   10    1 1261  158   49    0]\n",
            " [   0    6    4  148 1206   76    0]\n",
            " [   0   10    3   38   57 1371    1]\n",
            " [   0    0    0    0    2    0 1545]]\n",
            "0.9448355675571415\n"
          ],
          "name": "stdout"
        }
      ]
    },
    {
      "cell_type": "code",
      "metadata": {
        "id": "JLKioo6ppmNh",
        "colab_type": "code",
        "colab": {
          "base_uri": "https://localhost:8080/",
          "height": 158
        },
        "outputId": "accf4668-8414-43b3-8b84-ede8fd2bab9f"
      },
      "source": [
        "#XGB on fully oversampled data\n",
        "xgb=XGBClassifier(n_estimators =300, max_depth = 8,learning_rate=0.257)\n",
        "xgb.fit(trainxs,trainys)\n",
        "predxgb= xgb.predict(testxs)\n",
        "print(confusion_matrix(testys,predxgb))\n",
        "print(accuracy_score(testys,predxgb))"
      ],
      "execution_count": 89,
      "outputs": [
        {
          "output_type": "stream",
          "text": [
            "[[1479    0    0    0    0    0    0]\n",
            " [   0 1480    3    6    1    1    0]\n",
            " [   0    0 1451    2    0    0    0]\n",
            " [   0    7    2 1311  121   38    0]\n",
            " [   0    7    3  181 1146  103    0]\n",
            " [   0    9    2   46   89 1331    3]\n",
            " [   0    1    0    0    1    0 1545]]\n",
            "0.9396277365223261\n"
          ],
          "name": "stdout"
        }
      ]
    },
    {
      "cell_type": "code",
      "metadata": {
        "id": "Va75gvBPnTR_",
        "colab_type": "code",
        "colab": {
          "base_uri": "https://localhost:8080/",
          "height": 34
        },
        "outputId": "55cb4d9f-2f0b-4146-ed72-fbce26f9342a"
      },
      "source": [
        "# Performing k fold cross validation for for random Forest classifier\n",
        "from sklearn.model_selection import cross_val_score\n",
        "cm =cross_val_score(rf,x_sm,Y_sm,scoring=\"accuracy\",cv=4)\n",
        "cm.mean()"
      ],
      "execution_count": 82,
      "outputs": [
        {
          "output_type": "execute_result",
          "data": {
            "text/plain": [
              "0.9427128314106255"
            ]
          },
          "metadata": {
            "tags": []
          },
          "execution_count": 82
        }
      ]
    },
    {
      "cell_type": "code",
      "metadata": {
        "id": "e9vHVt9BFtpI",
        "colab_type": "code",
        "colab": {}
      },
      "source": [
        "from sklearn.model_selection import RandomizedSearchCV"
      ],
      "execution_count": 0,
      "outputs": []
    },
    {
      "cell_type": "code",
      "metadata": {
        "scrolled": false,
        "id": "6WXfFvmJFtpL",
        "colab_type": "code",
        "colab": {
          "base_uri": "https://localhost:8080/",
          "height": 34
        },
        "outputId": "e6506dc3-9e7a-43b0-f8f3-e086acf5e165"
      },
      "source": [
        "# Parameter tunning for random forest classifier\n",
        "params = {\"n_estimators\":[10,50,100,200,300,500],\"max_depth\":[4,8,16,32,64]}\n",
        "\n",
        "rs = RandomizedSearchCV(rf,param_distributions=params,scoring=\"accuracy\",cv = 4)\n",
        "rs.fit(iv,dv)\n",
        "rs.best_params_"
      ],
      "execution_count": 86,
      "outputs": [
        {
          "output_type": "execute_result",
          "data": {
            "text/plain": [
              "{'max_depth': 32, 'n_estimators': 500}"
            ]
          },
          "metadata": {
            "tags": []
          },
          "execution_count": 86
        }
      ]
    },
    {
      "cell_type": "code",
      "metadata": {
        "id": "4dE4ovoyqJi9",
        "colab_type": "code",
        "colab": {
          "base_uri": "https://localhost:8080/",
          "height": 34
        },
        "outputId": "e1e05b1a-ea62-4370-9361-f6922e95462c"
      },
      "source": [
        "# Parameter tunning for XGBOOST classifier\n",
        "params = {\"n_estimators\":[100,200,300,500],\"max_depth\":[4,8,16,32,64], \"learning_rate\":[0.257,0.5,0.75,0.8,0.875,0.95]}\n",
        "\n",
        "rsx = RandomizedSearchCV(xgb,param_distributions=params,scoring=\"accuracy\",cv = 4)\n",
        "rsx.fit(iv,dv)\n",
        "rsx.best_params_"
      ],
      "execution_count": 88,
      "outputs": [
        {
          "output_type": "execute_result",
          "data": {
            "text/plain": [
              "{'learning_rate': 0.257, 'max_depth': 8, 'n_estimators': 300}"
            ]
          },
          "metadata": {
            "tags": []
          },
          "execution_count": 88
        }
      ]
    },
    {
      "cell_type": "markdown",
      "metadata": {
        "id": "oT1AQ75KX3-J",
        "colab_type": "text"
      },
      "source": [
        "Loading Test.csv Dataset"
      ]
    },
    {
      "cell_type": "code",
      "metadata": {
        "id": "bavhESOUX9vQ",
        "colab_type": "code",
        "colab": {}
      },
      "source": [
        "testdata = pd.read_excel(\"/content/drive/My Drive/Data_Test.xlsx\")"
      ],
      "execution_count": 0,
      "outputs": []
    },
    {
      "cell_type": "code",
      "metadata": {
        "id": "ruIqL8nqX03G",
        "colab_type": "code",
        "outputId": "bfa9d633-8704-4d99-9153-d25ef85927f6",
        "colab": {
          "base_uri": "https://localhost:8080/",
          "height": 404
        }
      },
      "source": [
        "# checking the uniques before substituting and type casting\n",
        "testdata[\"Average_Cost\"]=testdata[\"Average_Cost\"].str.replace(\",\",\"\")\n",
        "\n",
        "# Extracting the numerical content out and filling the null values using ffill method and then type casting it to Integer\n",
        "testdata[\"Average_Cost\"]=testdata[\"Average_Cost\"].str.extract(\"(\\d{1,4})\").fillna(\"0\").astype(int)\n",
        "\n",
        "# Checking the uniques in \"Average_Cost\" after type casting\n",
        "testdata[\"Average_Cost\"].unique()\n",
        "\n",
        "\n",
        "# Extracting the numerical content out and filling the null values using ffill method and then type casting it to Integer\n",
        "testdata[\"Minimum_Order\"]=testdata[\"Minimum_Order\"].str.extract(\"(\\d{1,4})\").fillna(\"0\").astype(int)\n",
        "\n",
        "# checking the uniques in Minimum_Order\n",
        "testdata[\"Minimum_Order\"].unique()\n",
        "\n",
        "# checking the uniques in \"Ratings\"\n",
        "testdata[\"Rating\"].unique()\n",
        "\n",
        "print(testdata[testdata[\"Rating\"]==\"-\"][\"Rating\"].value_counts()/len(data)*100)\n",
        "print(testdata[testdata[\"Rating\"]==\"NEW\"][\"Rating\"].value_counts()/len(data)*100)\n",
        "print(testdata[testdata[\"Rating\"]==\"Temporarily Closed\"][\"Rating\"].value_counts()/len(data)*100)\n",
        "print(testdata[testdata[\"Rating\"]==\"Opening Soon\"][\"Rating\"].value_counts()/len(data)*100)\n",
        "\n",
        "# uniques in rating befor imputation\n",
        "data[\"Rating\"].unique()\n",
        "\n",
        "# replacing the special values with Nan values\n",
        "lss=['4.2', '3.6', '2.9', '3.4', '3.3', '3.8', '3.2', '3.1',\n",
        "       '4.1', '3.9','3.7', '4.0', '4.3', '3.0', '3.5', '2.6', '2.8',\n",
        "       '4.5', '2.7', '4.4', '2.1', '2.4', '4.7', '4.6', '2.5', '4.8',\n",
        "       '2.3']\n",
        "testdata[\"Rating\"].where(testdata[\"Rating\"].isin(lss),np.nan,inplace=True)\n",
        "testdata[\"Rating\"]=testdata[\"Rating\"].fillna(\"0\").astype(float)\n",
        "\n",
        "# checking the unique in \"Rating\" \n",
        "testdata[\"Rating\"].unique()\n",
        "\n",
        "testdata[\"Votes\"].unique()\n",
        "\n",
        "# extracting the numerical values and substituting the special chars by NaN.\n",
        "# Then changing it to float type.\n",
        "testdata[\"Votes\"]=testdata[\"Votes\"].str.extract(\"(\\d{1,5})\").astype(float)\n",
        "testdata[\"Votes\"].unique()\n",
        "\n",
        "# Imputing the nan values using Interpolate\n",
        "testdata[\"Votes\"]=testdata[\"Votes\"].fillna(\"0\").astype(float)\n",
        "\n",
        "# checking the null values in \"Votes\"\n",
        "testdata[\"Votes\"].isnull().sum()\n",
        "# checking the percentage of spcl char in Reviews\n",
        "testdata[testdata[\"Reviews\"]== \"-\"][\"Reviews\"].value_counts()/len(testdata)*100\n",
        "\n",
        "# substituting the special chars with null and then imputing the null values in \"Reviews\" .\n",
        "testdata[\"Reviews\"]=testdata[\"Reviews\"].replace(\"-\",np.nan).fillna(\"0\").astype(int)\n",
        "\n",
        "# checking the info after \n",
        "testdata.info()\n",
        "testdata[\"Location\"] = testdata[\"Location\"].str.split(\",\").str[-1].str.strip()\n",
        "\n",
        "# substituting the categorical values with its count in Location column\n",
        "loc_seriess =testdata.Location.value_counts()\n",
        "testdata[\"Location\"]= testdata[\"Location\"].map(loc_seriess)\n",
        "testdata[\"Location\"]\n",
        "\n",
        "# substituting the Restaurants names with its mean rating\n",
        "ratings = testdata.pivot_table(index = \"Restaurant\",values = \"Rating\")\n",
        "mapeds =pd.Series(ratings[\"Rating\"],index=rating.index)\n",
        "testdata[\"Restaurant\"]=testdata[\"Restaurant\"].map(mapeds)\n",
        "\n",
        "# Using XGBOOST classifier in order to classify the food delivery timings\n",
        "xgbt = XGBClassifier(n_estimators=500,max_depth=64,learning_rate=0.257)\n",
        "xgbt.fit(x_sm,Y_sm)\n",
        "\n",
        "\n",
        "# predicting the output\n",
        "ivtest = testdata[['Restaurant','Average_Cost', 'Minimum_Order',\n",
        "       'Votes', 'Reviews',\"Rating\"]].values\n",
        "predxgbt= xgbt.predict(ivtest)\n",
        "print(predxgbt)"
      ],
      "execution_count": 91,
      "outputs": [
        {
          "output_type": "stream",
          "text": [
            "-    2.749234\n",
            "Name: Rating, dtype: float64\n",
            "NEW    1.802776\n",
            "Name: Rating, dtype: float64\n",
            "Series([], Name: Rating, dtype: float64)\n",
            "Opening Soon    0.018028\n",
            "Name: Rating, dtype: float64\n",
            "<class 'pandas.core.frame.DataFrame'>\n",
            "RangeIndex: 2774 entries, 0 to 2773\n",
            "Data columns (total 8 columns):\n",
            "Restaurant       2774 non-null object\n",
            "Location         2774 non-null object\n",
            "Cuisines         2774 non-null object\n",
            "Average_Cost     2774 non-null int64\n",
            "Minimum_Order    2774 non-null int64\n",
            "Rating           2774 non-null float64\n",
            "Votes            2774 non-null float64\n",
            "Reviews          2774 non-null int64\n",
            "dtypes: float64(2), int64(3), object(3)\n",
            "memory usage: 173.5+ KB\n",
            "['30 minutes' '45 minutes' '30 minutes' ... '45 minutes' '120 minutes'\n",
            " '45 minutes']\n"
          ],
          "name": "stdout"
        }
      ]
    },
    {
      "cell_type": "code",
      "metadata": {
        "id": "HFaqxobLX1D5",
        "colab_type": "code",
        "colab": {
          "base_uri": "https://localhost:8080/",
          "height": 402
        },
        "outputId": "ca867be2-d529-4b6b-a3a3-8d914be77df1"
      },
      "source": [
        "# Storing the predicted output in the data frame with column name \"Deliver_Time\"\n",
        "\n",
        "finaldf = pd.DataFrame({\"Delivery_Time\":predxgbt})\n",
        "finaldf"
      ],
      "execution_count": 93,
      "outputs": [
        {
          "output_type": "execute_result",
          "data": {
            "text/html": [
              "<div>\n",
              "<style scoped>\n",
              "    .dataframe tbody tr th:only-of-type {\n",
              "        vertical-align: middle;\n",
              "    }\n",
              "\n",
              "    .dataframe tbody tr th {\n",
              "        vertical-align: top;\n",
              "    }\n",
              "\n",
              "    .dataframe thead th {\n",
              "        text-align: right;\n",
              "    }\n",
              "</style>\n",
              "<table border=\"1\" class=\"dataframe\">\n",
              "  <thead>\n",
              "    <tr style=\"text-align: right;\">\n",
              "      <th></th>\n",
              "      <th>Delivery_Time</th>\n",
              "    </tr>\n",
              "  </thead>\n",
              "  <tbody>\n",
              "    <tr>\n",
              "      <th>0</th>\n",
              "      <td>30 minutes</td>\n",
              "    </tr>\n",
              "    <tr>\n",
              "      <th>1</th>\n",
              "      <td>45 minutes</td>\n",
              "    </tr>\n",
              "    <tr>\n",
              "      <th>2</th>\n",
              "      <td>30 minutes</td>\n",
              "    </tr>\n",
              "    <tr>\n",
              "      <th>3</th>\n",
              "      <td>30 minutes</td>\n",
              "    </tr>\n",
              "    <tr>\n",
              "      <th>4</th>\n",
              "      <td>45 minutes</td>\n",
              "    </tr>\n",
              "    <tr>\n",
              "      <th>...</th>\n",
              "      <td>...</td>\n",
              "    </tr>\n",
              "    <tr>\n",
              "      <th>2769</th>\n",
              "      <td>45 minutes</td>\n",
              "    </tr>\n",
              "    <tr>\n",
              "      <th>2770</th>\n",
              "      <td>30 minutes</td>\n",
              "    </tr>\n",
              "    <tr>\n",
              "      <th>2771</th>\n",
              "      <td>45 minutes</td>\n",
              "    </tr>\n",
              "    <tr>\n",
              "      <th>2772</th>\n",
              "      <td>120 minutes</td>\n",
              "    </tr>\n",
              "    <tr>\n",
              "      <th>2773</th>\n",
              "      <td>45 minutes</td>\n",
              "    </tr>\n",
              "  </tbody>\n",
              "</table>\n",
              "<p>2774 rows × 1 columns</p>\n",
              "</div>"
            ],
            "text/plain": [
              "     Delivery_Time\n",
              "0       30 minutes\n",
              "1       45 minutes\n",
              "2       30 minutes\n",
              "3       30 minutes\n",
              "4       45 minutes\n",
              "...            ...\n",
              "2769    45 minutes\n",
              "2770    30 minutes\n",
              "2771    45 minutes\n",
              "2772   120 minutes\n",
              "2773    45 minutes\n",
              "\n",
              "[2774 rows x 1 columns]"
            ]
          },
          "metadata": {
            "tags": []
          },
          "execution_count": 93
        }
      ]
    },
    {
      "cell_type": "code",
      "metadata": {
        "id": "B21ilZOJX1HC",
        "colab_type": "code",
        "colab": {}
      },
      "source": [
        "# Writing the output to an excel file\n",
        "writer=pd.ExcelWriter(\"debjeetdas_submission_file.xlsx\")\n",
        "finaldf.to_excel(writer,index=False)\n",
        "writer.save()"
      ],
      "execution_count": 0,
      "outputs": []
    }
  ]
}