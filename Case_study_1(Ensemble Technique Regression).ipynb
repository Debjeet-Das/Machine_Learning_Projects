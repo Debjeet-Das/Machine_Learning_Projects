{
 "cells": [
  {
   "cell_type": "markdown",
   "metadata": {},
   "source": [
    "## Loading the Training Dataset :\n",
    "   - Importing Libraries to be used.\n",
    "   - Loading the dataset.\n",
    "   - Appending the Target Variable to the training_set as \"Total_booking\"\n",
    "   - Checking the shape and describing the training set."
   ]
  },
  {
   "cell_type": "code",
   "execution_count": 1,
   "metadata": {},
   "outputs": [],
   "source": [
    "# Importing Libraries\n",
    "import pandas as pd\n",
    "import numpy as np\n",
    "import matplotlib.pyplot as plt\n",
    "import seaborn as sns"
   ]
  },
  {
   "cell_type": "code",
   "execution_count": 2,
   "metadata": {},
   "outputs": [
    {
     "name": "stdout",
     "output_type": "stream",
     "text": [
      "Length of the Training Labels is 8708\n"
     ]
    }
   ],
   "source": [
    "# Loading the Training Variables\n",
    "train_set = pd.read_csv(\"train_cs1.csv\")\n",
    "\n",
    "# Loading the Training Labels\n",
    "train_label = pd.read_csv(\"train_label_cs1.csv\",names=[\"Total_booking\"])\n",
    "print(\"Length of the Training Labels is\",len(train_label.iloc[:,0]))"
   ]
  },
  {
   "cell_type": "code",
   "execution_count": 3,
   "metadata": {
    "scrolled": true
   },
   "outputs": [
    {
     "data": {
      "text/html": [
       "<div>\n",
       "<style scoped>\n",
       "    .dataframe tbody tr th:only-of-type {\n",
       "        vertical-align: middle;\n",
       "    }\n",
       "\n",
       "    .dataframe tbody tr th {\n",
       "        vertical-align: top;\n",
       "    }\n",
       "\n",
       "    .dataframe thead th {\n",
       "        text-align: right;\n",
       "    }\n",
       "</style>\n",
       "<table border=\"1\" class=\"dataframe\">\n",
       "  <thead>\n",
       "    <tr style=\"text-align: right;\">\n",
       "      <th></th>\n",
       "      <th>datetime</th>\n",
       "      <th>season</th>\n",
       "      <th>holiday</th>\n",
       "      <th>workingday</th>\n",
       "      <th>weather</th>\n",
       "      <th>temp</th>\n",
       "      <th>atemp</th>\n",
       "      <th>humidity</th>\n",
       "      <th>windspeed</th>\n",
       "      <th>Total_booking</th>\n",
       "    </tr>\n",
       "  </thead>\n",
       "  <tbody>\n",
       "    <tr>\n",
       "      <th>0</th>\n",
       "      <td>5/2/2012 19:00</td>\n",
       "      <td>Summer</td>\n",
       "      <td>0</td>\n",
       "      <td>1</td>\n",
       "      <td>Clear + Few clouds</td>\n",
       "      <td>22.14</td>\n",
       "      <td>25.760</td>\n",
       "      <td>77</td>\n",
       "      <td>16.9979</td>\n",
       "      <td>504</td>\n",
       "    </tr>\n",
       "    <tr>\n",
       "      <th>1</th>\n",
       "      <td>9/5/2012 4:00</td>\n",
       "      <td>Fall</td>\n",
       "      <td>0</td>\n",
       "      <td>1</td>\n",
       "      <td>Clear + Few clouds</td>\n",
       "      <td>28.70</td>\n",
       "      <td>33.335</td>\n",
       "      <td>79</td>\n",
       "      <td>19.0012</td>\n",
       "      <td>5</td>\n",
       "    </tr>\n",
       "    <tr>\n",
       "      <th>2</th>\n",
       "      <td>1/13/2011 9:00</td>\n",
       "      <td>Spring</td>\n",
       "      <td>0</td>\n",
       "      <td>1</td>\n",
       "      <td>Clear + Few clouds</td>\n",
       "      <td>5.74</td>\n",
       "      <td>6.060</td>\n",
       "      <td>50</td>\n",
       "      <td>22.0028</td>\n",
       "      <td>139</td>\n",
       "    </tr>\n",
       "    <tr>\n",
       "      <th>3</th>\n",
       "      <td>11/18/2011 16:00</td>\n",
       "      <td>Winter</td>\n",
       "      <td>0</td>\n",
       "      <td>1</td>\n",
       "      <td>Clear + Few clouds</td>\n",
       "      <td>13.94</td>\n",
       "      <td>16.665</td>\n",
       "      <td>29</td>\n",
       "      <td>8.9981</td>\n",
       "      <td>209</td>\n",
       "    </tr>\n",
       "    <tr>\n",
       "      <th>4</th>\n",
       "      <td>9/13/2011 13:00</td>\n",
       "      <td>Fall</td>\n",
       "      <td>0</td>\n",
       "      <td>1</td>\n",
       "      <td>Clear + Few clouds</td>\n",
       "      <td>30.34</td>\n",
       "      <td>33.335</td>\n",
       "      <td>51</td>\n",
       "      <td>19.0012</td>\n",
       "      <td>184</td>\n",
       "    </tr>\n",
       "  </tbody>\n",
       "</table>\n",
       "</div>"
      ],
      "text/plain": [
       "           datetime  season  holiday  workingday              weather   temp  \\\n",
       "0    5/2/2012 19:00  Summer        0           1   Clear + Few clouds  22.14   \n",
       "1     9/5/2012 4:00    Fall        0           1   Clear + Few clouds  28.70   \n",
       "2    1/13/2011 9:00  Spring        0           1   Clear + Few clouds   5.74   \n",
       "3  11/18/2011 16:00  Winter        0           1   Clear + Few clouds  13.94   \n",
       "4   9/13/2011 13:00    Fall        0           1   Clear + Few clouds  30.34   \n",
       "\n",
       "    atemp  humidity  windspeed  Total_booking  \n",
       "0  25.760        77    16.9979            504  \n",
       "1  33.335        79    19.0012              5  \n",
       "2   6.060        50    22.0028            139  \n",
       "3  16.665        29     8.9981            209  \n",
       "4  33.335        51    19.0012            184  "
      ]
     },
     "execution_count": 3,
     "metadata": {},
     "output_type": "execute_result"
    }
   ],
   "source": [
    "# Concating the Labels column to the training_set\n",
    "training_set = pd.concat([train_set,train_label],axis=1)\n",
    "training_set.head()"
   ]
  },
  {
   "cell_type": "markdown",
   "metadata": {},
   "source": [
    "## Deriving New Columns:\n",
    "  - Year\n",
    "  - Month Name\n",
    "  - Week Day\n",
    "  - Day of month"
   ]
  },
  {
   "cell_type": "code",
   "execution_count": 4,
   "metadata": {},
   "outputs": [],
   "source": [
    "# Adding Date Column to the dataset\n",
    "training_set[\"date\"]=training_set.datetime.str.split().str[0].str.strip()\n",
    "\n",
    "# Coverting the date Column to datetime64 format\n",
    "training_set[\"date\"]=pd.to_datetime(training_set[\"date\"])"
   ]
  },
  {
   "cell_type": "code",
   "execution_count": 5,
   "metadata": {},
   "outputs": [],
   "source": [
    "# Adding Hour Of day column to the dataset By extracting only the corresponding hours from the Datetime Column\n",
    "training_set[\"hour_of_day\"]=training_set.datetime.str.split().str[1].str.strip().str.split(\":\").str[0].astype(int)\n",
    "\n",
    "# Dropping the original datetime column\n",
    "DateTime = training_set.datetime\n",
    "training_set=training_set.drop(\"datetime\",axis=1)"
   ]
  },
  {
   "cell_type": "code",
   "execution_count": 6,
   "metadata": {},
   "outputs": [],
   "source": [
    "# Deriving Day Month And Year Columns and adding it to the dataset\n",
    "training_set[\"year\"]=training_set[\"date\"].dt.year\n",
    "training_set[\"weekday\"]=training_set[\"date\"].dt.weekday_name\n",
    "training_set[\"month\"]=training_set[\"date\"].dt.month_name()\n",
    "training_set[\"day\"]=training_set[\"date\"].dt.day\n",
    "\n",
    "# Dropping the date column\n",
    "training_set=training_set.drop(\"date\",axis=1)"
   ]
  },
  {
   "cell_type": "markdown",
   "metadata": {},
   "source": [
    "## Missing Value Treatment :\n",
    "  - Checking the percentage of null values.\n",
    "  - As we can see there are no null values in the training dataset."
   ]
  },
  {
   "cell_type": "code",
   "execution_count": 7,
   "metadata": {},
   "outputs": [
    {
     "data": {
      "text/plain": [
       "season           0.0\n",
       "holiday          0.0\n",
       "workingday       0.0\n",
       "weather          0.0\n",
       "temp             0.0\n",
       "atemp            0.0\n",
       "humidity         0.0\n",
       "windspeed        0.0\n",
       "Total_booking    0.0\n",
       "hour_of_day      0.0\n",
       "year             0.0\n",
       "weekday          0.0\n",
       "month            0.0\n",
       "day              0.0\n",
       "dtype: float64"
      ]
     },
     "execution_count": 7,
     "metadata": {},
     "output_type": "execute_result"
    }
   ],
   "source": [
    "# Checking the Percentage of null values.\n",
    "training_set.isnull().sum()/len(training_set)*100"
   ]
  },
  {
   "cell_type": "markdown",
   "metadata": {},
   "source": [
    "## Encoding the Categorical Variables :\n",
    "  - season (spring, summer, autumn & winter)\n",
    "  - weather (Clear, Cloudy, Light Rain & Heavy)\n",
    "  - month (January to December)\n",
    "  - weekday (Monday to Sunday)"
   ]
  },
  {
   "cell_type": "code",
   "execution_count": 8,
   "metadata": {},
   "outputs": [
    {
     "data": {
      "text/html": [
       "<div>\n",
       "<style scoped>\n",
       "    .dataframe tbody tr th:only-of-type {\n",
       "        vertical-align: middle;\n",
       "    }\n",
       "\n",
       "    .dataframe tbody tr th {\n",
       "        vertical-align: top;\n",
       "    }\n",
       "\n",
       "    .dataframe thead th {\n",
       "        text-align: right;\n",
       "    }\n",
       "</style>\n",
       "<table border=\"1\" class=\"dataframe\">\n",
       "  <thead>\n",
       "    <tr style=\"text-align: right;\">\n",
       "      <th></th>\n",
       "      <th>season</th>\n",
       "      <th>holiday</th>\n",
       "      <th>workingday</th>\n",
       "      <th>weather</th>\n",
       "      <th>temp</th>\n",
       "      <th>atemp</th>\n",
       "      <th>humidity</th>\n",
       "      <th>windspeed</th>\n",
       "      <th>Total_booking</th>\n",
       "      <th>hour_of_day</th>\n",
       "      <th>year</th>\n",
       "      <th>weekday</th>\n",
       "      <th>month</th>\n",
       "      <th>day</th>\n",
       "    </tr>\n",
       "  </thead>\n",
       "  <tbody>\n",
       "    <tr>\n",
       "      <th>0</th>\n",
       "      <td>Summer</td>\n",
       "      <td>0</td>\n",
       "      <td>1</td>\n",
       "      <td>Clear + Few clouds</td>\n",
       "      <td>22.14</td>\n",
       "      <td>25.760</td>\n",
       "      <td>77</td>\n",
       "      <td>16.9979</td>\n",
       "      <td>504</td>\n",
       "      <td>19</td>\n",
       "      <td>2012</td>\n",
       "      <td>Wednesday</td>\n",
       "      <td>May</td>\n",
       "      <td>2</td>\n",
       "    </tr>\n",
       "    <tr>\n",
       "      <th>1</th>\n",
       "      <td>Fall</td>\n",
       "      <td>0</td>\n",
       "      <td>1</td>\n",
       "      <td>Clear + Few clouds</td>\n",
       "      <td>28.70</td>\n",
       "      <td>33.335</td>\n",
       "      <td>79</td>\n",
       "      <td>19.0012</td>\n",
       "      <td>5</td>\n",
       "      <td>4</td>\n",
       "      <td>2012</td>\n",
       "      <td>Wednesday</td>\n",
       "      <td>September</td>\n",
       "      <td>5</td>\n",
       "    </tr>\n",
       "    <tr>\n",
       "      <th>2</th>\n",
       "      <td>Spring</td>\n",
       "      <td>0</td>\n",
       "      <td>1</td>\n",
       "      <td>Clear + Few clouds</td>\n",
       "      <td>5.74</td>\n",
       "      <td>6.060</td>\n",
       "      <td>50</td>\n",
       "      <td>22.0028</td>\n",
       "      <td>139</td>\n",
       "      <td>9</td>\n",
       "      <td>2011</td>\n",
       "      <td>Thursday</td>\n",
       "      <td>January</td>\n",
       "      <td>13</td>\n",
       "    </tr>\n",
       "    <tr>\n",
       "      <th>3</th>\n",
       "      <td>Winter</td>\n",
       "      <td>0</td>\n",
       "      <td>1</td>\n",
       "      <td>Clear + Few clouds</td>\n",
       "      <td>13.94</td>\n",
       "      <td>16.665</td>\n",
       "      <td>29</td>\n",
       "      <td>8.9981</td>\n",
       "      <td>209</td>\n",
       "      <td>16</td>\n",
       "      <td>2011</td>\n",
       "      <td>Friday</td>\n",
       "      <td>November</td>\n",
       "      <td>18</td>\n",
       "    </tr>\n",
       "    <tr>\n",
       "      <th>4</th>\n",
       "      <td>Fall</td>\n",
       "      <td>0</td>\n",
       "      <td>1</td>\n",
       "      <td>Clear + Few clouds</td>\n",
       "      <td>30.34</td>\n",
       "      <td>33.335</td>\n",
       "      <td>51</td>\n",
       "      <td>19.0012</td>\n",
       "      <td>184</td>\n",
       "      <td>13</td>\n",
       "      <td>2011</td>\n",
       "      <td>Tuesday</td>\n",
       "      <td>September</td>\n",
       "      <td>13</td>\n",
       "    </tr>\n",
       "  </tbody>\n",
       "</table>\n",
       "</div>"
      ],
      "text/plain": [
       "   season  holiday  workingday              weather   temp   atemp  humidity  \\\n",
       "0  Summer        0           1   Clear + Few clouds  22.14  25.760        77   \n",
       "1    Fall        0           1   Clear + Few clouds  28.70  33.335        79   \n",
       "2  Spring        0           1   Clear + Few clouds   5.74   6.060        50   \n",
       "3  Winter        0           1   Clear + Few clouds  13.94  16.665        29   \n",
       "4    Fall        0           1   Clear + Few clouds  30.34  33.335        51   \n",
       "\n",
       "   windspeed  Total_booking  hour_of_day  year    weekday      month  day  \n",
       "0    16.9979            504           19  2012  Wednesday        May    2  \n",
       "1    19.0012              5            4  2012  Wednesday  September    5  \n",
       "2    22.0028            139            9  2011   Thursday    January   13  \n",
       "3     8.9981            209           16  2011     Friday   November   18  \n",
       "4    19.0012            184           13  2011    Tuesday  September   13  "
      ]
     },
     "execution_count": 8,
     "metadata": {},
     "output_type": "execute_result"
    }
   ],
   "source": [
    "training_set.head()"
   ]
  },
  {
   "cell_type": "code",
   "execution_count": 9,
   "metadata": {},
   "outputs": [],
   "source": [
    "#Converting the weekday categories to numerical by substituting with its mean bookings each per category respectively\n",
    "weekday_mean = training_set.pivot_table(index=\"weekday\",values=\"Total_booking\")\n",
    "weekday_mean_ser = pd.Series(weekday_mean[\"Total_booking\"],index=weekday_mean.index)\n",
    "training_set.weekday = training_set.weekday.map(weekday_mean_ser)"
   ]
  },
  {
   "cell_type": "code",
   "execution_count": 10,
   "metadata": {},
   "outputs": [
    {
     "data": {
      "text/plain": [
       "array([' Clear + Few clouds', ' Light Snow, Light Rain',\n",
       "       ' Mist + Cloudy ', ' Heavy Rain + Thunderstorm '], dtype=object)"
      ]
     },
     "execution_count": 10,
     "metadata": {},
     "output_type": "execute_result"
    }
   ],
   "source": [
    "# Unique Categories in weather column\n",
    "training_set.weather.unique()"
   ]
  },
  {
   "cell_type": "code",
   "execution_count": 11,
   "metadata": {},
   "outputs": [
    {
     "data": {
      "text/html": [
       "<div>\n",
       "<style scoped>\n",
       "    .dataframe tbody tr th:only-of-type {\n",
       "        vertical-align: middle;\n",
       "    }\n",
       "\n",
       "    .dataframe tbody tr th {\n",
       "        vertical-align: top;\n",
       "    }\n",
       "\n",
       "    .dataframe thead th {\n",
       "        text-align: right;\n",
       "    }\n",
       "</style>\n",
       "<table border=\"1\" class=\"dataframe\">\n",
       "  <thead>\n",
       "    <tr style=\"text-align: right;\">\n",
       "      <th></th>\n",
       "      <th>Total_booking</th>\n",
       "    </tr>\n",
       "    <tr>\n",
       "      <th>weather</th>\n",
       "      <th></th>\n",
       "    </tr>\n",
       "  </thead>\n",
       "  <tbody>\n",
       "    <tr>\n",
       "      <th>Clear + Few clouds</th>\n",
       "      <td>206.015470</td>\n",
       "    </tr>\n",
       "    <tr>\n",
       "      <th>Mist + Cloudy</th>\n",
       "      <td>182.405975</td>\n",
       "    </tr>\n",
       "    <tr>\n",
       "      <th>Heavy Rain + Thunderstorm</th>\n",
       "      <td>164.000000</td>\n",
       "    </tr>\n",
       "    <tr>\n",
       "      <th>Light Snow, Light Rain</th>\n",
       "      <td>118.256637</td>\n",
       "    </tr>\n",
       "  </tbody>\n",
       "</table>\n",
       "</div>"
      ],
      "text/plain": [
       "                             Total_booking\n",
       "weather                                   \n",
       " Clear + Few clouds             206.015470\n",
       " Mist + Cloudy                  182.405975\n",
       " Heavy Rain + Thunderstorm      164.000000\n",
       " Light Snow, Light Rain         118.256637"
      ]
     },
     "execution_count": 11,
     "metadata": {},
     "output_type": "execute_result"
    }
   ],
   "source": [
    "# Weather by the mean target\n",
    "weather_mean = training_set.pivot_table(index=\"weather\",values=\"Total_booking\")\n",
    "weather_mean_ser = pd.Series(weather_mean[\"Total_booking\"],index=weather_mean.index)\n",
    "training_set.weather = training_set.weather.map(weather_mean_ser)\n",
    "weather_mean.sort_values(by=\"Total_booking\",ascending=False)"
   ]
  },
  {
   "cell_type": "code",
   "execution_count": 12,
   "metadata": {},
   "outputs": [
    {
     "data": {
      "text/plain": [
       "array(['Summer', 'Fall', 'Spring', 'Winter'], dtype=object)"
      ]
     },
     "execution_count": 12,
     "metadata": {},
     "output_type": "execute_result"
    }
   ],
   "source": [
    "# Unique Categories in season column\n",
    "training_set.season.unique()"
   ]
  },
  {
   "cell_type": "code",
   "execution_count": 13,
   "metadata": {},
   "outputs": [
    {
     "data": {
      "text/html": [
       "<div>\n",
       "<style scoped>\n",
       "    .dataframe tbody tr th:only-of-type {\n",
       "        vertical-align: middle;\n",
       "    }\n",
       "\n",
       "    .dataframe tbody tr th {\n",
       "        vertical-align: top;\n",
       "    }\n",
       "\n",
       "    .dataframe thead th {\n",
       "        text-align: right;\n",
       "    }\n",
       "</style>\n",
       "<table border=\"1\" class=\"dataframe\">\n",
       "  <thead>\n",
       "    <tr style=\"text-align: right;\">\n",
       "      <th></th>\n",
       "      <th>Total_booking</th>\n",
       "    </tr>\n",
       "    <tr>\n",
       "      <th>season</th>\n",
       "      <th></th>\n",
       "    </tr>\n",
       "  </thead>\n",
       "  <tbody>\n",
       "    <tr>\n",
       "      <th>Fall</th>\n",
       "      <td>237.344906</td>\n",
       "    </tr>\n",
       "    <tr>\n",
       "      <th>Summer</th>\n",
       "      <td>215.086482</td>\n",
       "    </tr>\n",
       "    <tr>\n",
       "      <th>Winter</th>\n",
       "      <td>200.666972</td>\n",
       "    </tr>\n",
       "    <tr>\n",
       "      <th>Spring</th>\n",
       "      <td>117.019663</td>\n",
       "    </tr>\n",
       "  </tbody>\n",
       "</table>\n",
       "</div>"
      ],
      "text/plain": [
       "        Total_booking\n",
       "season               \n",
       "Fall       237.344906\n",
       "Summer     215.086482\n",
       "Winter     200.666972\n",
       "Spring     117.019663"
      ]
     },
     "execution_count": 13,
     "metadata": {},
     "output_type": "execute_result"
    }
   ],
   "source": [
    "# Season by the mean target\n",
    "season_mean = training_set.pivot_table(index=\"season\",values=\"Total_booking\")\n",
    "season_mean_ser = pd.Series(season_mean[\"Total_booking\"],index=season_mean.index)\n",
    "training_set.season = training_set.season.map(season_mean_ser)\n",
    "season_mean.sort_values(by=\"Total_booking\",ascending=False)"
   ]
  },
  {
   "cell_type": "code",
   "execution_count": 14,
   "metadata": {},
   "outputs": [
    {
     "data": {
      "text/plain": [
       "array(['May', 'September', 'January', 'November', 'August', 'October',\n",
       "       'July', 'February', 'March', 'June', 'December', 'April'],\n",
       "      dtype=object)"
      ]
     },
     "execution_count": 14,
     "metadata": {},
     "output_type": "execute_result"
    }
   ],
   "source": [
    "# Month Categories in month column\n",
    "training_set.month.unique()"
   ]
  },
  {
   "cell_type": "code",
   "execution_count": 15,
   "metadata": {
    "scrolled": true
   },
   "outputs": [
    {
     "data": {
      "text/html": [
       "<div>\n",
       "<style scoped>\n",
       "    .dataframe tbody tr th:only-of-type {\n",
       "        vertical-align: middle;\n",
       "    }\n",
       "\n",
       "    .dataframe tbody tr th {\n",
       "        vertical-align: top;\n",
       "    }\n",
       "\n",
       "    .dataframe thead th {\n",
       "        text-align: right;\n",
       "    }\n",
       "</style>\n",
       "<table border=\"1\" class=\"dataframe\">\n",
       "  <thead>\n",
       "    <tr style=\"text-align: right;\">\n",
       "      <th></th>\n",
       "      <th>Total_booking</th>\n",
       "    </tr>\n",
       "    <tr>\n",
       "      <th>month</th>\n",
       "      <th></th>\n",
       "    </tr>\n",
       "  </thead>\n",
       "  <tbody>\n",
       "    <tr>\n",
       "      <th>April</th>\n",
       "      <td>180.146739</td>\n",
       "    </tr>\n",
       "    <tr>\n",
       "      <th>August</th>\n",
       "      <td>235.801642</td>\n",
       "    </tr>\n",
       "    <tr>\n",
       "      <th>December</th>\n",
       "      <td>179.090041</td>\n",
       "    </tr>\n",
       "    <tr>\n",
       "      <th>February</th>\n",
       "      <td>107.832642</td>\n",
       "    </tr>\n",
       "    <tr>\n",
       "      <th>January</th>\n",
       "      <td>91.033189</td>\n",
       "    </tr>\n",
       "    <tr>\n",
       "      <th>July</th>\n",
       "      <td>237.740791</td>\n",
       "    </tr>\n",
       "    <tr>\n",
       "      <th>June</th>\n",
       "      <td>243.039510</td>\n",
       "    </tr>\n",
       "    <tr>\n",
       "      <th>March</th>\n",
       "      <td>151.256944</td>\n",
       "    </tr>\n",
       "    <tr>\n",
       "      <th>May</th>\n",
       "      <td>222.236589</td>\n",
       "    </tr>\n",
       "    <tr>\n",
       "      <th>November</th>\n",
       "      <td>190.572973</td>\n",
       "    </tr>\n",
       "    <tr>\n",
       "      <th>October</th>\n",
       "      <td>233.325386</td>\n",
       "    </tr>\n",
       "    <tr>\n",
       "      <th>September</th>\n",
       "      <td>238.500690</td>\n",
       "    </tr>\n",
       "  </tbody>\n",
       "</table>\n",
       "</div>"
      ],
      "text/plain": [
       "           Total_booking\n",
       "month                   \n",
       "April         180.146739\n",
       "August        235.801642\n",
       "December      179.090041\n",
       "February      107.832642\n",
       "January        91.033189\n",
       "July          237.740791\n",
       "June          243.039510\n",
       "March         151.256944\n",
       "May           222.236589\n",
       "November      190.572973\n",
       "October       233.325386\n",
       "September     238.500690"
      ]
     },
     "execution_count": 15,
     "metadata": {},
     "output_type": "execute_result"
    }
   ],
   "source": [
    "# MOnth by mean of target\n",
    "month_mean = training_set.pivot_table(index=\"month\",values=\"Total_booking\")\n",
    "month_mean_ser = pd.Series(month_mean[\"Total_booking\"],index=month_mean.index)\n",
    "training_set.month = training_set.month.map(month_mean_ser)\n",
    "month_mean"
   ]
  },
  {
   "cell_type": "code",
   "execution_count": 16,
   "metadata": {
    "scrolled": true
   },
   "outputs": [
    {
     "data": {
      "text/html": [
       "<div>\n",
       "<style scoped>\n",
       "    .dataframe tbody tr th:only-of-type {\n",
       "        vertical-align: middle;\n",
       "    }\n",
       "\n",
       "    .dataframe tbody tr th {\n",
       "        vertical-align: top;\n",
       "    }\n",
       "\n",
       "    .dataframe thead th {\n",
       "        text-align: right;\n",
       "    }\n",
       "</style>\n",
       "<table border=\"1\" class=\"dataframe\">\n",
       "  <thead>\n",
       "    <tr style=\"text-align: right;\">\n",
       "      <th></th>\n",
       "      <th>Total_booking</th>\n",
       "    </tr>\n",
       "    <tr>\n",
       "      <th>holiday</th>\n",
       "      <th></th>\n",
       "    </tr>\n",
       "  </thead>\n",
       "  <tbody>\n",
       "    <tr>\n",
       "      <th>0</th>\n",
       "      <td>193.143499</td>\n",
       "    </tr>\n",
       "    <tr>\n",
       "      <th>1</th>\n",
       "      <td>188.350806</td>\n",
       "    </tr>\n",
       "  </tbody>\n",
       "</table>\n",
       "</div>"
      ],
      "text/plain": [
       "         Total_booking\n",
       "holiday               \n",
       "0           193.143499\n",
       "1           188.350806"
      ]
     },
     "execution_count": 16,
     "metadata": {},
     "output_type": "execute_result"
    }
   ],
   "source": [
    "# Holiday by mean of target\n",
    "holiday_mean = training_set.pivot_table(index=\"holiday\",values=\"Total_booking\")\n",
    "holiday_mean_ser = pd.Series(holiday_mean[\"Total_booking\"],index=holiday_mean.index)\n",
    "training_set.holiday = training_set.holiday.map(holiday_mean_ser)\n",
    "holiday_mean"
   ]
  },
  {
   "cell_type": "code",
   "execution_count": 17,
   "metadata": {
    "scrolled": true
   },
   "outputs": [
    {
     "data": {
      "text/html": [
       "<div>\n",
       "<style scoped>\n",
       "    .dataframe tbody tr th:only-of-type {\n",
       "        vertical-align: middle;\n",
       "    }\n",
       "\n",
       "    .dataframe tbody tr th {\n",
       "        vertical-align: top;\n",
       "    }\n",
       "\n",
       "    .dataframe thead th {\n",
       "        text-align: right;\n",
       "    }\n",
       "</style>\n",
       "<table border=\"1\" class=\"dataframe\">\n",
       "  <thead>\n",
       "    <tr style=\"text-align: right;\">\n",
       "      <th></th>\n",
       "      <th>season</th>\n",
       "      <th>holiday</th>\n",
       "      <th>workingday</th>\n",
       "      <th>weather</th>\n",
       "      <th>temp</th>\n",
       "      <th>atemp</th>\n",
       "      <th>humidity</th>\n",
       "      <th>windspeed</th>\n",
       "      <th>Total_booking</th>\n",
       "      <th>hour_of_day</th>\n",
       "      <th>year</th>\n",
       "      <th>weekday</th>\n",
       "      <th>month</th>\n",
       "      <th>day</th>\n",
       "    </tr>\n",
       "  </thead>\n",
       "  <tbody>\n",
       "    <tr>\n",
       "      <th>0</th>\n",
       "      <td>215.086482</td>\n",
       "      <td>193.143499</td>\n",
       "      <td>1</td>\n",
       "      <td>206.01547</td>\n",
       "      <td>22.14</td>\n",
       "      <td>25.760</td>\n",
       "      <td>77</td>\n",
       "      <td>16.9979</td>\n",
       "      <td>504</td>\n",
       "      <td>19</td>\n",
       "      <td>2012</td>\n",
       "      <td>193.173203</td>\n",
       "      <td>222.236589</td>\n",
       "      <td>2</td>\n",
       "    </tr>\n",
       "    <tr>\n",
       "      <th>1</th>\n",
       "      <td>237.344906</td>\n",
       "      <td>193.143499</td>\n",
       "      <td>1</td>\n",
       "      <td>206.01547</td>\n",
       "      <td>28.70</td>\n",
       "      <td>33.335</td>\n",
       "      <td>79</td>\n",
       "      <td>19.0012</td>\n",
       "      <td>5</td>\n",
       "      <td>4</td>\n",
       "      <td>2012</td>\n",
       "      <td>193.173203</td>\n",
       "      <td>238.500690</td>\n",
       "      <td>5</td>\n",
       "    </tr>\n",
       "    <tr>\n",
       "      <th>2</th>\n",
       "      <td>117.019663</td>\n",
       "      <td>193.143499</td>\n",
       "      <td>1</td>\n",
       "      <td>206.01547</td>\n",
       "      <td>5.74</td>\n",
       "      <td>6.060</td>\n",
       "      <td>50</td>\n",
       "      <td>22.0028</td>\n",
       "      <td>139</td>\n",
       "      <td>9</td>\n",
       "      <td>2011</td>\n",
       "      <td>195.135852</td>\n",
       "      <td>91.033189</td>\n",
       "      <td>13</td>\n",
       "    </tr>\n",
       "    <tr>\n",
       "      <th>3</th>\n",
       "      <td>200.666972</td>\n",
       "      <td>193.143499</td>\n",
       "      <td>1</td>\n",
       "      <td>206.01547</td>\n",
       "      <td>13.94</td>\n",
       "      <td>16.665</td>\n",
       "      <td>29</td>\n",
       "      <td>8.9981</td>\n",
       "      <td>209</td>\n",
       "      <td>16</td>\n",
       "      <td>2011</td>\n",
       "      <td>198.958435</td>\n",
       "      <td>190.572973</td>\n",
       "      <td>18</td>\n",
       "    </tr>\n",
       "    <tr>\n",
       "      <th>4</th>\n",
       "      <td>237.344906</td>\n",
       "      <td>193.143499</td>\n",
       "      <td>1</td>\n",
       "      <td>206.01547</td>\n",
       "      <td>30.34</td>\n",
       "      <td>33.335</td>\n",
       "      <td>51</td>\n",
       "      <td>19.0012</td>\n",
       "      <td>184</td>\n",
       "      <td>13</td>\n",
       "      <td>2011</td>\n",
       "      <td>193.008130</td>\n",
       "      <td>238.500690</td>\n",
       "      <td>13</td>\n",
       "    </tr>\n",
       "  </tbody>\n",
       "</table>\n",
       "</div>"
      ],
      "text/plain": [
       "       season     holiday  workingday    weather   temp   atemp  humidity  \\\n",
       "0  215.086482  193.143499           1  206.01547  22.14  25.760        77   \n",
       "1  237.344906  193.143499           1  206.01547  28.70  33.335        79   \n",
       "2  117.019663  193.143499           1  206.01547   5.74   6.060        50   \n",
       "3  200.666972  193.143499           1  206.01547  13.94  16.665        29   \n",
       "4  237.344906  193.143499           1  206.01547  30.34  33.335        51   \n",
       "\n",
       "   windspeed  Total_booking  hour_of_day  year     weekday       month  day  \n",
       "0    16.9979            504           19  2012  193.173203  222.236589    2  \n",
       "1    19.0012              5            4  2012  193.173203  238.500690    5  \n",
       "2    22.0028            139            9  2011  195.135852   91.033189   13  \n",
       "3     8.9981            209           16  2011  198.958435  190.572973   18  \n",
       "4    19.0012            184           13  2011  193.008130  238.500690   13  "
      ]
     },
     "execution_count": 17,
     "metadata": {},
     "output_type": "execute_result"
    }
   ],
   "source": [
    "training_set.head()"
   ]
  },
  {
   "cell_type": "code",
   "execution_count": null,
   "metadata": {},
   "outputs": [],
   "source": [
    "# Importing label encoder and instantiating it to variable \"le\" \n",
    "from sklearn.preprocessing import LabelEncoder\n",
    "le = LabelEncoder()"
   ]
  },
  {
   "cell_type": "code",
   "execution_count": null,
   "metadata": {},
   "outputs": [],
   "source": [
    "# label Encoding the value_counts of each category in weather\n",
    "training_set.weather = le.fit_transform(training_set.weather)\n",
    "training_set.weather.unique()\n",
    "\n",
    "# label Encoding the value_counts of each category in season\n",
    "training_set.season = le.fit_transform(training_set.season)\n",
    "training_set.season.unique()\n",
    "\n",
    "# label Encoding the value_counts of each category in month\n",
    "training_set.month = le.fit_transform(training_set.month)\n",
    "training_set.month.unique()\n",
    "\n",
    "# label Encoding the value_counts of each category in weekday\n",
    "training_set.weekday = le.fit_transform(training_set.weekday)\n",
    "training_set.weekday.unique()"
   ]
  },
  {
   "cell_type": "code",
   "execution_count": null,
   "metadata": {},
   "outputs": [],
   "source": [
    "# Adding target variable to the end\n",
    "training_set[\"Total_Booking\"] =training_set[\"Total_booking\"]\n",
    "training_set = training_set.drop(\"Total_booking\",axis=1)\n",
    "training_set = training_set.rename({\"Total_Booking\":\"Total_booking\"},axis=1)"
   ]
  },
  {
   "cell_type": "markdown",
   "metadata": {},
   "source": [
    "## Outlier Detection & Treatment :\n",
    "   - It is observed that the windspeed column has alot of outliers.\n",
    "   - All the Outlies are concentrated above the Upper Limit.\n",
    "   - Thus we will use capping method to remove the outliers.\n",
    "   - We will cap all the outlier values with the Upper Limit value."
   ]
  },
  {
   "cell_type": "code",
   "execution_count": null,
   "metadata": {
    "scrolled": false
   },
   "outputs": [],
   "source": [
    "# Outlier checking in the temp and atemp\n",
    "plt.figure(figsize=(10,5))\n",
    "\n",
    "plt.subplot(1,2,1)\n",
    "plt.boxplot([training_set[\"temp\"],training_set[\"atemp\"]])\n",
    "plt.xticks([1,2],[\"temp\",\"atemp\"])\n",
    "\n",
    "plt.subplot(1,2,2)\n",
    "plt.boxplot([training_set[\"humidity\"],training_set[\"windspeed\"]])\n",
    "plt.xticks([1,2],[\"humidity\",\"windspeed\"])"
   ]
  },
  {
   "cell_type": "code",
   "execution_count": null,
   "metadata": {},
   "outputs": [],
   "source": [
    "# Treatment of outlier in windspeed column\n",
    "IQR =training_set.windspeed.quantile(0.75) - training_set.windspeed.quantile(0.25) \n",
    "\n",
    "UL = training_set.windspeed.quantile(0.75)+1.5*IQR\n",
    "LL = training_set.windspeed.quantile(0.25)-1.5*IQR\n",
    "\n",
    "\n",
    "# Percentage of outlier in the windspeed column\n",
    "outliers = pd.DataFrame(np.where((training_set[\"windspeed\"]>UL),\"outlier\",\"not outlier\"),columns=[\"OUTLIER\"])\n",
    "no_of_outlier=outliers.groupby(\"OUTLIER\")[\"OUTLIER\"].count()[\"outlier\"]\n",
    "\n",
    "print(\"Percentage of outliers present in the windspeed column is {:.2f}\".format(no_of_outlier/len(outliers)*100))"
   ]
  },
  {
   "cell_type": "code",
   "execution_count": null,
   "metadata": {},
   "outputs": [],
   "source": [
    "# Total no of outliers in the windspeed column\n",
    "no_of_outlier"
   ]
  },
  {
   "cell_type": "code",
   "execution_count": null,
   "metadata": {},
   "outputs": [],
   "source": [
    "# Capping the Outlier values\n",
    "training_set.windspeed = np.where((training_set[\"windspeed\"]>UL),UL,training_set[\"windspeed\"])"
   ]
  },
  {
   "cell_type": "code",
   "execution_count": null,
   "metadata": {},
   "outputs": [],
   "source": [
    "# Thus we can see the outliers are removed from the windspeed column \n",
    "plt.boxplot([training_set[\"windspeed\"]])\n",
    "plt.xticks([1],[\"windspeed\"])"
   ]
  },
  {
   "cell_type": "code",
   "execution_count": null,
   "metadata": {},
   "outputs": [],
   "source": [
    "# Dropping the Year column and saving it in the variable YEAR\n",
    "YEAR = training_set[\"year\"]\n",
    "training_set =training_set.drop(\"year\",axis=1)"
   ]
  },
  {
   "cell_type": "markdown",
   "metadata": {},
   "source": [
    "# Exploratory Data Analysis:\n",
    "  - Correlation\n",
    "  - average no. of bookings during Weekdays and weekends\n",
    "  - Most no. of bookings at which range of Humidity level\n",
    "  - Change in behaviour of booking corresponding to various Seasons\n",
    "  - Peak Booking Hour Of the day\n",
    "  - Effect of weather on the Bookings\n",
    "  - Average no. of bookings at which Temperature range\n",
    "  - Forecasting the no. of bookings for next 4 month from Jan 2013\n",
    "  - Does atemp have any significant affect on the bookings\n",
    "  - What are the favorable Time of month where there is high expectation of bookings."
   ]
  },
  {
   "cell_type": "markdown",
   "metadata": {},
   "source": [
    "## Model Building :\n",
    " - To predict the Total_booking using Suitable Features"
   ]
  },
  {
   "cell_type": "code",
   "execution_count": null,
   "metadata": {},
   "outputs": [],
   "source": [
    "IV = training_set[[\"temp\",\"atemp\",\"hour_of_day\",\"humidity\",\"workingday\",\"season\",\"weather\",\"month\"]]#.apply(lambda x: np.log(x+1))\n",
    "DV = training_set['Total_booking']\n",
    "IV.head()"
   ]
  },
  {
   "cell_type": "code",
   "execution_count": null,
   "metadata": {},
   "outputs": [],
   "source": [
    "from sklearn.linear_model import LinearRegression,LassoCV,Ridge,Lasso,RidgeCV\n",
    "from sklearn.ensemble import RandomForestRegressor,GradientBoostingRegressor,VotingRegressor\n",
    "from xgboost import XGBRegressor\n",
    "from sklearn.metrics import r2_score,mean_squared_error\n",
    "from sklearn.model_selection import train_test_split,cross_val_score\n",
    "import math\n",
    "trainx,testx,trainy,testy = train_test_split(IV,DV,test_size=0.2)"
   ]
  },
  {
   "cell_type": "markdown",
   "metadata": {},
   "source": [
    "#### Correlation Using Heatmap :"
   ]
  },
  {
   "cell_type": "code",
   "execution_count": null,
   "metadata": {},
   "outputs": [],
   "source": [
    "# Checking the correlation using heatmap\n",
    "plt.figure(figsize=(10,10))\n",
    "sns.heatmap(training_set.corr(),annot=True,cmap=\"Blues\")"
   ]
  },
  {
   "cell_type": "markdown",
   "metadata": {},
   "source": [
    "- Here we can see temp,atemp & hour_of_day are High positively correlated to the Total_bookings\n",
    "- Whereas features like season, weather, workingday & month are weak positively correlated to the target variable.\n",
    "- While humidity is negetively correlated to the Total_Bookings\n",
    "- So these are the features which shows significant relation with the target variable."
   ]
  },
  {
   "cell_type": "code",
   "execution_count": null,
   "metadata": {},
   "outputs": [],
   "source": [
    "# Fitting the model using Simple linear regressor\n",
    "lr = LinearRegression()\n",
    "lr.fit(trainx,trainy)\n",
    "# intercept and coef values  \n",
    "print(\"Intercept: \",lr.intercept_)\n",
    "print(\"Coef values: \",lr.coef_,sep=\"\\n\")\n",
    "prediction = np.round(lr.predict(testx),0).astype(int)\n",
    "r2_score(testy,prediction)\n"
   ]
  },
  {
   "cell_type": "code",
   "execution_count": null,
   "metadata": {},
   "outputs": [],
   "source": [
    "# Fitting the model\n",
    "\n",
    "# Base models\n",
    "g = GradientBoostingRegressor(n_estimators=500)\n",
    "xg = XGBRegressor(n_estimators=500)\n",
    "r = RandomForestRegressor(n_estimators=400)\n",
    "\n",
    "\n",
    "# ensembling all the base models\n",
    "vo = VotingRegressor(estimators = [(\"rf\",r),(\"xg\",xg),(\"g\",g)])\n",
    "vo.fit(trainx,trainy)\n",
    "predvo = vo.predict(testx)\n",
    "r2_score(testy,predvo)"
   ]
  },
  {
   "cell_type": "code",
   "execution_count": null,
   "metadata": {},
   "outputs": [],
   "source": [
    "# Calculating the test RMSE\n",
    "math.sqrt(mean_squared_error(testy,predvo))"
   ]
  },
  {
   "cell_type": "markdown",
   "metadata": {},
   "source": [
    "### Loading Test Data"
   ]
  },
  {
   "cell_type": "code",
   "execution_count": null,
   "metadata": {},
   "outputs": [],
   "source": [
    "# Loading the test data and test label\n",
    "test_set = pd.read_csv(\"test_cs1.csv\")\n",
    "test_labels = pd.read_csv(\"test_label_cs1.csv\",names=[\"Total_booking\"])"
   ]
  },
  {
   "cell_type": "code",
   "execution_count": null,
   "metadata": {},
   "outputs": [],
   "source": [
    "# Concatinating the labels to the test_set\n",
    "test_set = pd.concat([test_set,test_labels],axis=1)"
   ]
  },
  {
   "cell_type": "code",
   "execution_count": null,
   "metadata": {},
   "outputs": [],
   "source": [
    "# Checking for null values\n",
    "test_set.isnull().sum()/len(test_set)*100"
   ]
  },
  {
   "cell_type": "code",
   "execution_count": null,
   "metadata": {
    "scrolled": true
   },
   "outputs": [],
   "source": [
    "# Adding Date Column to the dataset\n",
    "test_set[\"date\"]=test_set.datetime.str.split().str[0].str.strip()\n",
    "\n",
    "# Coverting the date Column to datetime64 format\n",
    "test_set[\"date\"]=pd.to_datetime(test_set[\"date\"])\n",
    "\n",
    "\n",
    "# Adding Hour Of day column to the dataset By extracting only the corresponding hours from the Datetime Column\n",
    "test_set[\"hour_of_day\"]=test_set.datetime.str.split().str[1].str.strip().str.split(\":\").str[0].astype(int)\n",
    "\n",
    "# Dropping the original datetime column\n",
    "test_set=test_set.drop(\"datetime\",axis=1)\n",
    "\n",
    "\n",
    "# Deriving Day Month And Year Columns and adding it to the dataset\n",
    "test_set[\"year\"]=test_set[\"date\"].dt.year\n",
    "test_set[\"weekday\"]=test_set[\"date\"].dt.weekday_name\n",
    "test_set[\"month\"]=test_set[\"date\"].dt.month_name()\n",
    "test_set[\"day\"]=test_set[\"date\"].dt.day\n",
    "\n",
    "# Dropping the date column\n",
    "test_set=test_set.drop(\"date\",axis=1)\n",
    "\n",
    "# Converting each of the category of weather column to numerical by substituting by its frequency.\n",
    "weather_meant = test_set.pivot_table(index=\"weather\",values=\"Total_booking\")\n",
    "weather_mean_sert = pd.Series(weather_meant[\"Total_booking\"],index=weather_meant.index)\n",
    "test_set.weather = test_set.weather.map(weather_mean_sert)\n",
    "\n",
    "# Converting each of the category of season column to numerical by substituting by its frequency.\n",
    "season_meant = test_set.pivot_table(index=\"season\",values=\"Total_booking\")\n",
    "season_mean_sert = pd.Series(season_meant[\"Total_booking\"],index=season_meant.index)\n",
    "test_set.season = test_set.season.map(season_mean_sert)\n",
    "\n",
    "# Converting each of the category of month column to numerical by substituting by its frequency.\n",
    "month_meant = test_set.pivot_table(index=\"month\",values=\"Total_booking\")\n",
    "month_mean_sert = pd.Series(month_meant[\"Total_booking\"],index=month_meant.index)\n",
    "test_set.month = test_set.month.map(month_mean_sert)\n",
    "\n",
    "# Converting each of the category of weekday column to numerical by substituting by its frequency.\n",
    "weekday_meant = test_set.pivot_table(index=\"weekday\",values=\"Total_booking\")\n",
    "weekday_mean_sert = pd.Series(weekday_meant[\"Total_booking\"],index=weekday_meant.index)\n",
    "test_set.weekday = test_set.weekday.map(weekday_mean_sert)\n",
    "\n",
    "# Importing label encoder and instantiating it to variable \"le\" \n",
    "from sklearn.preprocessing import LabelEncoder\n",
    "le = LabelEncoder()\n",
    "\n",
    "# label Encoding the value_counts of each category in weather\n",
    "test_set.weather = le.fit_transform(test_set.weather)\n",
    "test_set.weather.unique()\n",
    "\n",
    "# label Encoding the value_counts of each category in season\n",
    "test_set.season = le.fit_transform(test_set.season)\n",
    "test_set.season.unique()\n",
    "\n",
    "# label Encoding the value_counts of each category in month\n",
    "test_set.month = le.fit_transform(test_set.month)\n",
    "test_set.month.unique()\n",
    "\n",
    "# label Encoding the value_counts of each category in weekday\n",
    "test_set.weekday = le.fit_transform(test_set.weekday)\n",
    "test_set.weekday.unique()\n",
    "\n",
    "# Adding target variable to the end\n",
    "test_set[\"Total_Booking\"] =test_set[\"Total_booking\"]\n",
    "test_set = test_set.drop(\"Total_booking\",axis=1)\n",
    "test_set = test_set.rename({\"Total_Booking\":\"Total_booking\"},axis=1)\n",
    "\n",
    "# Dropping the Year column and saving it in the variable YEAR\n",
    "YEARt = test_set[\"year\"]\n",
    "test_set =test_set.drop(\"year\",axis=1)"
   ]
  },
  {
   "cell_type": "code",
   "execution_count": null,
   "metadata": {
    "scrolled": true
   },
   "outputs": [],
   "source": [
    "# Treatment of outlier in windspeed column\n",
    "IQRt1 =test_set.windspeed.quantile(0.75) - test_set.windspeed.quantile(0.25) \n",
    "\n",
    "ULt1 = test_set.windspeed.quantile(0.75)+1.5*IQRt1\n",
    "LLt1 = test_set.windspeed.quantile(0.25)-1.5*IQRt1\n",
    "\n",
    "\n",
    "# Treatment of outlier in humidity column\n",
    "IQRt2 =test_set.humidity.quantile(0.75) - test_set.humidity.quantile(0.25) \n",
    "\n",
    "ULt2 = test_set.humidity.quantile(0.75)+1.5*IQRt2\n",
    "LLt2 = test_set.humidity.quantile(0.25)-1.5*IQRt2\n",
    "\n",
    "\n",
    "# Outlier checking in the temp,atemp,windspeed & humidity\n",
    "plt.figure(figsize=(10,5))\n",
    "\n",
    "plt.subplot(1,2,1)\n",
    "plt.boxplot([test_set[\"temp\"],test_set[\"atemp\"]])\n",
    "plt.xticks([1,2],[\"temp\",\"atemp\"])\n",
    "\n",
    "plt.subplot(1,2,2)\n",
    "plt.boxplot([test_set[\"humidity\"],test_set[\"windspeed\"]])\n",
    "plt.xticks([1,2],[\"humidity\",\"windspeed\"])\n",
    "\n"
   ]
  },
  {
   "cell_type": "code",
   "execution_count": null,
   "metadata": {},
   "outputs": [],
   "source": [
    "# Capping the Outlier values in windspeed\n",
    "test_set.windspeed = np.where((test_set[\"windspeed\"]>ULt1),ULt1,test_set[\"windspeed\"])\n",
    "\n",
    "# Capping the Outlier values in humidity\n",
    "test_set.humidity = np.where((test_set[\"humidity\"]<LLt2),LLt2,test_set[\"humidity\"])"
   ]
  },
  {
   "cell_type": "code",
   "execution_count": null,
   "metadata": {},
   "outputs": [],
   "source": [
    "# After Outlier Treatment\n",
    "plt.boxplot([test_set[\"humidity\"],test_set[\"windspeed\"]])\n",
    "plt.xticks([1,2],[\"humidity\",\"windspeed\"])"
   ]
  },
  {
   "cell_type": "code",
   "execution_count": null,
   "metadata": {},
   "outputs": [],
   "source": [
    "# IVTest\n",
    "\n",
    "IVt = test_set[[\"temp\",\"atemp\",\"hour_of_day\",\"humidity\",\"workingday\",\"season\",\"weather\",\"month\"]]#.apply(lambda x: np.log(x+1))\n",
    "DVt = test_set['Total_booking']"
   ]
  },
  {
   "cell_type": "code",
   "execution_count": null,
   "metadata": {},
   "outputs": [],
   "source": [
    "# Creating the Final ensemble model using the whole training_set for training the model\n",
    "vom = VotingRegressor(estimators = [(\"rf\",r),(\"xg\",xg),(\"g\",g)])\n",
    "vom.fit(IV,DV)\n",
    "\n",
    "# Using the test_Set for predicting the total booking\n",
    "predvo = vom.predict(IVt)"
   ]
  },
  {
   "cell_type": "code",
   "execution_count": null,
   "metadata": {},
   "outputs": [],
   "source": [
    "# Evaluating the Model using R2Score and RMSE\n",
    "\n",
    "print(\"R2 Score is \",r2_score(DVt,predvo))\n",
    "\n",
    "print(\"Root Mean Squared Error is \",math.sqrt(mean_squared_error(DVt,predvo)))"
   ]
  }
 ],
 "metadata": {
  "kernelspec": {
   "display_name": "Python 3",
   "language": "python",
   "name": "python3"
  },
  "language_info": {
   "codemirror_mode": {
    "name": "ipython",
    "version": 3
   },
   "file_extension": ".py",
   "mimetype": "text/x-python",
   "name": "python",
   "nbconvert_exporter": "python",
   "pygments_lexer": "ipython3",
   "version": "3.7.3"
  }
 },
 "nbformat": 4,
 "nbformat_minor": 2
}
